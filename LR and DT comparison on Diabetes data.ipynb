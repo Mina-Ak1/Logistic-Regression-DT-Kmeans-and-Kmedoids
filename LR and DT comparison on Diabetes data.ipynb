{
 "cells": [
  {
   "cell_type": "markdown",
   "id": "f68a1776",
   "metadata": {},
   "source": [
    "**Comparison of Logistic Regression and Decision Tree model on the Diabetes data** <br>\n",
    "https://www.kaggle.com/uciml/pima-indians-diabetes-database <br>\n",
    "Using elbow method to find the optimal depth for the decision tree\n",
    "\n",
    "**Comparison of K-means and K-medoids models and their clusters on the Diabetes data** <br>\n",
    "Using elbow method for within total sum of squares to find the optimal number of clusters. <br>\n",
    "Implementing TSNE on the data and feed the model to compare how the models handle clustering of the raw data and the tsne data.\n"
   ]
  },
  {
   "cell_type": "code",
   "execution_count": 1021,
   "id": "90071fe8",
   "metadata": {
    "collapsed": true,
    "jupyter": {
     "outputs_hidden": true
    }
   },
   "outputs": [
    {
     "name": "stderr",
     "output_type": "stream",
     "text": [
      "also installing the dependencies 'cli', 'lifecycle', 'rlang', 'scales', 'vctrs'\n",
      "\n"
     ]
    },
    {
     "name": "stdout",
     "output_type": "stream",
     "text": [
      "\n",
      "  There are binary versions available but the source versions are later:\n",
      "          binary source needs_compilation\n",
      "cli        2.5.0  3.6.1              TRUE\n",
      "lifecycle  1.0.0  1.0.3             FALSE\n",
      "rlang     0.4.11  1.1.1              TRUE\n",
      "scales     1.1.1  1.2.1             FALSE\n",
      "vctrs      0.3.8  0.6.4              TRUE\n",
      "ggplot2    3.3.3  3.4.4             FALSE\n",
      "\n",
      "  Binaries will be installed\n",
      "package 'cli' successfully unpacked and MD5 sums checked\n",
      "package 'rlang' successfully unpacked and MD5 sums checked\n",
      "package 'vctrs' successfully unpacked and MD5 sums checked\n",
      "\n",
      "The downloaded binary packages are in\n",
      "\tC:\\Users\\minaa\\AppData\\Local\\Temp\\RtmpWCTfvs\\downloaded_packages\n"
     ]
    },
    {
     "name": "stderr",
     "output_type": "stream",
     "text": [
      "installing the source packages 'lifecycle', 'scales', 'ggplot2'\n",
      "\n",
      "Warning message in install.packages(\"ggplot2\"):\n",
      "\"installation of package 'lifecycle' had non-zero exit status\"Warning message in install.packages(\"ggplot2\"):\n",
      "\"installation of package 'scales' had non-zero exit status\"Warning message in install.packages(\"ggplot2\"):\n",
      "\"installation of package 'ggplot2' had non-zero exit status\""
     ]
    },
    {
     "name": "stdout",
     "output_type": "stream",
     "text": [
      "\n",
      "  There is a binary version available but the source version is later:\n",
      "       binary source needs_compilation\n",
      "pROC 1.17.0.1 1.18.4              TRUE\n",
      "\n",
      "  Binaries will be installed\n"
     ]
    },
    {
     "name": "stderr",
     "output_type": "stream",
     "text": [
      "Warning message:\n",
      "\"package 'pROC' is in use and will not be installed\""
     ]
    },
    {
     "name": "stdout",
     "output_type": "stream",
     "text": [
      "\n",
      "  There is a binary version available but the source version is later:\n",
      "      binary source needs_compilation\n",
      "rpart 4.1-15 4.1.21              TRUE\n",
      "\n",
      "  Binaries will be installed\n"
     ]
    },
    {
     "name": "stderr",
     "output_type": "stream",
     "text": [
      "Warning message:\n",
      "\"package 'rpart' is in use and will not be installed\""
     ]
    },
    {
     "name": "stdout",
     "output_type": "stream",
     "text": [
      "\n",
      "  There is a binary version available but the source version is later:\n",
      "           binary source needs_compilation\n",
      "rpart.plot  3.0.9  3.1.1             FALSE\n",
      "\n"
     ]
    },
    {
     "name": "stderr",
     "output_type": "stream",
     "text": [
      "installing the source package 'rpart.plot'\n",
      "\n"
     ]
    },
    {
     "name": "stdout",
     "output_type": "stream",
     "text": [
      "\n",
      "  There is a binary version available but the source version is later:\n",
      "     binary source needs_compilation\n",
      "tree 1.0-40 1.0-43              TRUE\n",
      "\n",
      "  Binaries will be installed\n"
     ]
    },
    {
     "name": "stderr",
     "output_type": "stream",
     "text": [
      "Warning message:\n",
      "\"package 'tree' is in use and will not be installed\"also installing the dependencies 'cli', 'pillar', 'tibble', 'tzdb', 'glue', 'timechange', 'lifecycle', 'rlang', 'scales', 'vctrs', 'dplyr', 'clock', 'hardhat', 'ipred', 'lubridate', 'purrr', 'tidyselect', 'ggplot2', 'recipes'\n",
      "\n"
     ]
    },
    {
     "name": "stdout",
     "output_type": "stream",
     "text": [
      "\n",
      "  There are binary versions available but the source versions are later:\n",
      "           binary source needs_compilation\n",
      "cli         2.5.0  3.6.1              TRUE\n",
      "pillar      1.6.0  1.9.0             FALSE\n",
      "tibble      3.1.1  3.2.1              TRUE\n",
      "tzdb        0.1.1  0.4.0              TRUE\n",
      "glue        1.4.2  1.6.2              TRUE\n",
      "timechange  0.0.2  0.2.0              TRUE\n",
      "lifecycle   1.0.0  1.0.3             FALSE\n",
      "rlang      0.4.11  1.1.1              TRUE\n",
      "scales      1.1.1  1.2.1             FALSE\n",
      "vctrs       0.3.8  0.6.4              TRUE\n",
      "dplyr       1.0.6  1.1.3              TRUE\n",
      "clock       0.3.0  0.7.0              TRUE\n",
      "hardhat     0.1.5  1.3.0             FALSE\n",
      "ipred      0.9-11 0.9-14              TRUE\n",
      "lubridate  1.7.10  1.9.3              TRUE\n",
      "purrr       0.3.4  1.0.2              TRUE\n",
      "tidyselect  1.1.1  1.2.0             FALSE\n",
      "ggplot2     3.3.3  3.4.4             FALSE\n",
      "recipes    0.1.16  1.0.8             FALSE\n",
      "caret      6.0-86 6.0-94              TRUE\n",
      "\n",
      "  Binaries will be installed\n",
      "package 'cli' successfully unpacked and MD5 sums checked\n",
      "package 'tibble' successfully unpacked and MD5 sums checked\n",
      "package 'tzdb' successfully unpacked and MD5 sums checked\n",
      "package 'glue' successfully unpacked and MD5 sums checked\n",
      "package 'timechange' successfully unpacked and MD5 sums checked\n",
      "package 'rlang' successfully unpacked and MD5 sums checked\n",
      "package 'vctrs' successfully unpacked and MD5 sums checked\n",
      "package 'dplyr' successfully unpacked and MD5 sums checked\n",
      "package 'clock' successfully unpacked and MD5 sums checked\n",
      "package 'ipred' successfully unpacked and MD5 sums checked\n",
      "package 'lubridate' successfully unpacked and MD5 sums checked\n",
      "package 'purrr' successfully unpacked and MD5 sums checked\n",
      "package 'caret' successfully unpacked and MD5 sums checked\n",
      "\n",
      "The downloaded binary packages are in\n",
      "\tC:\\Users\\minaa\\AppData\\Local\\Temp\\RtmpWCTfvs\\downloaded_packages\n"
     ]
    },
    {
     "name": "stderr",
     "output_type": "stream",
     "text": [
      "installing the source packages 'pillar', 'lifecycle', 'scales', 'hardhat', 'tidyselect', 'ggplot2', 'recipes'\n",
      "\n",
      "Warning message in install.packages(\"caret\"):\n",
      "\"installation of package 'lifecycle' had non-zero exit status\"Warning message in install.packages(\"caret\"):\n",
      "\"installation of package 'hardhat' had non-zero exit status\"Warning message in install.packages(\"caret\"):\n",
      "\"installation of package 'pillar' had non-zero exit status\"Warning message in install.packages(\"caret\"):\n",
      "\"installation of package 'scales' had non-zero exit status\"Warning message in install.packages(\"caret\"):\n",
      "\"installation of package 'tidyselect' had non-zero exit status\"Warning message in install.packages(\"caret\"):\n",
      "\"installation of package 'ggplot2' had non-zero exit status\"Warning message in install.packages(\"caret\"):\n",
      "\"installation of package 'recipes' had non-zero exit status\""
     ]
    },
    {
     "name": "stdout",
     "output_type": "stream",
     "text": [
      "\n",
      "  There is a binary version available but the source version is later:\n",
      "        binary source needs_compilation\n",
      "cluster  2.1.2  2.1.4              TRUE\n",
      "\n",
      "  Binaries will be installed\n"
     ]
    },
    {
     "name": "stderr",
     "output_type": "stream",
     "text": [
      "Warning message:\n",
      "\"package 'cluster' is in use and will not be installed\""
     ]
    },
    {
     "name": "stdout",
     "output_type": "stream",
     "text": [
      "\n",
      "  There is a binary version available but the source version is later:\n",
      "      binary source needs_compilation\n",
      "Rtsne   0.15   0.16              TRUE\n",
      "\n",
      "  Binaries will be installed\n"
     ]
    },
    {
     "name": "stderr",
     "output_type": "stream",
     "text": [
      "Warning message:\n",
      "\"package 'Rtsne' is in use and will not be installed\""
     ]
    }
   ],
   "source": [
    "#install.packages(\"ggplot2\")\n",
    "#install.packages(\"pROC\")\n",
    "#install.packages(\"rpart\")\n",
    "#install.packages(\"rpart.plot\")\n",
    "#install.packages(\"tree\")\n",
    "#install.packages(\"caret\")\n",
    "#install.packages(\"cluster\")\n",
    "#install.packages(\"Rtsne\")"
   ]
  },
  {
   "cell_type": "code",
   "execution_count": 1485,
   "id": "f1560f91",
   "metadata": {},
   "outputs": [
    {
     "ename": "ERROR",
     "evalue": "Error in library(ggplot2): there is no package called 'ggplot2'\n",
     "output_type": "error",
     "traceback": [
      "Error in library(ggplot2): there is no package called 'ggplot2'\nTraceback:\n",
      "1. library(ggplot2)"
     ]
    }
   ],
   "source": [
    "library(ggplot2)\n"
   ]
  },
  {
   "cell_type": "markdown",
   "id": "c7c8e839",
   "metadata": {},
   "source": [
    "Read the data and assign it to db  \\\n",
    "Check out its first few rows"
   ]
  },
  {
   "cell_type": "code",
   "execution_count": 1486,
   "id": "9aa229b0",
   "metadata": {
    "scrolled": true,
    "vscode": {
     "languageId": "r"
    }
   },
   "outputs": [
    {
     "data": {
      "text/html": [
       "<table>\n",
       "<thead><tr><th scope=col>Pregnancies</th><th scope=col>Glucose</th><th scope=col>BloodPressure</th><th scope=col>SkinThickness</th><th scope=col>Insulin</th><th scope=col>BMI</th><th scope=col>DiabetesPedigreeFunction</th><th scope=col>Age</th><th scope=col>Outcome</th></tr></thead>\n",
       "<tbody>\n",
       "\t<tr><td>6    </td><td>148  </td><td>72   </td><td>35   </td><td>  0  </td><td>33.6 </td><td>0.627</td><td>50   </td><td>1    </td></tr>\n",
       "\t<tr><td>1    </td><td> 85  </td><td>66   </td><td>29   </td><td>  0  </td><td>26.6 </td><td>0.351</td><td>31   </td><td>0    </td></tr>\n",
       "\t<tr><td>8    </td><td>183  </td><td>64   </td><td> 0   </td><td>  0  </td><td>23.3 </td><td>0.672</td><td>32   </td><td>1    </td></tr>\n",
       "\t<tr><td>1    </td><td> 89  </td><td>66   </td><td>23   </td><td> 94  </td><td>28.1 </td><td>0.167</td><td>21   </td><td>0    </td></tr>\n",
       "\t<tr><td>0    </td><td>137  </td><td>40   </td><td>35   </td><td>168  </td><td>43.1 </td><td>2.288</td><td>33   </td><td>1    </td></tr>\n",
       "\t<tr><td>5    </td><td>116  </td><td>74   </td><td> 0   </td><td>  0  </td><td>25.6 </td><td>0.201</td><td>30   </td><td>0    </td></tr>\n",
       "</tbody>\n",
       "</table>\n"
      ],
      "text/latex": [
       "\\begin{tabular}{r|lllllllll}\n",
       " Pregnancies & Glucose & BloodPressure & SkinThickness & Insulin & BMI & DiabetesPedigreeFunction & Age & Outcome\\\\\n",
       "\\hline\n",
       "\t 6     & 148   & 72    & 35    &   0   & 33.6  & 0.627 & 50    & 1    \\\\\n",
       "\t 1     &  85   & 66    & 29    &   0   & 26.6  & 0.351 & 31    & 0    \\\\\n",
       "\t 8     & 183   & 64    &  0    &   0   & 23.3  & 0.672 & 32    & 1    \\\\\n",
       "\t 1     &  89   & 66    & 23    &  94   & 28.1  & 0.167 & 21    & 0    \\\\\n",
       "\t 0     & 137   & 40    & 35    & 168   & 43.1  & 2.288 & 33    & 1    \\\\\n",
       "\t 5     & 116   & 74    &  0    &   0   & 25.6  & 0.201 & 30    & 0    \\\\\n",
       "\\end{tabular}\n"
      ],
      "text/markdown": [
       "\n",
       "| Pregnancies | Glucose | BloodPressure | SkinThickness | Insulin | BMI | DiabetesPedigreeFunction | Age | Outcome |\n",
       "|---|---|---|---|---|---|---|---|---|\n",
       "| 6     | 148   | 72    | 35    |   0   | 33.6  | 0.627 | 50    | 1     |\n",
       "| 1     |  85   | 66    | 29    |   0   | 26.6  | 0.351 | 31    | 0     |\n",
       "| 8     | 183   | 64    |  0    |   0   | 23.3  | 0.672 | 32    | 1     |\n",
       "| 1     |  89   | 66    | 23    |  94   | 28.1  | 0.167 | 21    | 0     |\n",
       "| 0     | 137   | 40    | 35    | 168   | 43.1  | 2.288 | 33    | 1     |\n",
       "| 5     | 116   | 74    |  0    |   0   | 25.6  | 0.201 | 30    | 0     |\n",
       "\n"
      ],
      "text/plain": [
       "  Pregnancies Glucose BloodPressure SkinThickness Insulin BMI \n",
       "1 6           148     72            35              0     33.6\n",
       "2 1            85     66            29              0     26.6\n",
       "3 8           183     64             0              0     23.3\n",
       "4 1            89     66            23             94     28.1\n",
       "5 0           137     40            35            168     43.1\n",
       "6 5           116     74             0              0     25.6\n",
       "  DiabetesPedigreeFunction Age Outcome\n",
       "1 0.627                    50  1      \n",
       "2 0.351                    31  0      \n",
       "3 0.672                    32  1      \n",
       "4 0.167                    21  0      \n",
       "5 2.288                    33  1      \n",
       "6 0.201                    30  0      "
      ]
     },
     "metadata": {},
     "output_type": "display_data"
    }
   ],
   "source": [
    "db = read.csv(\"diabetes.csv\")\n",
    "head(db)"
   ]
  },
  {
   "cell_type": "markdown",
   "id": "7e757a80",
   "metadata": {},
   "source": [
    "Check to see how many rows and columns our data has"
   ]
  },
  {
   "cell_type": "code",
   "execution_count": 1487,
   "id": "6766da9d",
   "metadata": {
    "vscode": {
     "languageId": "r"
    }
   },
   "outputs": [
    {
     "data": {
      "text/html": [
       "<ol class=list-inline>\n",
       "\t<li>768</li>\n",
       "\t<li>9</li>\n",
       "</ol>\n"
      ],
      "text/latex": [
       "\\begin{enumerate*}\n",
       "\\item 768\n",
       "\\item 9\n",
       "\\end{enumerate*}\n"
      ],
      "text/markdown": [
       "1. 768\n",
       "2. 9\n",
       "\n",
       "\n"
      ],
      "text/plain": [
       "[1] 768   9"
      ]
     },
     "metadata": {},
     "output_type": "display_data"
    }
   ],
   "source": [
    "dim(db)"
   ]
  },
  {
   "cell_type": "markdown",
   "id": "4732ed71",
   "metadata": {},
   "source": [
    "Check to see if there is any null value in our data"
   ]
  },
  {
   "cell_type": "code",
   "execution_count": 1488,
   "id": "65e4c29c",
   "metadata": {
    "vscode": {
     "languageId": "r"
    }
   },
   "outputs": [
    {
     "data": {
      "text/html": [
       "0"
      ],
      "text/latex": [
       "0"
      ],
      "text/markdown": [
       "0"
      ],
      "text/plain": [
       "[1] 0"
      ]
     },
     "metadata": {},
     "output_type": "display_data"
    }
   ],
   "source": [
    "sum(is.na(db))"
   ]
  },
  {
   "cell_type": "markdown",
   "id": "70adc15c",
   "metadata": {},
   "source": [
    "Check to see which columns have zero values in them and then figure out if they acctually mean something or if they are impossible to be zero in real life."
   ]
  },
  {
   "cell_type": "code",
   "execution_count": 1489,
   "id": "8a145872",
   "metadata": {},
   "outputs": [
    {
     "data": {
      "text/plain": [
       "  Pregnancies        Glucose      BloodPressure    SkinThickness  \n",
       " Min.   : 0.000   Min.   :  0.0   Min.   :  0.00   Min.   : 0.00  \n",
       " 1st Qu.: 1.000   1st Qu.: 99.0   1st Qu.: 62.00   1st Qu.: 0.00  \n",
       " Median : 3.000   Median :117.0   Median : 72.00   Median :23.00  \n",
       " Mean   : 3.845   Mean   :120.9   Mean   : 69.11   Mean   :20.54  \n",
       " 3rd Qu.: 6.000   3rd Qu.:140.2   3rd Qu.: 80.00   3rd Qu.:32.00  \n",
       " Max.   :17.000   Max.   :199.0   Max.   :122.00   Max.   :99.00  \n",
       "    Insulin           BMI        DiabetesPedigreeFunction      Age       \n",
       " Min.   :  0.0   Min.   : 0.00   Min.   :0.0780           Min.   :21.00  \n",
       " 1st Qu.:  0.0   1st Qu.:27.30   1st Qu.:0.2437           1st Qu.:24.00  \n",
       " Median : 30.5   Median :32.00   Median :0.3725           Median :29.00  \n",
       " Mean   : 79.8   Mean   :31.99   Mean   :0.4719           Mean   :33.24  \n",
       " 3rd Qu.:127.2   3rd Qu.:36.60   3rd Qu.:0.6262           3rd Qu.:41.00  \n",
       " Max.   :846.0   Max.   :67.10   Max.   :2.4200           Max.   :81.00  \n",
       "    Outcome     \n",
       " Min.   :0.000  \n",
       " 1st Qu.:0.000  \n",
       " Median :0.000  \n",
       " Mean   :0.349  \n",
       " 3rd Qu.:1.000  \n",
       " Max.   :1.000  "
      ]
     },
     "metadata": {},
     "output_type": "display_data"
    }
   ],
   "source": [
    "summary(db)"
   ]
  },
  {
   "cell_type": "markdown",
   "id": "c1efb982",
   "metadata": {},
   "source": [
    "***Discussion:*** \\\n",
    "It looks like \"BloodPressure\", \"SkinThickness\" and \"BMI\" have zero values. This could mean the incorrect value was inserted or it was not available. Now we need to do something about them before running any models on our data."
   ]
  },
  {
   "cell_type": "code",
   "execution_count": 1490,
   "id": "8c9b9b33",
   "metadata": {},
   "outputs": [
    {
     "data": {
      "text/html": [
       "<ol class=list-inline>\n",
       "\t<li>231</li>\n",
       "\t<li>9</li>\n",
       "</ol>\n"
      ],
      "text/latex": [
       "\\begin{enumerate*}\n",
       "\\item 231\n",
       "\\item 9\n",
       "\\end{enumerate*}\n"
      ],
      "text/markdown": [
       "1. 231\n",
       "2. 9\n",
       "\n",
       "\n"
      ],
      "text/plain": [
       "[1] 231   9"
      ]
     },
     "metadata": {},
     "output_type": "display_data"
    }
   ],
   "source": [
    "dim(db[which(db$BloodPressure ==0 | db$SkinThickness == 0 | db$BMI== 0),])"
   ]
  },
  {
   "cell_type": "markdown",
   "id": "33aca917",
   "metadata": {},
   "source": [
    "***Discussion:*** \\\n",
    "There are 231 rows with 0 value in \"BloodPressure\", \"SkinThickness\" or \"BMI\". \\\n",
    "This is not a small number so I prefer to keep these rows and substitute the zero values with the mean of the related column. \\\n",
    "This way we avoid feeding our model misinformation without throwing away 231 of our data points. "
   ]
  },
  {
   "cell_type": "code",
   "execution_count": 1491,
   "id": "162cb962",
   "metadata": {
    "scrolled": true
   },
   "outputs": [],
   "source": [
    "bloodp_mean = mean(db[which(db$BloodPressure !=0), ]$BloodPressure)\n",
    "skint_mean = mean(db[which(db$SkinThickness !=0), ]$SkinThickness)\n",
    "bmi_mean = mean(db[which(db$BMI !=0), ]$BMI)"
   ]
  },
  {
   "cell_type": "code",
   "execution_count": 1492,
   "id": "f9e42dfe",
   "metadata": {},
   "outputs": [],
   "source": [
    "db[which(db$BloodPressure ==0),]$BloodPressure = bloodp_mean\n",
    "db[which(db$SkinThickness ==0),]$SkinThickness = skint_mean\n",
    "db[which(db$BMI ==0),]$BMI = bmi_mean"
   ]
  },
  {
   "cell_type": "markdown",
   "id": "8e641cfb",
   "metadata": {},
   "source": [
    "Check to see the type of variables"
   ]
  },
  {
   "cell_type": "code",
   "execution_count": 1493,
   "id": "6802f350",
   "metadata": {
    "scrolled": true,
    "vscode": {
     "languageId": "r"
    }
   },
   "outputs": [
    {
     "name": "stdout",
     "output_type": "stream",
     "text": [
      "'data.frame':\t768 obs. of  9 variables:\n",
      " $ Pregnancies             : int  6 1 8 1 0 5 3 10 2 8 ...\n",
      " $ Glucose                 : int  148 85 183 89 137 116 78 115 197 125 ...\n",
      " $ BloodPressure           : num  72 66 64 66 40 ...\n",
      " $ SkinThickness           : num  35 29 29.2 23 35 ...\n",
      " $ Insulin                 : int  0 0 0 94 168 0 88 0 543 0 ...\n",
      " $ BMI                     : num  33.6 26.6 23.3 28.1 43.1 ...\n",
      " $ DiabetesPedigreeFunction: num  0.627 0.351 0.672 0.167 2.288 ...\n",
      " $ Age                     : int  50 31 32 21 33 30 26 29 53 54 ...\n",
      " $ Outcome                 : int  1 0 1 0 1 0 1 0 1 1 ...\n"
     ]
    }
   ],
   "source": [
    "str(db)"
   ]
  },
  {
   "cell_type": "markdown",
   "id": "461ff6f9",
   "metadata": {},
   "source": [
    "Change the \"Outcome\" column from integer to factor"
   ]
  },
  {
   "cell_type": "code",
   "execution_count": 1494,
   "id": "da552e9f",
   "metadata": {},
   "outputs": [
    {
     "data": {
      "text/html": [
       "TRUE"
      ],
      "text/latex": [
       "TRUE"
      ],
      "text/markdown": [
       "TRUE"
      ],
      "text/plain": [
       "[1] TRUE"
      ]
     },
     "metadata": {},
     "output_type": "display_data"
    }
   ],
   "source": [
    "db$Outcome <- factor(db$Outcome)\n",
    "is.factor(db$Outcome)"
   ]
  },
  {
   "cell_type": "markdown",
   "id": "fd30ab7e",
   "metadata": {},
   "source": [
    "<font size=\"3\"> **Part 1.1:**</font> "
   ]
  },
  {
   "cell_type": "markdown",
   "id": "91ae481f",
   "metadata": {},
   "source": [
    "Let's get a quick idea about how data is distributed in each column \\\n",
    "\"Outcome\" column is technically a categorical column with yes or no responses. So getting a summary on that does not help us much."
   ]
  },
  {
   "cell_type": "code",
   "execution_count": 1495,
   "id": "38688e8e",
   "metadata": {
    "vscode": {
     "languageId": "r"
    }
   },
   "outputs": [
    {
     "data": {
      "text/plain": [
       "  Pregnancies        Glucose      BloodPressure    SkinThickness  \n",
       " Min.   : 0.000   Min.   :  0.0   Min.   : 24.00   Min.   : 7.00  \n",
       " 1st Qu.: 1.000   1st Qu.: 99.0   1st Qu.: 64.00   1st Qu.:25.00  \n",
       " Median : 3.000   Median :117.0   Median : 72.20   Median :29.15  \n",
       " Mean   : 3.845   Mean   :120.9   Mean   : 72.41   Mean   :29.15  \n",
       " 3rd Qu.: 6.000   3rd Qu.:140.2   3rd Qu.: 80.00   3rd Qu.:32.00  \n",
       " Max.   :17.000   Max.   :199.0   Max.   :122.00   Max.   :99.00  \n",
       "    Insulin           BMI        DiabetesPedigreeFunction      Age       \n",
       " Min.   :  0.0   Min.   :18.20   Min.   :0.0780           Min.   :21.00  \n",
       " 1st Qu.:  0.0   1st Qu.:27.50   1st Qu.:0.2437           1st Qu.:24.00  \n",
       " Median : 30.5   Median :32.40   Median :0.3725           Median :29.00  \n",
       " Mean   : 79.8   Mean   :32.46   Mean   :0.4719           Mean   :33.24  \n",
       " 3rd Qu.:127.2   3rd Qu.:36.60   3rd Qu.:0.6262           3rd Qu.:41.00  \n",
       " Max.   :846.0   Max.   :67.10   Max.   :2.4200           Max.   :81.00  "
      ]
     },
     "metadata": {},
     "output_type": "display_data"
    }
   ],
   "source": [
    "summary(db[,-9])"
   ]
  },
  {
   "cell_type": "markdown",
   "id": "caf5e526",
   "metadata": {},
   "source": [
    "Plot box plots will give us a visual idea about how the data is distributed in each column and what the median is. \\\n",
    "Insulin has a much larger range and will make the box plot disproportional, therefore we will look at the last 3 columns."
   ]
  },
  {
   "cell_type": "code",
   "execution_count": 1496,
   "id": "347c51ca",
   "metadata": {},
   "outputs": [
    {
     "data": {
      "image/png": "[encoded data removed]",
      "text/plain": [
       "plot without title"
      ]
     },
     "metadata": {},
     "output_type": "display_data"
    }
   ],
   "source": [
    "opar = par(no.readonly = TRUE)\n",
    "boxplot(db[,c(-5)], las=2,col=\"beige\", border=\"darkgreen\")"
   ]
  },
  {
   "cell_type": "markdown",
   "id": "a112be81",
   "metadata": {},
   "source": [
    "Now let's put them in 3 boxplots based on their approximate range to be able to look at them easily."
   ]
  },
  {
   "cell_type": "code",
   "execution_count": 1497,
   "id": "b1b5cce6",
   "metadata": {
    "vscode": {
     "languageId": "r"
    }
   },
   "outputs": [
    {
     "data": {
      "image/png": "[encoded data removed]",
      "text/plain": [
       "plot without title"
      ]
     },
     "metadata": {},
     "output_type": "display_data"
    },
    {
     "data": {
      "image/png": "[encoded data removed]",
      "text/plain": [
       "plot without title"
      ]
     },
     "metadata": {},
     "output_type": "display_data"
    }
   ],
   "source": [
    "par(mfrow=c(1,2))\n",
    "boxplot(db[,c(1,6,7,8)], las=2,col=\"beige\", border=\"darkgreen\")\n",
    "boxplot(db[,c(2,3)], las =2,col=\"beige\", border=\"darkgreen\")\n",
    "boxplot(db[,c(5)], las =2,col=\"beige\", border=\"darkgreen\")\n",
    "#options(repr.plot.width =7 , repr.plot.height =3.5)\n"
   ]
  },
  {
   "cell_type": "markdown",
   "id": "7253c5cd",
   "metadata": {},
   "source": [
    "***Discussion:*** \\\n",
    "It looks like that Glucose and BloodPressure have approximately normal distributions. However the other columns have some skewness to them. "
   ]
  },
  {
   "cell_type": "code",
   "execution_count": 1498,
   "id": "f32b0e37",
   "metadata": {
    "vscode": {
     "languageId": "r"
    }
   },
   "outputs": [
    {
     "data": {
      "image/png": "[encoded data removed]",
      "text/plain": [
       "Plot with title \"Histogram of db$Insulin\""
      ]
     },
     "metadata": {},
     "output_type": "display_data"
    }
   ],
   "source": [
    "par(pin = c(3,2))\n",
    "hist(db$Insulin, xlab= \"Insulin\",col=\"lightgreen\", border=\"navy\")"
   ]
  },
  {
   "cell_type": "markdown",
   "id": "84f5375f",
   "metadata": {},
   "source": [
    "For example the Insulin values have a right skewed distribution, having more frequency under 200."
   ]
  },
  {
   "cell_type": "code",
   "execution_count": 1499,
   "id": "5c64d85e",
   "metadata": {},
   "outputs": [
    {
     "data": {
      "image/png": "[encoded data removed]",
      "text/plain": [
       "Plot with title \"Density Plot\""
      ]
     },
     "metadata": {},
     "output_type": "display_data"
    }
   ],
   "source": [
    "par(pin = c(3,2))\n",
    "plot(density(db$DiabetesPedigreeFunction), xlab=\"DiabetesPedigreeFunction\", main= \"Density Plot\")"
   ]
  },
  {
   "cell_type": "markdown",
   "id": "1feff69d",
   "metadata": {},
   "source": [
    "The \"DiabetesPedigreeFunction\" also has a right skewed distribution, with more concentration below 0.5."
   ]
  },
  {
   "cell_type": "code",
   "execution_count": 1500,
   "id": "7edbcbcc",
   "metadata": {},
   "outputs": [
    {
     "data": {
      "image/png": "[encoded data removed]",
      "text/plain": [
       "Plot with title \"Histogram of db$Age\""
      ]
     },
     "metadata": {},
     "output_type": "display_data"
    }
   ],
   "source": [
    "par(pin = c(3,2))\n",
    "hist(db$Age, xlab = \"Age\",col=\"lightgreen\", border=\"navy\")"
   ]
  },
  {
   "cell_type": "markdown",
   "id": "1d7ebefb",
   "metadata": {},
   "source": [
    "We did not include the Outcome column in our box plot because it is a binary column, so let's look at its distribution below"
   ]
  },
  {
   "cell_type": "code",
   "execution_count": 1501,
   "id": "aa8ade1f",
   "metadata": {},
   "outputs": [
    {
     "data": {
      "image/png": "[encoded data removed]",
      "text/plain": [
       "Plot with title \"Box plot of outcome\""
      ]
     },
     "metadata": {},
     "output_type": "display_data"
    }
   ],
   "source": [
    "par(pin = c(3,2))\n",
    "plot(db$Outcome,col=\"lightblue\", border=\"navy\", main = \"Box plot of outcome\")\n"
   ]
  },
  {
   "cell_type": "markdown",
   "id": "0c163881",
   "metadata": {},
   "source": [
    "<font size=\"3\"> **Part 1.2:**</font> "
   ]
  },
  {
   "cell_type": "markdown",
   "id": "0fc7f5ae",
   "metadata": {},
   "source": [
    "***Discussion:*** \\\n",
    "The \"Glucose\" has approximately a normal distribution. We compared the mean and median value and they are close to each other but not exactly the same."
   ]
  },
  {
   "cell_type": "code",
   "execution_count": 1502,
   "id": "eb713a44",
   "metadata": {},
   "outputs": [
    {
     "name": "stdout",
     "output_type": "stream",
     "text": [
      "Mean: 120.8945\n",
      "Median: 117"
     ]
    }
   ],
   "source": [
    "cat(\"Mean:\" ,mean(db$Glucose)) \n",
    "cat(\"\\n\")\n",
    "cat(\"Median:\" ,median(db$Glucose))"
   ]
  },
  {
   "cell_type": "code",
   "execution_count": 1503,
   "id": "9003aec5",
   "metadata": {
    "vscode": {
     "languageId": "r"
    }
   },
   "outputs": [
    {
     "data": {
      "image/png": "[encoded data removed]",
      "text/plain": [
       "Plot with title \"Histogram of db$Glucose\""
      ]
     },
     "metadata": {},
     "output_type": "display_data"
    }
   ],
   "source": [
    "par(mfrow=c(1,2))\n",
    "hist(db$Glucose, xlab = \"Glucose\",col=\"lightgreen\", border=\"navy\")\n",
    "boxplot(db$Glucose, xlab = \"Glucose\",col=\"lightgreen\", border=\"navy\")\n"
   ]
  },
  {
   "cell_type": "markdown",
   "id": "4d9d12a4",
   "metadata": {},
   "source": [
    "We can also compare its distribution against a normal one by using qqnorm plot."
   ]
  },
  {
   "cell_type": "code",
   "execution_count": 1504,
   "id": "1798561e",
   "metadata": {},
   "outputs": [
    {
     "data": {
      "image/png": "[encoded data removed]",
      "text/plain": [
       "Plot with title \"Normal Q-Q Plot\""
      ]
     },
     "metadata": {},
     "output_type": "display_data"
    }
   ],
   "source": [
    "par(pin = c(3,1.5))\n",
    "qqnorm(db$Glucose)\n",
    "qqline(db$Glucose, col = \"red\")"
   ]
  },
  {
   "cell_type": "markdown",
   "id": "a56e643e",
   "metadata": {},
   "source": [
    "***Discussion:*** \\\n",
    "In the qq plot it looks like the Glucose quantiles are following along the straight line approximately. So the distribution is somehow normal."
   ]
  },
  {
   "cell_type": "markdown",
   "id": "f638443d",
   "metadata": {},
   "source": [
    "<font size=\"3\"> **Part 1.3:**</font> "
   ]
  },
  {
   "cell_type": "markdown",
   "id": "64b06b8d",
   "metadata": {},
   "source": [
    "Divide data based on \"Outcome = 1\" and \"Outcome = 0\" and get the \"Age\" column."
   ]
  },
  {
   "cell_type": "code",
   "execution_count": 1505,
   "id": "ecb8f39d",
   "metadata": {
    "vscode": {
     "languageId": "r"
    }
   },
   "outputs": [],
   "source": [
    "data1 = db[which(db$Outcome == 1),\"Age\"]\n",
    "data2 = db[which(db$Outcome == 0),\"Age\"]"
   ]
  },
  {
   "cell_type": "markdown",
   "id": "94b08409",
   "metadata": {},
   "source": [
    "Run the t test on data1 and data2"
   ]
  },
  {
   "cell_type": "code",
   "execution_count": 1506,
   "id": "8ec06696",
   "metadata": {
    "scrolled": true,
    "vscode": {
     "languageId": "r"
    }
   },
   "outputs": [
    {
     "data": {
      "text/plain": [
       "\n",
       "\tWelch Two Sample t-test\n",
       "\n",
       "data:  data1 and data2\n",
       "t = 6.9207, df = 575.78, p-value = 1.202e-11\n",
       "alternative hypothesis: true difference in means is not equal to 0\n",
       "95 percent confidence interval:\n",
       " 4.209236 7.545092\n",
       "sample estimates:\n",
       "mean of x mean of y \n",
       " 37.06716  31.19000 \n"
      ]
     },
     "metadata": {},
     "output_type": "display_data"
    }
   ],
   "source": [
    "t.test(data1, data2)"
   ]
  },
  {
   "cell_type": "markdown",
   "id": "3e5ceb72",
   "metadata": {},
   "source": [
    "***Discussion:*** \\\n",
    "h_0 null hypothesis: data1 and data2 have the same distribution \\\n",
    "h_a alternative hypothesis: not h_0\n",
    "\n",
    "Based on the result of the t-test above, the p value is smaller than alpha=0.05, which is statistically significant. \\\n",
    "We reject the null hypothesis with 95% confidence and conclude that the two distributions of data1 and data2 are different (their means are different). \\\n",
    "In other words, people with diabetes and people without diabetes do not have the same age distribution, which means there could be some relationship between the age and possibility of having diabetes."
   ]
  },
  {
   "cell_type": "markdown",
   "id": "899b77c1",
   "metadata": {},
   "source": [
    "<font size=\"3\"> **Part 1.4:**</font> "
   ]
  },
  {
   "cell_type": "markdown",
   "id": "bb3f0c3f",
   "metadata": {},
   "source": [
    "Split 70% of the db data into training set, by randomly selecting 70% of the number of rows of our data frame and putting the remaining into our test set."
   ]
  },
  {
   "cell_type": "code",
   "execution_count": 1507,
   "id": "6d768318",
   "metadata": {
    "vscode": {
     "languageId": "r"
    }
   },
   "outputs": [],
   "source": [
    "set.seed(5)\n",
    "train_rows = sort(sample(nrow(db), nrow(db)*.7))\n",
    "db_train = db[train_rows,]\n",
    "db_test = db[-train_rows,]"
   ]
  },
  {
   "cell_type": "markdown",
   "id": "b59bb379",
   "metadata": {},
   "source": [
    " <font size=\"5\"> **LOGISTIC REGRESSION**</font> "
   ]
  },
  {
   "cell_type": "markdown",
   "id": "bb4c0e20",
   "metadata": {
    "vscode": {
     "languageId": "r"
    }
   },
   "source": [
    "<font size=\"3\"> **Part 1.5 and 1.6:**</font> "
   ]
  },
  {
   "cell_type": "code",
   "execution_count": 1508,
   "id": "83ee017b",
   "metadata": {
    "scrolled": true
   },
   "outputs": [
    {
     "data": {
      "text/plain": [
       "\n",
       "  0   1 \n",
       "500 268 "
      ]
     },
     "metadata": {},
     "output_type": "display_data"
    }
   ],
   "source": [
    "table(db$Outcome)"
   ]
  },
  {
   "cell_type": "markdown",
   "id": "c513bb99",
   "metadata": {},
   "source": [
    "Produce a logistic regression model to predict the ’Outcome’ variable using all the other variables and comment on the\n",
    "results. Using the training data."
   ]
  },
  {
   "cell_type": "code",
   "execution_count": 1509,
   "id": "d96ba333",
   "metadata": {},
   "outputs": [],
   "source": [
    "model_log<- glm(Outcome ~ ., data = db_train, family = \"binomial\")"
   ]
  },
  {
   "cell_type": "code",
   "execution_count": 1510,
   "id": "cfe5a8a5",
   "metadata": {},
   "outputs": [
    {
     "data": {
      "text/plain": [
       "\n",
       "Call:\n",
       "glm(formula = Outcome ~ ., family = \"binomial\", data = db_train)\n",
       "\n",
       "Deviance Residuals: \n",
       "    Min       1Q   Median       3Q      Max  \n",
       "-2.7601  -0.7219  -0.3970   0.7333   2.7872  \n",
       "\n",
       "Coefficients:\n",
       "                           Estimate Std. Error z value Pr(>|z|)    \n",
       "(Intercept)              -9.6932436  0.9900221  -9.791  < 2e-16 ***\n",
       "Pregnancies               0.1003623  0.0380991   2.634  0.00843 ** \n",
       "Glucose                   0.0336843  0.0042731   7.883 3.20e-15 ***\n",
       "BloodPressure             0.0005227  0.0101244   0.052  0.95883    \n",
       "SkinThickness            -0.0094044  0.0150734  -0.624  0.53269    \n",
       "Insulin                  -0.0008422  0.0010745  -0.784  0.43314    \n",
       "BMI                       0.1151058  0.0220036   5.231 1.68e-07 ***\n",
       "DiabetesPedigreeFunction  1.1409275  0.3742409   3.049  0.00230 ** \n",
       "Age                       0.0127854  0.0114108   1.120  0.26251    \n",
       "---\n",
       "Signif. codes:  0 '***' 0.001 '**' 0.01 '*' 0.05 '.' 0.1 ' ' 1\n",
       "\n",
       "(Dispersion parameter for binomial family taken to be 1)\n",
       "\n",
       "    Null deviance: 702.55  on 536  degrees of freedom\n",
       "Residual deviance: 501.99  on 528  degrees of freedom\n",
       "AIC: 519.99\n",
       "\n",
       "Number of Fisher Scoring iterations: 5\n"
      ]
     },
     "metadata": {},
     "output_type": "display_data"
    }
   ],
   "source": [
    "summary(model_log)"
   ]
  },
  {
   "cell_type": "markdown",
   "id": "e8a52fd2",
   "metadata": {},
   "source": [
    "Let's look at the coefficients of our model and their significance."
   ]
  },
  {
   "cell_type": "markdown",
   "id": "10447de4",
   "metadata": {},
   "source": [
    "Which coefficinets are insignificant with alpha=0.05?"
   ]
  },
  {
   "cell_type": "code",
   "execution_count": 1511,
   "id": "3a9ee367",
   "metadata": {
    "scrolled": true
   },
   "outputs": [
    {
     "data": {
      "text/html": [
       "<dl class=dl-horizontal>\n",
       "\t<dt>(Intercept)</dt>\n",
       "\t\t<dd>1</dd>\n",
       "\t<dt>Pregnancies</dt>\n",
       "\t\t<dd>2</dd>\n",
       "\t<dt>Glucose</dt>\n",
       "\t\t<dd>3</dd>\n",
       "\t<dt>BMI</dt>\n",
       "\t\t<dd>7</dd>\n",
       "\t<dt>DiabetesPedigreeFunction</dt>\n",
       "\t\t<dd>8</dd>\n",
       "</dl>\n"
      ],
      "text/latex": [
       "\\begin{description*}\n",
       "\\item[(Intercept)] 1\n",
       "\\item[Pregnancies] 2\n",
       "\\item[Glucose] 3\n",
       "\\item[BMI] 7\n",
       "\\item[DiabetesPedigreeFunction] 8\n",
       "\\end{description*}\n"
      ],
      "text/markdown": [
       "(Intercept)\n",
       ":   1Pregnancies\n",
       ":   2Glucose\n",
       ":   3BMI\n",
       ":   7DiabetesPedigreeFunction\n",
       ":   8\n",
       "\n"
      ],
      "text/plain": [
       "             (Intercept)              Pregnancies                  Glucose \n",
       "                       1                        2                        3 \n",
       "                     BMI DiabetesPedigreeFunction \n",
       "                       7                        8 "
      ]
     },
     "metadata": {},
     "output_type": "display_data"
    }
   ],
   "source": [
    "alpha = 0.05\n",
    "which(summary(model_log)$coef[,4] < alpha)"
   ]
  },
  {
   "cell_type": "markdown",
   "id": "c225a2ff",
   "metadata": {},
   "source": [
    "***Discussion:*** \\\n",
    "Based on the p values of the coefficients for different columns in our model, \\\n",
    "with 95% confidence (if we set the alpha = 0.05) we cannot reject the h_0 for Age, BloodPressure and SkinThickness, \\\n",
    "which means these three do not improve our models for predicting diabetes. \\\n",
    "This sounds counter intuitive for Age. Specially when we saw that Age column and Outcome column did have some correlation."
   ]
  },
  {
   "cell_type": "code",
   "execution_count": 1512,
   "id": "5e90e8a5",
   "metadata": {
    "scrolled": true
   },
   "outputs": [],
   "source": [
    "coef_data = coef(model_log)"
   ]
  },
  {
   "cell_type": "code",
   "execution_count": 1513,
   "id": "076185a6",
   "metadata": {},
   "outputs": [
    {
     "data": {
      "image/png": "[encoded data removed]",
      "text/plain": [
       "Plot with title \"Coefficient Plot\""
      ]
     },
     "metadata": {},
     "output_type": "display_data"
    }
   ],
   "source": [
    "par(pin = c(3,1.5))\n",
    "barplot(coef_data, beside=TRUE, las=2, main=\"Coefficient Plot\", \n",
    "        horiz=TRUE, col=\"lightgreen\", border=\"black\", cex.names=0.7)\n",
    "abline(v=0, col=\"red\", lwd=2)"
   ]
  },
  {
   "cell_type": "markdown",
   "id": "470223d7",
   "metadata": {},
   "source": [
    "Predict probabilities for Outcome with our logistic regression model."
   ]
  },
  {
   "cell_type": "code",
   "execution_count": 1514,
   "id": "67887ae5",
   "metadata": {
    "scrolled": true
   },
   "outputs": [
    {
     "data": {
      "text/html": [
       "<dl class=dl-horizontal>\n",
       "\t<dt>1</dt>\n",
       "\t\t<dd>0.695271079094355</dd>\n",
       "\t<dt>2</dt>\n",
       "\t\t<dd>0.0427246607501852</dd>\n",
       "\t<dt>3</dt>\n",
       "\t\t<dd>0.709090773051189</dd>\n",
       "\t<dt>4</dt>\n",
       "\t\t<dd>0.0406036375718955</dd>\n",
       "\t<dt>6</dt>\n",
       "\t\t<dd>0.123473238056749</dd>\n",
       "\t<dt>7</dt>\n",
       "\t\t<dd>0.0506879277723832</dd>\n",
       "</dl>\n"
      ],
      "text/latex": [
       "\\begin{description*}\n",
       "\\item[1] 0.695271079094355\n",
       "\\item[2] 0.0427246607501852\n",
       "\\item[3] 0.709090773051189\n",
       "\\item[4] 0.0406036375718955\n",
       "\\item[6] 0.123473238056749\n",
       "\\item[7] 0.0506879277723832\n",
       "\\end{description*}\n"
      ],
      "text/markdown": [
       "1\n",
       ":   0.6952710790943552\n",
       ":   0.04272466075018523\n",
       ":   0.7090907730511894\n",
       ":   0.04060363757189556\n",
       ":   0.1234732380567497\n",
       ":   0.0506879277723832\n",
       "\n"
      ],
      "text/plain": [
       "         1          2          3          4          6          7 \n",
       "0.69527108 0.04272466 0.70909077 0.04060364 0.12347324 0.05068793 "
      ]
     },
     "metadata": {},
     "output_type": "display_data"
    }
   ],
   "source": [
    "predicted_prob_log = predict(model_log,type=\"response\")\n",
    "head(predicted_prob_log)"
   ]
  },
  {
   "cell_type": "markdown",
   "id": "b8946e3b",
   "metadata": {},
   "source": [
    "We would like to convert the probability values to 0 and 1 to be able to compare them to our Outcome values. \\\n",
    "We will assign 0 to probabilities less than 0.5 and 1 to equal to or above 0.5."
   ]
  },
  {
   "cell_type": "code",
   "execution_count": 1515,
   "id": "5f6182c5",
   "metadata": {
    "scrolled": true
   },
   "outputs": [
    {
     "data": {
      "text/html": [
       "<dl class=dl-horizontal>\n",
       "\t<dt>1</dt>\n",
       "\t\t<dd>1</dd>\n",
       "\t<dt>2</dt>\n",
       "\t\t<dd>0</dd>\n",
       "\t<dt>3</dt>\n",
       "\t\t<dd>1</dd>\n",
       "\t<dt>4</dt>\n",
       "\t\t<dd>0</dd>\n",
       "\t<dt>6</dt>\n",
       "\t\t<dd>0</dd>\n",
       "\t<dt>7</dt>\n",
       "\t\t<dd>0</dd>\n",
       "</dl>\n"
      ],
      "text/latex": [
       "\\begin{description*}\n",
       "\\item[1] 1\n",
       "\\item[2] 0\n",
       "\\item[3] 1\n",
       "\\item[4] 0\n",
       "\\item[6] 0\n",
       "\\item[7] 0\n",
       "\\end{description*}\n"
      ],
      "text/markdown": [
       "1\n",
       ":   12\n",
       ":   03\n",
       ":   14\n",
       ":   06\n",
       ":   07\n",
       ":   0\n",
       "\n"
      ],
      "text/plain": [
       "1 2 3 4 6 7 \n",
       "1 0 1 0 0 0 "
      ]
     },
     "metadata": {},
     "output_type": "display_data"
    }
   ],
   "source": [
    "predicted_outcome_log = ifelse(predicted_prob_log < 0.5, 0, 1)\n",
    "head(predicted_outcome_log)"
   ]
  },
  {
   "cell_type": "code",
   "execution_count": 1516,
   "id": "8c427222",
   "metadata": {},
   "outputs": [
    {
     "data": {
      "text/html": [
       "0.782122905027933"
      ],
      "text/latex": [
       "0.782122905027933"
      ],
      "text/markdown": [
       "0.782122905027933"
      ],
      "text/plain": [
       "[1] 0.7821229"
      ]
     },
     "metadata": {},
     "output_type": "display_data"
    }
   ],
   "source": [
    "accuracy_log_train = mean(db_train$Outcome == predicted_outcome_log)\n",
    "accuracy_log_train"
   ]
  },
  {
   "cell_type": "markdown",
   "id": "70700bb3",
   "metadata": {},
   "source": [
    "***Discussion:*** \\\n",
    "Our logistic model has correctly predicted 76% of our training data. \\\n",
    "This could be investigated more by looking at the sensitivity and specificity of our logistic regression model."
   ]
  },
  {
   "cell_type": "markdown",
   "id": "a02a2dae",
   "metadata": {},
   "source": [
    "It looks like our model did a good job for true positives and true negatives"
   ]
  },
  {
   "cell_type": "code",
   "execution_count": 1421,
   "id": "92028bd0",
   "metadata": {},
   "outputs": [
    {
     "data": {
      "text/plain": [
       "        predicted\n",
       "observed   0   1\n",
       "       0 301  42\n",
       "       1  75 119"
      ]
     },
     "metadata": {},
     "output_type": "display_data"
    }
   ],
   "source": [
    "table(observed = db_train$Outcome, predicted = predicted_outcome_log)"
   ]
  },
  {
   "cell_type": "markdown",
   "id": "c5058607",
   "metadata": {},
   "source": [
    "Let's see what our AUC score is:"
   ]
  },
  {
   "cell_type": "code",
   "execution_count": 1422,
   "id": "e3f944d7",
   "metadata": {
    "scrolled": true
   },
   "outputs": [
    {
     "name": "stderr",
     "output_type": "stream",
     "text": [
      "Setting levels: control = 0, case = 1\n",
      "Setting direction: controls < cases\n"
     ]
    },
    {
     "data": {
      "text/html": [
       "0.745476541131917"
      ],
      "text/latex": [
       "0.745476541131917"
      ],
      "text/markdown": [
       "0.745476541131917"
      ],
      "text/plain": [
       "Area under the curve: 0.7455"
      ]
     },
     "metadata": {},
     "output_type": "display_data"
    }
   ],
   "source": [
    "library(pROC)\n",
    "auc(db_train$Outcome, predicted_outcome_log)"
   ]
  },
  {
   "cell_type": "markdown",
   "id": "c0d89e5a",
   "metadata": {},
   "source": [
    "<font size=\"3\"> **Part 1.7:**</font> "
   ]
  },
  {
   "cell_type": "markdown",
   "id": "0548a0b5",
   "metadata": {},
   "source": [
    "Logistic Regression on the selected features with comparable accuracy:\n",
    "Let's see which features had larger p-values in our full model. This means the features that our model estimated to have less effect on predicting our outcomes."
   ]
  },
  {
   "cell_type": "code",
   "execution_count": 1423,
   "id": "f08fd196",
   "metadata": {
    "scrolled": true
   },
   "outputs": [
    {
     "data": {
      "text/html": [
       "<table>\n",
       "<thead><tr><th></th><th scope=col>Estimate</th><th scope=col>Std. Error</th><th scope=col>z value</th><th scope=col>Pr(&gt;|z|)</th></tr></thead>\n",
       "<tbody>\n",
       "\t<tr><th scope=row>BloodPressure</th><td> 0.0005226893</td><td>0.010124450  </td><td> 0.05162644  </td><td>0.9588263    </td></tr>\n",
       "\t<tr><th scope=row>SkinThickness</th><td>-0.0094043630</td><td>0.015073434  </td><td>-0.62390314  </td><td>0.5326912    </td></tr>\n",
       "\t<tr><th scope=row>Insulin</th><td>-0.0008422249</td><td>0.001074494  </td><td>-0.78383415  </td><td>0.4331374    </td></tr>\n",
       "\t<tr><th scope=row>Age</th><td> 0.0127854230</td><td>0.011410757  </td><td> 1.12047103  </td><td>0.2625131    </td></tr>\n",
       "</tbody>\n",
       "</table>\n"
      ],
      "text/latex": [
       "\\begin{tabular}{r|llll}\n",
       "  & Estimate & Std. Error & z value & Pr(>\\textbar{}z\\textbar{})\\\\\n",
       "\\hline\n",
       "\tBloodPressure &  0.0005226893 & 0.010124450   &  0.05162644   & 0.9588263    \\\\\n",
       "\tSkinThickness & -0.0094043630 & 0.015073434   & -0.62390314   & 0.5326912    \\\\\n",
       "\tInsulin & -0.0008422249 & 0.001074494   & -0.78383415   & 0.4331374    \\\\\n",
       "\tAge &  0.0127854230 & 0.011410757   &  1.12047103   & 0.2625131    \\\\\n",
       "\\end{tabular}\n"
      ],
      "text/markdown": [
       "\n",
       "| <!--/--> | Estimate | Std. Error | z value | Pr(>|z|) |\n",
       "|---|---|---|---|---|\n",
       "| BloodPressure |  0.0005226893 | 0.010124450   |  0.05162644   | 0.9588263     |\n",
       "| SkinThickness | -0.0094043630 | 0.015073434   | -0.62390314   | 0.5326912     |\n",
       "| Insulin | -0.0008422249 | 0.001074494   | -0.78383415   | 0.4331374     |\n",
       "| Age |  0.0127854230 | 0.011410757   |  1.12047103   | 0.2625131     |\n",
       "\n"
      ],
      "text/plain": [
       "              Estimate      Std. Error  z value     Pr(>|z|) \n",
       "BloodPressure  0.0005226893 0.010124450  0.05162644 0.9588263\n",
       "SkinThickness -0.0094043630 0.015073434 -0.62390314 0.5326912\n",
       "Insulin       -0.0008422249 0.001074494 -0.78383415 0.4331374\n",
       "Age            0.0127854230 0.011410757  1.12047103 0.2625131"
      ]
     },
     "metadata": {},
     "output_type": "display_data"
    }
   ],
   "source": [
    "summary(model_log)$coef[which(summary(model_log)$coef[,4] > alpha),]"
   ]
  },
  {
   "cell_type": "markdown",
   "id": "5d0c9866",
   "metadata": {},
   "source": [
    "We are using our whole data this time and we are eliminating BloodPressure, SkinThickness and Insulin in our model:"
   ]
  },
  {
   "cell_type": "code",
   "execution_count": 1424,
   "id": "afe1b256",
   "metadata": {},
   "outputs": [
    {
     "data": {
      "text/plain": [
       "\n",
       "Call:\n",
       "glm(formula = Outcome ~ . - BloodPressure - SkinThickness - Insulin, \n",
       "    family = \"binomial\", data = db_train)\n",
       "\n",
       "Deviance Residuals: \n",
       "    Min       1Q   Median       3Q      Max  \n",
       "-2.6651  -0.7248  -0.3977   0.7063   2.7853  \n",
       "\n",
       "Coefficients:\n",
       "                          Estimate Std. Error z value Pr(>|z|)    \n",
       "(Intercept)              -9.575687   0.880598 -10.874  < 2e-16 ***\n",
       "Pregnancies               0.099079   0.037898   2.614  0.00894 ** \n",
       "Glucose                   0.032648   0.004027   8.107 5.21e-16 ***\n",
       "BMI                       0.105694   0.017767   5.949 2.70e-09 ***\n",
       "DiabetesPedigreeFunction  1.091766   0.368896   2.960  0.00308 ** \n",
       "Age                       0.013814   0.010895   1.268  0.20486    \n",
       "---\n",
       "Signif. codes:  0 '***' 0.001 '**' 0.01 '*' 0.05 '.' 0.1 ' ' 1\n",
       "\n",
       "(Dispersion parameter for binomial family taken to be 1)\n",
       "\n",
       "    Null deviance: 702.55  on 536  degrees of freedom\n",
       "Residual deviance: 503.06  on 531  degrees of freedom\n",
       "AIC: 515.06\n",
       "\n",
       "Number of Fisher Scoring iterations: 5\n"
      ]
     },
     "metadata": {},
     "output_type": "display_data"
    }
   ],
   "source": [
    "model_log_reduced<- glm(Outcome ~ .   -BloodPressure -SkinThickness-Insulin    , data = db_train, family = \"binomial\")\n",
    "summary(model_log_reduced)"
   ]
  },
  {
   "cell_type": "markdown",
   "id": "e47af6f8",
   "metadata": {},
   "source": [
    "predicted probability for our reduced model(rm):"
   ]
  },
  {
   "cell_type": "code",
   "execution_count": 1425,
   "id": "0945234c",
   "metadata": {},
   "outputs": [],
   "source": [
    "predicted_prob_rm = predict(model_log_reduced, type = \"response\")\n",
    "predicted_outcome_rm = ifelse(predicted_prob_rm <0.5, 0, 1)"
   ]
  },
  {
   "cell_type": "code",
   "execution_count": 1426,
   "id": "ea61727a",
   "metadata": {},
   "outputs": [
    {
     "name": "stderr",
     "output_type": "stream",
     "text": [
      "Setting levels: control = 0, case = 1\n",
      "Setting direction: controls < cases\n"
     ]
    },
    {
     "data": {
      "text/html": [
       "0.746934267079439"
      ],
      "text/latex": [
       "0.746934267079439"
      ],
      "text/markdown": [
       "0.746934267079439"
      ],
      "text/plain": [
       "Area under the curve: 0.7469"
      ]
     },
     "metadata": {},
     "output_type": "display_data"
    }
   ],
   "source": [
    "auc(db_train$Outcome, predicted_outcome_rm)"
   ]
  },
  {
   "cell_type": "markdown",
   "id": "ff69b4af",
   "metadata": {},
   "source": [
    "By eliminating BloodPressure, Insulin and SkinThickness we still get a comparable AUC score. \\\n",
    "Now let's use these two models to predict our test dataset."
   ]
  },
  {
   "cell_type": "markdown",
   "id": "478b358d",
   "metadata": {},
   "source": [
    "Predicted probabilities of our full model on the **test dataset**. \\\n",
    "We converted the probabilities to 0 and 1 to be like Outcomes."
   ]
  },
  {
   "cell_type": "code",
   "execution_count": 1427,
   "id": "85a9e7c1",
   "metadata": {},
   "outputs": [
    {
     "name": "stderr",
     "output_type": "stream",
     "text": [
      "Setting levels: control = 0, case = 1\n",
      "Setting direction: controls < cases\n"
     ]
    }
   ],
   "source": [
    "predicted_prob_1 = predict(model_log, newdata = db_test, type=\"response\")\n",
    "predicted_1 = ifelse(predicted_prob_1 <0.5, 0, 1)\n",
    "AUC_1 = auc(db_test$Outcome, predicted_1)"
   ]
  },
  {
   "cell_type": "markdown",
   "id": "ed7b0b78",
   "metadata": {},
   "source": [
    "Predicted probabilities of our **reduced model** on the **test dataset**. \\\n",
    "We converted the probabilities to 0 and 1 to be like Outcomes."
   ]
  },
  {
   "cell_type": "code",
   "execution_count": 1428,
   "id": "f6898d0a",
   "metadata": {},
   "outputs": [
    {
     "name": "stderr",
     "output_type": "stream",
     "text": [
      "Setting levels: control = 0, case = 1\n",
      "Setting direction: controls < cases\n"
     ]
    }
   ],
   "source": [
    "predicted_prob_2 = predict(model_log_reduced, newdata = db_test, type=\"response\")\n",
    "predicted_2 = ifelse(predicted_prob_2 <0.5, 0, 1)\n",
    "AUC_2 = auc(db_test$Outcome, predicted_2)"
   ]
  },
  {
   "cell_type": "code",
   "execution_count": 1432,
   "id": "8e618b84",
   "metadata": {},
   "outputs": [
    {
     "name": "stdout",
     "output_type": "stream",
     "text": [
      "AUC of Full Model: 0.7097607"
     ]
    }
   ],
   "source": [
    "cat(\"AUC of Full Model:\", AUC_1 )"
   ]
  },
  {
   "cell_type": "code",
   "execution_count": 1430,
   "id": "81e4ceaf",
   "metadata": {},
   "outputs": [
    {
     "name": "stdout",
     "output_type": "stream",
     "text": [
      "AUC of Reduced Model: 0.706576"
     ]
    }
   ],
   "source": [
    "cat(\"AUC of Reduced Model:\", AUC_2)"
   ]
  },
  {
   "cell_type": "markdown",
   "id": "6986042e",
   "metadata": {},
   "source": [
    "***Discussion:*** \\\n",
    "As we can see, the auc score declined in both full and reduced model on predicting the test dataset.\\\n",
    "This could be because our model was overfitting and was doing a good job on the training data but not so much on a never-seen dataset.\n",
    "Both models had similar AUC scores for the test data, which could mean the less complex model also can provide similar accuracy."
   ]
  },
  {
   "cell_type": "markdown",
   "id": "2777e3d7",
   "metadata": {},
   "source": [
    "<font size=\"3\"> **Part 1.8:**</font> "
   ]
  },
  {
   "cell_type": "markdown",
   "id": "29d9f554",
   "metadata": {},
   "source": [
    " <font size=\"5\"> **DECISION TREE**</font> "
   ]
  },
  {
   "cell_type": "markdown",
   "id": "54dee89a",
   "metadata": {},
   "source": [
    "We will use rpart library to create our tree model"
   ]
  },
  {
   "cell_type": "code",
   "execution_count": 1434,
   "id": "a62207b8",
   "metadata": {},
   "outputs": [],
   "source": [
    "library(rpart)\n",
    "library(rpart.plot)"
   ]
  },
  {
   "cell_type": "code",
   "execution_count": 1457,
   "id": "ea1f2a17",
   "metadata": {},
   "outputs": [
    {
     "name": "stdout",
     "output_type": "stream",
     "text": [
      "Call:\n",
      "rpart(formula = Outcome ~ ., data = db_train, method = \"class\")\n",
      "  n= 537 \n",
      "\n",
      "          CP nsplit rel error    xerror       xstd\n",
      "1 0.25773196      0 1.0000000 1.0000000 0.05737980\n",
      "2 0.12886598      1 0.7422680 0.7835052 0.05381004\n",
      "3 0.02061856      2 0.6134021 0.6958763 0.05181924\n",
      "4 0.01546392      4 0.5721649 0.7061856 0.05207166\n",
      "5 0.01030928      8 0.5051546 0.7061856 0.05207166\n",
      "6 0.01000000      9 0.4948454 0.7474227 0.05303202\n",
      "\n",
      "Variable importance\n",
      "                 Glucose                      BMI                      Age \n",
      "                      38                       15                       13 \n",
      "                 Insulin            BloodPressure              Pregnancies \n",
      "                       9                        8                        7 \n",
      "           SkinThickness DiabetesPedigreeFunction \n",
      "                       6                        2 \n",
      "\n",
      "Node number 1: 537 observations,    complexity param=0.257732\n",
      "  predicted class=0  expected loss=0.3612663  P(node) =1\n",
      "    class counts:   343   194\n",
      "   probabilities: 0.639 0.361 \n",
      "  left son=2 (299 obs) right son=3 (238 obs)\n",
      "  Primary splits:\n",
      "      Glucose     < 123.5    to the left,  improve=50.80319, (0 missing)\n",
      "      BMI         < 30.25    to the left,  improve=26.51668, (0 missing)\n",
      "      Age         < 30.5     to the left,  improve=25.08983, (0 missing)\n",
      "      Insulin     < 143      to the left,  improve=14.71557, (0 missing)\n",
      "      Pregnancies < 6.5      to the left,  improve=12.72640, (0 missing)\n",
      "  Surrogate splits:\n",
      "      Insulin       < 119.5    to the left,  agree=0.669, adj=0.252, (0 split)\n",
      "      Age           < 35.5     to the left,  agree=0.642, adj=0.193, (0 split)\n",
      "      BloodPressure < 81       to the left,  agree=0.626, adj=0.155, (0 split)\n",
      "      BMI           < 39.75    to the left,  agree=0.592, adj=0.080, (0 split)\n",
      "      Pregnancies   < 6.5      to the left,  agree=0.588, adj=0.071, (0 split)\n",
      "\n",
      "Node number 2: 299 observations\n",
      "  predicted class=0  expected loss=0.1672241  P(node) =0.556797\n",
      "    class counts:   249    50\n",
      "   probabilities: 0.833 0.167 \n",
      "\n",
      "Node number 3: 238 observations,    complexity param=0.128866\n",
      "  predicted class=1  expected loss=0.394958  P(node) =0.443203\n",
      "    class counts:    94   144\n",
      "   probabilities: 0.395 0.605 \n",
      "  left son=6 (75 obs) right son=7 (163 obs)\n",
      "  Primary splits:\n",
      "      BMI                      < 30.2     to the left,  improve=16.169170, (0 missing)\n",
      "      Glucose                  < 157.5    to the left,  improve=13.582560, (0 missing)\n",
      "      Age                      < 24.5     to the left,  improve=11.051680, (0 missing)\n",
      "      DiabetesPedigreeFunction < 0.7185   to the left,  improve= 5.849601, (0 missing)\n",
      "      Pregnancies              < 7.5      to the left,  improve= 5.572175, (0 missing)\n",
      "  Surrogate splits:\n",
      "      SkinThickness < 23.5     to the left,  agree=0.727, adj=0.133, (0 split)\n",
      "      Age           < 21.5     to the left,  agree=0.710, adj=0.080, (0 split)\n",
      "      BloodPressure < 61.5     to the left,  agree=0.697, adj=0.040, (0 split)\n",
      "\n",
      "Node number 6: 75 observations,    complexity param=0.02061856\n",
      "  predicted class=0  expected loss=0.3333333  P(node) =0.1396648\n",
      "    class counts:    50    25\n",
      "   probabilities: 0.667 0.333 \n",
      "  left son=12 (22 obs) right son=13 (53 obs)\n",
      "  Primary splits:\n",
      "      Age           < 26.5     to the left,  improve=5.160091, (0 missing)\n",
      "      Glucose       < 145      to the left,  improve=3.531281, (0 missing)\n",
      "      Pregnancies   < 7.5      to the left,  improve=3.174603, (0 missing)\n",
      "      BloodPressure < 61.5     to the left,  improve=2.361436, (0 missing)\n",
      "      BMI           < 23.2     to the left,  improve=2.272727, (0 missing)\n",
      "  Surrogate splits:\n",
      "      Pregnancies   < 1.5      to the left,  agree=0.813, adj=0.364, (0 split)\n",
      "      SkinThickness < 22.5     to the left,  agree=0.747, adj=0.136, (0 split)\n",
      "      BMI           < 23.2     to the left,  agree=0.747, adj=0.136, (0 split)\n",
      "      BloodPressure < 59       to the left,  agree=0.733, adj=0.091, (0 split)\n",
      "      Insulin       < 156.5    to the right, agree=0.733, adj=0.091, (0 split)\n",
      "\n",
      "Node number 7: 163 observations,    complexity param=0.01546392\n",
      "  predicted class=1  expected loss=0.2699387  P(node) =0.3035382\n",
      "    class counts:    44   119\n",
      "   probabilities: 0.270 0.730 \n",
      "  left son=14 (94 obs) right son=15 (69 obs)\n",
      "  Primary splits:\n",
      "      Glucose                  < 157.5    to the left,  improve=8.012281, (0 missing)\n",
      "      Age                      < 24.5     to the left,  improve=3.999211, (0 missing)\n",
      "      DiabetesPedigreeFunction < 0.3095   to the left,  improve=3.526101, (0 missing)\n",
      "      BMI                      < 40.85    to the left,  improve=2.159684, (0 missing)\n",
      "      Pregnancies              < 6.5      to the left,  improve=2.058289, (0 missing)\n",
      "  Surrogate splits:\n",
      "      Insulin                  < 167.5    to the left,  agree=0.620, adj=0.101, (0 split)\n",
      "      BMI                      < 31       to the right, agree=0.607, adj=0.072, (0 split)\n",
      "      SkinThickness            < 55       to the left,  agree=0.595, adj=0.043, (0 split)\n",
      "      BloodPressure            < 56       to the right, agree=0.589, adj=0.029, (0 split)\n",
      "      DiabetesPedigreeFunction < 0.6455   to the left,  agree=0.589, adj=0.029, (0 split)\n",
      "\n",
      "Node number 12: 22 observations\n",
      "  predicted class=0  expected loss=0.04545455  P(node) =0.04096834\n",
      "    class counts:    21     1\n",
      "   probabilities: 0.955 0.045 \n",
      "\n",
      "Node number 13: 53 observations,    complexity param=0.02061856\n",
      "  predicted class=0  expected loss=0.4528302  P(node) =0.09869646\n",
      "    class counts:    29    24\n",
      "   probabilities: 0.547 0.453 \n",
      "  left son=26 (43 obs) right son=27 (10 obs)\n",
      "  Primary splits:\n",
      "      SkinThickness < 25       to the right, improve=4.929267, (0 missing)\n",
      "      BloodPressure < 61.5     to the left,  improve=3.307629, (0 missing)\n",
      "      Age           < 60.5     to the right, improve=3.307629, (0 missing)\n",
      "      Glucose       < 166.5    to the left,  improve=2.289403, (0 missing)\n",
      "      Pregnancies   < 7.5      to the left,  improve=1.418622, (0 missing)\n",
      "  Surrogate splits:\n",
      "      Glucose                  < 124.5    to the right, agree=0.83, adj=0.1, (0 split)\n",
      "      Insulin                  < 223      to the left,  agree=0.83, adj=0.1, (0 split)\n",
      "      DiabetesPedigreeFunction < 0.9915   to the left,  agree=0.83, adj=0.1, (0 split)\n",
      "\n",
      "Node number 14: 94 observations,    complexity param=0.01546392\n",
      "  predicted class=1  expected loss=0.4042553  P(node) =0.1750466\n",
      "    class counts:    38    56\n",
      "   probabilities: 0.404 0.596 \n",
      "  left son=28 (40 obs) right son=29 (54 obs)\n",
      "  Primary splits:\n",
      "      Age           < 30.5     to the left,  improve=4.059929, (0 missing)\n",
      "      Pregnancies   < 7.5      to the left,  improve=3.695382, (0 missing)\n",
      "      BloodPressure < 87       to the left,  improve=2.890631, (0 missing)\n",
      "      Glucose       < 152.5    to the right, improve=2.599706, (0 missing)\n",
      "      BMI           < 40.9     to the left,  improve=2.513438, (0 missing)\n",
      "  Surrogate splits:\n",
      "      Pregnancies   < 4.5      to the left,  agree=0.819, adj=0.575, (0 split)\n",
      "      BloodPressure < 75       to the left,  agree=0.702, adj=0.300, (0 split)\n",
      "      SkinThickness < 27       to the left,  agree=0.606, adj=0.075, (0 split)\n",
      "      Insulin       < 186      to the right, agree=0.606, adj=0.075, (0 split)\n",
      "      Glucose       < 124.5    to the left,  agree=0.596, adj=0.050, (0 split)\n",
      "\n",
      "Node number 15: 69 observations\n",
      "  predicted class=1  expected loss=0.08695652  P(node) =0.1284916\n",
      "    class counts:     6    63\n",
      "   probabilities: 0.087 0.913 \n",
      "\n",
      "Node number 26: 43 observations\n",
      "  predicted class=0  expected loss=0.3488372  P(node) =0.08007449\n",
      "    class counts:    28    15\n",
      "   probabilities: 0.651 0.349 \n",
      "\n",
      "Node number 27: 10 observations\n",
      "  predicted class=1  expected loss=0.1  P(node) =0.01862197\n",
      "    class counts:     1     9\n",
      "   probabilities: 0.100 0.900 \n",
      "\n",
      "Node number 28: 40 observations,    complexity param=0.01546392\n",
      "  predicted class=0  expected loss=0.425  P(node) =0.0744879\n",
      "    class counts:    23    17\n",
      "   probabilities: 0.575 0.425 \n",
      "  left son=56 (20 obs) right son=57 (20 obs)\n",
      "  Primary splits:\n",
      "      BloodPressure            < 73.20259 to the right, improve=2.450000, (0 missing)\n",
      "      Glucose                  < 146.5    to the right, improve=2.288351, (0 missing)\n",
      "      DiabetesPedigreeFunction < 0.263    to the left,  improve=2.288351, (0 missing)\n",
      "      BMI                      < 41.45    to the left,  improve=2.112500, (0 missing)\n",
      "      Insulin                  < 207.5    to the right, improve=1.800000, (0 missing)\n",
      "  Surrogate splits:\n",
      "      Glucose                  < 128.5    to the right, agree=0.625, adj=0.25, (0 split)\n",
      "      BMI                      < 38.65    to the right, agree=0.625, adj=0.25, (0 split)\n",
      "      Age                      < 24.5     to the right, agree=0.625, adj=0.25, (0 split)\n",
      "      SkinThickness            < 32.5     to the right, agree=0.600, adj=0.20, (0 split)\n",
      "      DiabetesPedigreeFunction < 0.8395   to the left,  agree=0.600, adj=0.20, (0 split)\n",
      "\n",
      "Node number 29: 54 observations,    complexity param=0.01030928\n",
      "  predicted class=1  expected loss=0.2777778  P(node) =0.1005587\n",
      "    class counts:    15    39\n",
      "   probabilities: 0.278 0.722 \n",
      "  left son=58 (8 obs) right son=59 (46 obs)\n",
      "  Primary splits:\n",
      "      DiabetesPedigreeFunction < 0.219    to the left,  improve=2.264493, (0 missing)\n",
      "      BloodPressure            < 91       to the left,  improve=1.449275, (0 missing)\n",
      "      Glucose                  < 152.5    to the right, improve=1.387031, (0 missing)\n",
      "      Insulin                  < 142      to the left,  improve=1.272390, (0 missing)\n",
      "      Pregnancies              < 7.5      to the left,  improve=1.251082, (0 missing)\n",
      "  Surrogate splits:\n",
      "      BMI           < 31.15    to the left,  agree=0.889, adj=0.250, (0 split)\n",
      "      SkinThickness < 25       to the left,  agree=0.870, adj=0.125, (0 split)\n",
      "\n",
      "Node number 56: 20 observations\n",
      "  predicted class=0  expected loss=0.25  P(node) =0.03724395\n",
      "    class counts:    15     5\n",
      "   probabilities: 0.750 0.250 \n",
      "\n",
      "Node number 57: 20 observations,    complexity param=0.01546392\n",
      "  predicted class=1  expected loss=0.4  P(node) =0.03724395\n",
      "    class counts:     8    12\n",
      "   probabilities: 0.400 0.600 \n",
      "  left son=114 (13 obs) right son=115 (7 obs)\n",
      "  Primary splits:\n",
      "      Pregnancies              < 0.5      to the right, improve=3.446154, (0 missing)\n",
      "      BloodPressure            < 64.5     to the left,  improve=2.327273, (0 missing)\n",
      "      Age                      < 24.5     to the left,  improve=2.016667, (0 missing)\n",
      "      Glucose                  < 129.5    to the left,  improve=1.350000, (0 missing)\n",
      "      DiabetesPedigreeFunction < 0.3185   to the left,  improve=1.350000, (0 missing)\n",
      "  Surrogate splits:\n",
      "      BMI           < 36.05    to the left,  agree=0.85, adj=0.571, (0 split)\n",
      "      Glucose       < 129.5    to the left,  agree=0.75, adj=0.286, (0 split)\n",
      "      BloodPressure < 64.5     to the left,  agree=0.70, adj=0.143, (0 split)\n",
      "      SkinThickness < 34       to the left,  agree=0.70, adj=0.143, (0 split)\n",
      "\n",
      "Node number 58: 8 observations\n",
      "  predicted class=0  expected loss=0.375  P(node) =0.01489758\n",
      "    class counts:     5     3\n",
      "   probabilities: 0.625 0.375 \n",
      "\n",
      "Node number 59: 46 observations\n",
      "  predicted class=1  expected loss=0.2173913  P(node) =0.08566108\n",
      "    class counts:    10    36\n",
      "   probabilities: 0.217 0.783 \n",
      "\n",
      "Node number 114: 13 observations\n",
      "  predicted class=0  expected loss=0.3846154  P(node) =0.02420857\n",
      "    class counts:     8     5\n",
      "   probabilities: 0.615 0.385 \n",
      "\n",
      "Node number 115: 7 observations\n",
      "  predicted class=1  expected loss=0  P(node) =0.01303538\n",
      "    class counts:     0     7\n",
      "   probabilities: 0.000 1.000 \n",
      "\n"
     ]
    }
   ],
   "source": [
    "# Create our model using training dataset\n",
    "model_tree = rpart(Outcome ~ . , data=db_train, method = \"class\")\n",
    "summary(model_tree)"
   ]
  },
  {
   "cell_type": "markdown",
   "id": "6ed629f4",
   "metadata": {},
   "source": [
    "Visualize our tree, from yellow color (no diabetes) to blue color (diabetes)"
   ]
  },
  {
   "cell_type": "code",
   "execution_count": 1458,
   "id": "d59000b2",
   "metadata": {},
   "outputs": [
    {
     "data": {
      "image/png": "[encoded data removed]",
      "text/plain": [
       "plot without title"
      ]
     },
     "metadata": {},
     "output_type": "display_data"
    }
   ],
   "source": [
    "rpart.plot(model_tree, box.palette = \"YlGnBl\" ,type =1)"
   ]
  },
  {
   "cell_type": "markdown",
   "id": "3ba8c140",
   "metadata": {},
   "source": [
    "***Discussion:*** \\\n",
    "Our tree has the depth of 6. We see that the Glucose variable has the highest importance in our model. After that, Age and BMI are important too. \\\n",
    "The BloodPressure and SkinThinckness variables are not doing a great job in partitioning the data (42% and 45% respectively). It is interesting that Glocuse has such an importance in partitioning our data that our model has partitioned the data two times based on this variable."
   ]
  },
  {
   "cell_type": "markdown",
   "id": "7c9d4cec",
   "metadata": {},
   "source": [
    "Predict our train data"
   ]
  },
  {
   "cell_type": "code",
   "execution_count": 1459,
   "id": "c53753cd",
   "metadata": {
    "scrolled": true
   },
   "outputs": [
    {
     "data": {
      "text/html": [
       "<dl class=dl-horizontal>\n",
       "\t<dt>1</dt>\n",
       "\t\t<dd>1</dd>\n",
       "\t<dt>2</dt>\n",
       "\t\t<dd>0</dd>\n",
       "\t<dt>3</dt>\n",
       "\t\t<dd>0</dd>\n",
       "\t<dt>4</dt>\n",
       "\t\t<dd>0</dd>\n",
       "\t<dt>6</dt>\n",
       "\t\t<dd>0</dd>\n",
       "\t<dt>7</dt>\n",
       "\t\t<dd>0</dd>\n",
       "</dl>\n",
       "\n",
       "<details>\n",
       "\t<summary style=display:list-item;cursor:pointer>\n",
       "\t\t<strong>Levels</strong>:\n",
       "\t</summary>\n",
       "\t<ol class=list-inline>\n",
       "\t\t<li>'0'</li>\n",
       "\t\t<li>'1'</li>\n",
       "\t</ol>\n",
       "</details>"
      ],
      "text/latex": [
       "\\begin{description*}\n",
       "\\item[1] 1\n",
       "\\item[2] 0\n",
       "\\item[3] 0\n",
       "\\item[4] 0\n",
       "\\item[6] 0\n",
       "\\item[7] 0\n",
       "\\end{description*}\n",
       "\n",
       "\\emph{Levels}: \\begin{enumerate*}\n",
       "\\item '0'\n",
       "\\item '1'\n",
       "\\end{enumerate*}\n"
      ],
      "text/markdown": [
       "1\n",
       ":   12\n",
       ":   03\n",
       ":   04\n",
       ":   06\n",
       ":   07\n",
       ":   0\n",
       "\n",
       "\n",
       "**Levels**: 1. '0'\n",
       "2. '1'\n",
       "\n",
       "\n"
      ],
      "text/plain": [
       "1 2 3 4 6 7 \n",
       "1 0 0 0 0 0 \n",
       "Levels: 0 1"
      ]
     },
     "metadata": {},
     "output_type": "display_data"
    }
   ],
   "source": [
    "predicted_train = predict(model_tree, newdata = db_train, type = \"class\")\n",
    "head(predicted_train)"
   ]
  },
  {
   "cell_type": "code",
   "execution_count": 1460,
   "id": "ff26c785",
   "metadata": {},
   "outputs": [
    {
     "name": "stdout",
     "output_type": "stream",
     "text": [
      "Accuracy of the decision tree on predicting train data is 0.8212291"
     ]
    }
   ],
   "source": [
    "accuracy_dt_train = mean(db_train$Outcome == predicted_train)\n",
    "cat(\"Accuracy of the decision tree on predicting train data is\", accuracy_dt_train)"
   ]
  },
  {
   "cell_type": "markdown",
   "id": "305cb65c",
   "metadata": {},
   "source": [
    "Predict our test data"
   ]
  },
  {
   "cell_type": "code",
   "execution_count": 1461,
   "id": "847be7b2",
   "metadata": {},
   "outputs": [
    {
     "data": {
      "text/html": [
       "<dl class=dl-horizontal>\n",
       "\t<dt>5</dt>\n",
       "\t\t<dd>1</dd>\n",
       "\t<dt>9</dt>\n",
       "\t\t<dd>1</dd>\n",
       "\t<dt>11</dt>\n",
       "\t\t<dd>0</dd>\n",
       "\t<dt>12</dt>\n",
       "\t\t<dd>1</dd>\n",
       "\t<dt>13</dt>\n",
       "\t\t<dd>0</dd>\n",
       "\t<dt>14</dt>\n",
       "\t\t<dd>1</dd>\n",
       "</dl>\n",
       "\n",
       "<details>\n",
       "\t<summary style=display:list-item;cursor:pointer>\n",
       "\t\t<strong>Levels</strong>:\n",
       "\t</summary>\n",
       "\t<ol class=list-inline>\n",
       "\t\t<li>'0'</li>\n",
       "\t\t<li>'1'</li>\n",
       "\t</ol>\n",
       "</details>"
      ],
      "text/latex": [
       "\\begin{description*}\n",
       "\\item[5] 1\n",
       "\\item[9] 1\n",
       "\\item[11] 0\n",
       "\\item[12] 1\n",
       "\\item[13] 0\n",
       "\\item[14] 1\n",
       "\\end{description*}\n",
       "\n",
       "\\emph{Levels}: \\begin{enumerate*}\n",
       "\\item '0'\n",
       "\\item '1'\n",
       "\\end{enumerate*}\n"
      ],
      "text/markdown": [
       "5\n",
       ":   19\n",
       ":   111\n",
       ":   012\n",
       ":   113\n",
       ":   014\n",
       ":   1\n",
       "\n",
       "\n",
       "**Levels**: 1. '0'\n",
       "2. '1'\n",
       "\n",
       "\n"
      ],
      "text/plain": [
       " 5  9 11 12 13 14 \n",
       " 1  1  0  1  0  1 \n",
       "Levels: 0 1"
      ]
     },
     "metadata": {},
     "output_type": "display_data"
    }
   ],
   "source": [
    "predicted_test = predict(model_tree, newdata = db_test, type = \"class\")\n",
    "head(predicted_test)"
   ]
  },
  {
   "cell_type": "code",
   "execution_count": 1462,
   "id": "1b56523c",
   "metadata": {
    "scrolled": true
   },
   "outputs": [
    {
     "name": "stdout",
     "output_type": "stream",
     "text": [
      "Accuracy of the decision tree on predicting test data is 0.7402597"
     ]
    }
   ],
   "source": [
    "accuracy_dt_test = mean(db_test$Outcome == predicted_test)\n",
    "cat(\"Accuracy of the decision tree on predicting test data is\", accuracy_dt_test)"
   ]
  },
  {
   "cell_type": "code",
   "execution_count": 1463,
   "id": "2837a891",
   "metadata": {
    "scrolled": true
   },
   "outputs": [
    {
     "data": {
      "text/plain": [
       "              \n",
       "predicted_test   0   1\n",
       "             0 141  44\n",
       "             1  16  30"
      ]
     },
     "metadata": {},
     "output_type": "display_data"
    }
   ],
   "source": [
    "table(predicted_test, db_test$Outcome)"
   ]
  },
  {
   "cell_type": "markdown",
   "id": "3a31cd3a",
   "metadata": {},
   "source": [
    "We can see that our model has a high **false negative** in predicting the test data."
   ]
  },
  {
   "cell_type": "markdown",
   "id": "c2b1791c",
   "metadata": {},
   "source": [
    "***Discussion:*** \\\n",
    "Here we see that the accuracy of predicting our train set is better than our test set, which could mean that our model is over fitting on our train set. \\\n",
    "We can get an idea about the optimal level of tree complexity by performing cross-validation on our tree."
   ]
  },
  {
   "cell_type": "code",
   "execution_count": 1471,
   "id": "6aed511f",
   "metadata": {
    "scrolled": true
   },
   "outputs": [
    {
     "data": {
      "text/plain": [
       "$size\n",
       "[1] 11  8  5  3  2  1\n",
       "\n",
       "$dev\n",
       "[1] 146 147 141 139 149 197\n",
       "\n",
       "$k\n",
       "[1] -Inf    0    2    4   25   50\n",
       "\n",
       "$method\n",
       "[1] \"misclass\"\n",
       "\n",
       "attr(,\"class\")\n",
       "[1] \"prune\"         \"tree.sequence\""
      ]
     },
     "metadata": {},
     "output_type": "display_data"
    }
   ],
   "source": [
    "library(tree)\n",
    "model_tree_2 = tree( Outcome ~ . , data = db_train )\n",
    "CV_model_tree_2 = cv.tree( model_tree_2 , FUN = prune.misclass )\n",
    "CV_model_tree_2"
   ]
  },
  {
   "cell_type": "markdown",
   "id": "04862bd8",
   "metadata": {},
   "source": [
    "Now we can see the size of the tree and the corresponding deviance, in order to pick the optimal size of the tree."
   ]
  },
  {
   "cell_type": "code",
   "execution_count": 1472,
   "id": "bcc7619c",
   "metadata": {},
   "outputs": [
    {
     "data": {
      "image/png": "[encoded data removed]",
      "text/plain": [
       "Plot with title \"size vs dev\""
      ]
     },
     "metadata": {},
     "output_type": "display_data"
    }
   ],
   "source": [
    "par(pin = c(3.5,2.5))\n",
    "plot( CV_model_tree_2$size , CV_model_tree_2$dev , type='b' , xlab=\"size\", ylab='deviance', main='size vs dev' )"
   ]
  },
  {
   "cell_type": "markdown",
   "id": "cf5dcf5f",
   "metadata": {},
   "source": [
    "***Discussion:*** \\\n",
    "We see that there is an elbow around size of 3, so it might be a good idea to try our decision tree model one more time with depth of 3."
   ]
  },
  {
   "cell_type": "code",
   "execution_count": 1473,
   "id": "c2486f4e",
   "metadata": {},
   "outputs": [
    {
     "data": {
      "image/png": "[encoded data removed]",
      "text/plain": [
       "plot without title"
      ]
     },
     "metadata": {},
     "output_type": "display_data"
    }
   ],
   "source": [
    "model_tree_short = rpart(Outcome ~ . , data=db_train, method = \"class\", control = list(maxdepth = 3))\n",
    "rpart.plot(model_tree_short, box.palette = \"YlGnBl\" ,type =1)"
   ]
  },
  {
   "cell_type": "markdown",
   "id": "d751a858",
   "metadata": {},
   "source": [
    "Now let's see if it helped our accuracy"
   ]
  },
  {
   "cell_type": "code",
   "execution_count": 1467,
   "id": "99cf4105",
   "metadata": {},
   "outputs": [
    {
     "name": "stdout",
     "output_type": "stream",
     "text": [
      "Accuracy of the decision tree on predicting train data is 0.7783985"
     ]
    }
   ],
   "source": [
    "predicted_train = predict(model_tree_short, newdata = db_train, type = \"class\")\n",
    "accuracy_dt_train = mean(db_train$Outcome == predicted_train)\n",
    "cat(\"Accuracy of the decision tree on predicting train data is\", accuracy_dt_train)"
   ]
  },
  {
   "cell_type": "code",
   "execution_count": 1468,
   "id": "b36d8a82",
   "metadata": {},
   "outputs": [
    {
     "name": "stdout",
     "output_type": "stream",
     "text": [
      "Accuracy of the decision tree on predicting test data is 0.7186147"
     ]
    }
   ],
   "source": [
    "predicted_test = predict(model_tree_short, newdata = db_test, type = \"class\")\n",
    "accuracy_dt_test = mean(db_test$Outcome == predicted_test)\n",
    "cat(\"Accuracy of the decision tree on predicting test data is\", accuracy_dt_test)\n"
   ]
  },
  {
   "cell_type": "markdown",
   "id": "c0e8a9d9",
   "metadata": {},
   "source": [
    "***Discussion:*** \\\n",
    "We see that the accuracy of predicting both our train set and test set decreased, this could mean that shrinking our tree to depth of 3 did not help our model in predicting the outcome better."
   ]
  },
  {
   "cell_type": "markdown",
   "id": "0530aa69",
   "metadata": {},
   "source": [
    "<font size=\"3\"> **Part 1.9:**</font> "
   ]
  },
  {
   "cell_type": "markdown",
   "id": "7c74e195",
   "metadata": {},
   "source": [
    "Variable Importance of our Decision Tree:"
   ]
  },
  {
   "cell_type": "code",
   "execution_count": 1474,
   "id": "297168e2",
   "metadata": {},
   "outputs": [
    {
     "name": "stdout",
     "output_type": "stream",
     "text": [
      "                 Glucose                      BMI                      Age \n",
      "               61.108507                24.656987                20.945157 \n",
      "                 Insulin            BloodPressure              Pregnancies \n",
      "               14.886887                13.406367                11.285809 \n",
      "           SkinThickness DiabetesPedigreeFunction \n",
      "                9.707029                 3.479660 \n"
     ]
    }
   ],
   "source": [
    "print(model_tree$variable.importance)"
   ]
  },
  {
   "cell_type": "markdown",
   "id": "ef5dfbb7",
   "metadata": {},
   "source": [
    "Significance level of our logistic regression coefficients:"
   ]
  },
  {
   "cell_type": "code",
   "execution_count": 1475,
   "id": "4b4fb330",
   "metadata": {},
   "outputs": [
    {
     "data": {
      "text/html": [
       "<table>\n",
       "<thead><tr><th></th><th scope=col>Estimate</th><th scope=col>Std. Error</th><th scope=col>z value</th><th scope=col>Pr(&gt;|z|)</th></tr></thead>\n",
       "<tbody>\n",
       "\t<tr><th scope=row>(Intercept)</th><td>-9.69324363 </td><td>0.990022123 </td><td>-9.790936   </td><td>1.231500e-22</td></tr>\n",
       "\t<tr><th scope=row>Pregnancies</th><td> 0.10036227 </td><td>0.038099132 </td><td> 2.634240   </td><td>8.432576e-03</td></tr>\n",
       "\t<tr><th scope=row>Glucose</th><td> 0.03368434 </td><td>0.004273078 </td><td> 7.882921   </td><td>3.198147e-15</td></tr>\n",
       "\t<tr><th scope=row>BMI</th><td> 0.11510576 </td><td>0.022003563 </td><td> 5.231233   </td><td>1.683834e-07</td></tr>\n",
       "\t<tr><th scope=row>DiabetesPedigreeFunction</th><td> 1.14092753 </td><td>0.374240857 </td><td> 3.048645   </td><td>2.298759e-03</td></tr>\n",
       "</tbody>\n",
       "</table>\n"
      ],
      "text/latex": [
       "\\begin{tabular}{r|llll}\n",
       "  & Estimate & Std. Error & z value & Pr(>\\textbar{}z\\textbar{})\\\\\n",
       "\\hline\n",
       "\t(Intercept) & -9.69324363  & 0.990022123  & -9.790936    & 1.231500e-22\\\\\n",
       "\tPregnancies &  0.10036227  & 0.038099132  &  2.634240    & 8.432576e-03\\\\\n",
       "\tGlucose &  0.03368434  & 0.004273078  &  7.882921    & 3.198147e-15\\\\\n",
       "\tBMI &  0.11510576  & 0.022003563  &  5.231233    & 1.683834e-07\\\\\n",
       "\tDiabetesPedigreeFunction &  1.14092753  & 0.374240857  &  3.048645    & 2.298759e-03\\\\\n",
       "\\end{tabular}\n"
      ],
      "text/markdown": [
       "\n",
       "| <!--/--> | Estimate | Std. Error | z value | Pr(>|z|) |\n",
       "|---|---|---|---|---|\n",
       "| (Intercept) | -9.69324363  | 0.990022123  | -9.790936    | 1.231500e-22 |\n",
       "| Pregnancies |  0.10036227  | 0.038099132  |  2.634240    | 8.432576e-03 |\n",
       "| Glucose |  0.03368434  | 0.004273078  |  7.882921    | 3.198147e-15 |\n",
       "| BMI |  0.11510576  | 0.022003563  |  5.231233    | 1.683834e-07 |\n",
       "| DiabetesPedigreeFunction |  1.14092753  | 0.374240857  |  3.048645    | 2.298759e-03 |\n",
       "\n"
      ],
      "text/plain": [
       "                         Estimate    Std. Error  z value   Pr(>|z|)    \n",
       "(Intercept)              -9.69324363 0.990022123 -9.790936 1.231500e-22\n",
       "Pregnancies               0.10036227 0.038099132  2.634240 8.432576e-03\n",
       "Glucose                   0.03368434 0.004273078  7.882921 3.198147e-15\n",
       "BMI                       0.11510576 0.022003563  5.231233 1.683834e-07\n",
       "DiabetesPedigreeFunction  1.14092753 0.374240857  3.048645 2.298759e-03"
      ]
     },
     "metadata": {},
     "output_type": "display_data"
    }
   ],
   "source": [
    "#The statistically significant variables (reject H_0)\n",
    "summary(model_log)$coef[which(summary(model_log)$coef[,4] < alpha),]"
   ]
  },
  {
   "cell_type": "code",
   "execution_count": 1476,
   "id": "4ad7d43e",
   "metadata": {},
   "outputs": [
    {
     "data": {
      "text/html": [
       "<table>\n",
       "<thead><tr><th></th><th scope=col>Estimate</th><th scope=col>Std. Error</th><th scope=col>z value</th><th scope=col>Pr(&gt;|z|)</th></tr></thead>\n",
       "<tbody>\n",
       "\t<tr><th scope=row>BloodPressure</th><td> 0.0005226893</td><td>0.010124450  </td><td> 0.05162644  </td><td>0.9588263    </td></tr>\n",
       "\t<tr><th scope=row>SkinThickness</th><td>-0.0094043630</td><td>0.015073434  </td><td>-0.62390314  </td><td>0.5326912    </td></tr>\n",
       "\t<tr><th scope=row>Insulin</th><td>-0.0008422249</td><td>0.001074494  </td><td>-0.78383415  </td><td>0.4331374    </td></tr>\n",
       "\t<tr><th scope=row>Age</th><td> 0.0127854230</td><td>0.011410757  </td><td> 1.12047103  </td><td>0.2625131    </td></tr>\n",
       "</tbody>\n",
       "</table>\n"
      ],
      "text/latex": [
       "\\begin{tabular}{r|llll}\n",
       "  & Estimate & Std. Error & z value & Pr(>\\textbar{}z\\textbar{})\\\\\n",
       "\\hline\n",
       "\tBloodPressure &  0.0005226893 & 0.010124450   &  0.05162644   & 0.9588263    \\\\\n",
       "\tSkinThickness & -0.0094043630 & 0.015073434   & -0.62390314   & 0.5326912    \\\\\n",
       "\tInsulin & -0.0008422249 & 0.001074494   & -0.78383415   & 0.4331374    \\\\\n",
       "\tAge &  0.0127854230 & 0.011410757   &  1.12047103   & 0.2625131    \\\\\n",
       "\\end{tabular}\n"
      ],
      "text/markdown": [
       "\n",
       "| <!--/--> | Estimate | Std. Error | z value | Pr(>|z|) |\n",
       "|---|---|---|---|---|\n",
       "| BloodPressure |  0.0005226893 | 0.010124450   |  0.05162644   | 0.9588263     |\n",
       "| SkinThickness | -0.0094043630 | 0.015073434   | -0.62390314   | 0.5326912     |\n",
       "| Insulin | -0.0008422249 | 0.001074494   | -0.78383415   | 0.4331374     |\n",
       "| Age |  0.0127854230 | 0.011410757   |  1.12047103   | 0.2625131     |\n",
       "\n"
      ],
      "text/plain": [
       "              Estimate      Std. Error  z value     Pr(>|z|) \n",
       "BloodPressure  0.0005226893 0.010124450  0.05162644 0.9588263\n",
       "SkinThickness -0.0094043630 0.015073434 -0.62390314 0.5326912\n",
       "Insulin       -0.0008422249 0.001074494 -0.78383415 0.4331374\n",
       "Age            0.0127854230 0.011410757  1.12047103 0.2625131"
      ]
     },
     "metadata": {},
     "output_type": "display_data"
    }
   ],
   "source": [
    "##The statistically insignificant variables (cannot reject H_0)\n",
    "summary(model_log)$coef[which(summary(model_log)$coef[,4] > alpha),]"
   ]
  },
  {
   "cell_type": "markdown",
   "id": "bf2877a6",
   "metadata": {},
   "source": [
    "***Discussion:*** \\\n",
    "**Glucose** has the highest variable importance following by **BMI** and **Age**. The lowest variable importances belong to **DiabetesPedigreeFunction** and **Skinthickness**. Interestingly, SkinThickness is also among the insignificant coefficients in our logistic regression model. Also Glucose and BMI are among the significant coefficients of the logistic regression model. There is Age that has insignificant coefficient in the logistic regression model, however it is the 3rd highest important variable in the decision tree. **DiabetesPedigreeFunction** coefficient is significant in our logistic regression model but in the decision tree does not have a high importance value."
   ]
  },
  {
   "cell_type": "markdown",
   "id": "32e56377",
   "metadata": {},
   "source": [
    "<font size=\"3\"> **Part 1.10:**</font> "
   ]
  },
  {
   "cell_type": "markdown",
   "id": "a75e1305",
   "metadata": {},
   "source": [
    "***Discussion:*** \\\n",
    "Decision tree models handle categorical data better. They also do not require to fix the missing values, as we did earlier for zero values in BloodPressure, SkinThickness and BMI. Also the accuracy of our decision tree model on train set was better than the logistic regression model accuracy on the train set."
   ]
  },
  {
   "cell_type": "markdown",
   "id": "c0d351d0",
   "metadata": {},
   "source": [
    "<font size=\"3\"> **Part 1.11:**</font> "
   ]
  },
  {
   "cell_type": "markdown",
   "id": "7d6dea40",
   "metadata": {},
   "source": [
    "Scale our train and test data. Note that we exclude column number 9 since it is our response and a categorical column."
   ]
  },
  {
   "cell_type": "code",
   "execution_count": 1520,
   "id": "cae60045",
   "metadata": {},
   "outputs": [
    {
     "data": {
      "text/html": [
       "<table>\n",
       "<thead><tr><th></th><th scope=col>Pregnancies</th><th scope=col>Glucose</th><th scope=col>BloodPressure</th><th scope=col>SkinThickness</th><th scope=col>Insulin</th><th scope=col>BMI</th><th scope=col>DiabetesPedigreeFunction</th><th scope=col>Age</th><th scope=col>Outcome</th></tr></thead>\n",
       "<tbody>\n",
       "\t<tr><th scope=row>1</th><td> 0.6266416 </td><td> 0.7805144 </td><td>-0.09399244</td><td> 0.59554787</td><td>-0.72499372</td><td> 0.1749044 </td><td> 0.5089661 </td><td> 1.3955056 </td><td>1          </td></tr>\n",
       "\t<tr><th scope=row>2</th><td>-0.8288366 </td><td>-1.1205355 </td><td>-0.58219853</td><td>-0.05892419</td><td>-0.72499372</td><td>-0.8262648 </td><td>-0.3886942 </td><td>-0.2080921 </td><td>0          </td></tr>\n",
       "\t<tr><th scope=row>3</th><td> 1.2088329 </td><td> 1.8366532 </td><td>-0.74493390</td><td>-0.04218939</td><td>-0.72499372</td><td>-1.2982446 </td><td> 0.6553238 </td><td>-0.1236922 </td><td>1          </td></tr>\n",
       "\t<tr><th scope=row>4</th><td>-0.8288366 </td><td>-0.9998339 </td><td>-0.58219853</td><td>-0.71339626</td><td> 0.15179377</td><td>-0.6117286 </td><td>-0.9871344 </td><td>-1.0520908 </td><td>0          </td></tr>\n",
       "\t<tr><th scope=row>6</th><td> 0.3355460 </td><td>-0.1850982 </td><td> 0.06874293</td><td>-0.04218939</td><td>-0.72499372</td><td>-0.9692890 </td><td>-0.8765531 </td><td>-0.2924919 </td><td>0          </td></tr>\n",
       "\t<tr><th scope=row>7</th><td>-0.2466453 </td><td>-1.3317632 </td><td>-1.88408145</td><td> 0.26831184</td><td> 0.09582861</td><td>-0.1969585 </td><td>-0.7236906 </td><td>-0.6300914 </td><td>1          </td></tr>\n",
       "</tbody>\n",
       "</table>\n"
      ],
      "text/latex": [
       "\\begin{tabular}{r|lllllllll}\n",
       "  & Pregnancies & Glucose & BloodPressure & SkinThickness & Insulin & BMI & DiabetesPedigreeFunction & Age & Outcome\\\\\n",
       "\\hline\n",
       "\t1 &  0.6266416  &  0.7805144  & -0.09399244 &  0.59554787 & -0.72499372 &  0.1749044  &  0.5089661  &  1.3955056  & 1          \\\\\n",
       "\t2 & -0.8288366  & -1.1205355  & -0.58219853 & -0.05892419 & -0.72499372 & -0.8262648  & -0.3886942  & -0.2080921  & 0          \\\\\n",
       "\t3 &  1.2088329  &  1.8366532  & -0.74493390 & -0.04218939 & -0.72499372 & -1.2982446  &  0.6553238  & -0.1236922  & 1          \\\\\n",
       "\t4 & -0.8288366  & -0.9998339  & -0.58219853 & -0.71339626 &  0.15179377 & -0.6117286  & -0.9871344  & -1.0520908  & 0          \\\\\n",
       "\t6 &  0.3355460  & -0.1850982  &  0.06874293 & -0.04218939 & -0.72499372 & -0.9692890  & -0.8765531  & -0.2924919  & 0          \\\\\n",
       "\t7 & -0.2466453  & -1.3317632  & -1.88408145 &  0.26831184 &  0.09582861 & -0.1969585  & -0.7236906  & -0.6300914  & 1          \\\\\n",
       "\\end{tabular}\n"
      ],
      "text/markdown": [
       "\n",
       "| <!--/--> | Pregnancies | Glucose | BloodPressure | SkinThickness | Insulin | BMI | DiabetesPedigreeFunction | Age | Outcome |\n",
       "|---|---|---|---|---|---|---|---|---|---|\n",
       "| 1 |  0.6266416  |  0.7805144  | -0.09399244 |  0.59554787 | -0.72499372 |  0.1749044  |  0.5089661  |  1.3955056  | 1           |\n",
       "| 2 | -0.8288366  | -1.1205355  | -0.58219853 | -0.05892419 | -0.72499372 | -0.8262648  | -0.3886942  | -0.2080921  | 0           |\n",
       "| 3 |  1.2088329  |  1.8366532  | -0.74493390 | -0.04218939 | -0.72499372 | -1.2982446  |  0.6553238  | -0.1236922  | 1           |\n",
       "| 4 | -0.8288366  | -0.9998339  | -0.58219853 | -0.71339626 |  0.15179377 | -0.6117286  | -0.9871344  | -1.0520908  | 0           |\n",
       "| 6 |  0.3355460  | -0.1850982  |  0.06874293 | -0.04218939 | -0.72499372 | -0.9692890  | -0.8765531  | -0.2924919  | 0           |\n",
       "| 7 | -0.2466453  | -1.3317632  | -1.88408145 |  0.26831184 |  0.09582861 | -0.1969585  | -0.7236906  | -0.6300914  | 1           |\n",
       "\n"
      ],
      "text/plain": [
       "  Pregnancies Glucose    BloodPressure SkinThickness Insulin     BMI       \n",
       "1  0.6266416   0.7805144 -0.09399244    0.59554787   -0.72499372  0.1749044\n",
       "2 -0.8288366  -1.1205355 -0.58219853   -0.05892419   -0.72499372 -0.8262648\n",
       "3  1.2088329   1.8366532 -0.74493390   -0.04218939   -0.72499372 -1.2982446\n",
       "4 -0.8288366  -0.9998339 -0.58219853   -0.71339626    0.15179377 -0.6117286\n",
       "6  0.3355460  -0.1850982  0.06874293   -0.04218939   -0.72499372 -0.9692890\n",
       "7 -0.2466453  -1.3317632 -1.88408145    0.26831184    0.09582861 -0.1969585\n",
       "  DiabetesPedigreeFunction Age        Outcome\n",
       "1  0.5089661                1.3955056 1      \n",
       "2 -0.3886942               -0.2080921 0      \n",
       "3  0.6553238               -0.1236922 1      \n",
       "4 -0.9871344               -1.0520908 0      \n",
       "6 -0.8765531               -0.2924919 0      \n",
       "7 -0.7236906               -0.6300914 1      "
      ]
     },
     "metadata": {},
     "output_type": "display_data"
    }
   ],
   "source": [
    "db_train_scaled = db_train\n",
    "db_train_scaled[, -9] = scale(db_train[,-9])\n",
    "head(db_train_scaled)"
   ]
  },
  {
   "cell_type": "code",
   "execution_count": 1521,
   "id": "e808118e",
   "metadata": {},
   "outputs": [
    {
     "data": {
      "text/html": [
       "<table>\n",
       "<thead><tr><th></th><th scope=col>Pregnancies</th><th scope=col>Glucose</th><th scope=col>BloodPressure</th><th scope=col>SkinThickness</th><th scope=col>Insulin</th><th scope=col>BMI</th><th scope=col>DiabetesPedigreeFunction</th><th scope=col>Age</th><th scope=col>Outcome</th></tr></thead>\n",
       "<tbody>\n",
       "\t<tr><th scope=row>5</th><td>-1.19290767</td><td> 0.6560164 </td><td>-2.6728915 </td><td> 0.8659194 </td><td> 0.6308286 </td><td> 1.5825173 </td><td> 4.7485249 </td><td> 0.02433852</td><td>1          </td></tr>\n",
       "\t<tr><th scope=row>9</th><td>-0.57157357</td><td> 2.7290641 </td><td>-0.0576863 </td><td> 2.1495775 </td><td> 3.4679363 </td><td>-0.3245467 </td><td>-0.8304315 </td><td> 1.75424586</td><td>1          </td></tr>\n",
       "\t<tr><th scope=row>11</th><td> 0.04976052</td><td>-0.2768551 </td><td> 1.8601308 </td><td> 0.1154184 </td><td>-0.6401956 </td><td> 0.7500687 </td><td>-0.7439969 </td><td>-0.23514758</td><td>0          </td></tr>\n",
       "\t<tr><th scope=row>12</th><td> 1.91376281</td><td> 1.7270910 </td><td> 0.2910077 </td><td> 0.1154184 </td><td>-0.6401956 </td><td> 0.8106104 </td><td> 0.1622561 </td><td> 0.11083389</td><td>1          </td></tr>\n",
       "\t<tr><th scope=row>13</th><td> 1.91376281</td><td> 0.7251180 </td><td> 0.8140488 </td><td> 0.1154184 </td><td>-0.6401956 </td><td>-0.8391513 </td><td> 2.5300385 </td><td> 2.10022732</td><td>0          </td></tr>\n",
       "\t<tr><th scope=row>14</th><td>-0.88224062</td><td> 2.4526577 </td><td>-0.9294214 </td><td>-0.6744703 </td><td> 5.7603193 </td><td>-0.3850884 </td><td>-0.2018166 </td><td> 2.27321806</td><td>1          </td></tr>\n",
       "</tbody>\n",
       "</table>\n"
      ],
      "text/latex": [
       "\\begin{tabular}{r|lllllllll}\n",
       "  & Pregnancies & Glucose & BloodPressure & SkinThickness & Insulin & BMI & DiabetesPedigreeFunction & Age & Outcome\\\\\n",
       "\\hline\n",
       "\t5 & -1.19290767 &  0.6560164  & -2.6728915  &  0.8659194  &  0.6308286  &  1.5825173  &  4.7485249  &  0.02433852 & 1          \\\\\n",
       "\t9 & -0.57157357 &  2.7290641  & -0.0576863  &  2.1495775  &  3.4679363  & -0.3245467  & -0.8304315  &  1.75424586 & 1          \\\\\n",
       "\t11 &  0.04976052 & -0.2768551  &  1.8601308  &  0.1154184  & -0.6401956  &  0.7500687  & -0.7439969  & -0.23514758 & 0          \\\\\n",
       "\t12 &  1.91376281 &  1.7270910  &  0.2910077  &  0.1154184  & -0.6401956  &  0.8106104  &  0.1622561  &  0.11083389 & 1          \\\\\n",
       "\t13 &  1.91376281 &  0.7251180  &  0.8140488  &  0.1154184  & -0.6401956  & -0.8391513  &  2.5300385  &  2.10022732 & 0          \\\\\n",
       "\t14 & -0.88224062 &  2.4526577  & -0.9294214  & -0.6744703  &  5.7603193  & -0.3850884  & -0.2018166  &  2.27321806 & 1          \\\\\n",
       "\\end{tabular}\n"
      ],
      "text/markdown": [
       "\n",
       "| <!--/--> | Pregnancies | Glucose | BloodPressure | SkinThickness | Insulin | BMI | DiabetesPedigreeFunction | Age | Outcome |\n",
       "|---|---|---|---|---|---|---|---|---|---|\n",
       "| 5 | -1.19290767 |  0.6560164  | -2.6728915  |  0.8659194  |  0.6308286  |  1.5825173  |  4.7485249  |  0.02433852 | 1           |\n",
       "| 9 | -0.57157357 |  2.7290641  | -0.0576863  |  2.1495775  |  3.4679363  | -0.3245467  | -0.8304315  |  1.75424586 | 1           |\n",
       "| 11 |  0.04976052 | -0.2768551  |  1.8601308  |  0.1154184  | -0.6401956  |  0.7500687  | -0.7439969  | -0.23514758 | 0           |\n",
       "| 12 |  1.91376281 |  1.7270910  |  0.2910077  |  0.1154184  | -0.6401956  |  0.8106104  |  0.1622561  |  0.11083389 | 1           |\n",
       "| 13 |  1.91376281 |  0.7251180  |  0.8140488  |  0.1154184  | -0.6401956  | -0.8391513  |  2.5300385  |  2.10022732 | 0           |\n",
       "| 14 | -0.88224062 |  2.4526577  | -0.9294214  | -0.6744703  |  5.7603193  | -0.3850884  | -0.2018166  |  2.27321806 | 1           |\n",
       "\n"
      ],
      "text/plain": [
       "   Pregnancies Glucose    BloodPressure SkinThickness Insulin    BMI       \n",
       "5  -1.19290767  0.6560164 -2.6728915     0.8659194     0.6308286  1.5825173\n",
       "9  -0.57157357  2.7290641 -0.0576863     2.1495775     3.4679363 -0.3245467\n",
       "11  0.04976052 -0.2768551  1.8601308     0.1154184    -0.6401956  0.7500687\n",
       "12  1.91376281  1.7270910  0.2910077     0.1154184    -0.6401956  0.8106104\n",
       "13  1.91376281  0.7251180  0.8140488     0.1154184    -0.6401956 -0.8391513\n",
       "14 -0.88224062  2.4526577 -0.9294214    -0.6744703     5.7603193 -0.3850884\n",
       "   DiabetesPedigreeFunction Age         Outcome\n",
       "5   4.7485249                0.02433852 1      \n",
       "9  -0.8304315                1.75424586 1      \n",
       "11 -0.7439969               -0.23514758 0      \n",
       "12  0.1622561                0.11083389 1      \n",
       "13  2.5300385                2.10022732 0      \n",
       "14 -0.2018166                2.27321806 1      "
      ]
     },
     "metadata": {},
     "output_type": "display_data"
    }
   ],
   "source": [
    "db_test_scaled = db_test\n",
    "db_test_scaled[, -9] = scale(db_test[, -9])\n",
    "head(db_test_scaled)"
   ]
  },
  {
   "cell_type": "markdown",
   "id": "4c1fc96f",
   "metadata": {},
   "source": [
    "<font size=\"3\"> **Part 1.12:**</font> "
   ]
  },
  {
   "cell_type": "markdown",
   "id": "231f8543",
   "metadata": {},
   "source": [
    " <font size=\"3\"> **LOGISTIC REGRESSION**</font> "
   ]
  },
  {
   "cell_type": "code",
   "execution_count": 1522,
   "id": "5aa2252a",
   "metadata": {},
   "outputs": [
    {
     "data": {
      "text/html": [
       "'Accuracy of the logistic regression on predicting train data is 0.782122905027933'"
      ],
      "text/latex": [
       "'Accuracy of the logistic regression on predicting train data is 0.782122905027933'"
      ],
      "text/markdown": [
       "'Accuracy of the logistic regression on predicting train data is 0.782122905027933'"
      ],
      "text/plain": [
       "[1] \"Accuracy of the logistic regression on predicting train data is 0.782122905027933\""
      ]
     },
     "metadata": {},
     "output_type": "display_data"
    },
    {
     "data": {
      "text/html": [
       "'Accuracy of the logistic regression on predicting scaled train data is 0.782122905027933'"
      ],
      "text/latex": [
       "'Accuracy of the logistic regression on predicting scaled train data is 0.782122905027933'"
      ],
      "text/markdown": [
       "'Accuracy of the logistic regression on predicting scaled train data is 0.782122905027933'"
      ],
      "text/plain": [
       "[1] \"Accuracy of the logistic regression on predicting scaled train data is 0.782122905027933\""
      ]
     },
     "metadata": {},
     "output_type": "display_data"
    }
   ],
   "source": [
    "model_log_scaled<- glm(Outcome ~ ., data = db_train_scaled, family = \"binomial\")\n",
    "predicted_prob_log_s = predict(model_log_scaled,type=\"response\")\n",
    "predicted_outcome_log_scaled = ifelse(predicted_prob_log_s < 0.5, 0, 1)\n",
    "\n",
    "accuracy_log_train = mean(db_train$Outcome == predicted_outcome_log)\n",
    "accuracy_log_train_scaled = mean(db_train_scaled$Outcome == predicted_outcome_log_scaled)\n",
    "\n",
    "\n",
    "paste(\"Accuracy of the logistic regression on predicting train data is\", accuracy_log_train)\n",
    "\n",
    "paste(\"Accuracy of the logistic regression on predicting scaled train data is\", accuracy_log_train_scaled)"
   ]
  },
  {
   "cell_type": "markdown",
   "id": "b64259e7",
   "metadata": {},
   "source": [
    "It looks like scaling our data did not have any effect on how our model fit the data."
   ]
  },
  {
   "cell_type": "markdown",
   "id": "4c949ba2",
   "metadata": {},
   "source": [
    " <font size=\"3\"> **DECISION TREE**</font> "
   ]
  },
  {
   "cell_type": "code",
   "execution_count": 1523,
   "id": "b2496cb6",
   "metadata": {},
   "outputs": [
    {
     "data": {
      "text/html": [
       "'Accuracy of the decision tree on predicting train data is 0.778398510242086'"
      ],
      "text/latex": [
       "'Accuracy of the decision tree on predicting train data is 0.778398510242086'"
      ],
      "text/markdown": [
       "'Accuracy of the decision tree on predicting train data is 0.778398510242086'"
      ],
      "text/plain": [
       "[1] \"Accuracy of the decision tree on predicting train data is 0.778398510242086\""
      ]
     },
     "metadata": {},
     "output_type": "display_data"
    },
    {
     "data": {
      "text/html": [
       "'Accuracy of the decision tree on predicting scaled train data is 0.778398510242086'"
      ],
      "text/latex": [
       "'Accuracy of the decision tree on predicting scaled train data is 0.778398510242086'"
      ],
      "text/markdown": [
       "'Accuracy of the decision tree on predicting scaled train data is 0.778398510242086'"
      ],
      "text/plain": [
       "[1] \"Accuracy of the decision tree on predicting scaled train data is 0.778398510242086\""
      ]
     },
     "metadata": {},
     "output_type": "display_data"
    },
    {
     "data": {
      "image/png": "[encoded data removed]",
      "text/plain": [
       "plot without title"
      ]
     },
     "metadata": {},
     "output_type": "display_data"
    }
   ],
   "source": [
    "model_tree_scaled = rpart(Outcome ~ . , data=db_train_scaled, method = \"class\", control = list(maxdepth = 3))\n",
    "rpart.plot(model_tree_scaled, box.palette = \"YlGnBl\" ,type =1)\n",
    "\n",
    "predicted_train = predict(model_tree_scaled, newdata = db_train_scaled, type = \"class\")\n",
    "accuracy_dt_train_scaled = mean(db_train$Outcome == predicted_train)\n",
    "\n",
    "paste(\"Accuracy of the decision tree on predicting train data is\", accuracy_dt_train)\n",
    "\n",
    "paste(\"Accuracy of the decision tree on predicting scaled train data is\", accuracy_dt_train_scaled)"
   ]
  },
  {
   "cell_type": "markdown",
   "id": "acdefd38",
   "metadata": {},
   "source": [
    "***Discussion:*** \\\n",
    "Scaling the data did not change the accuracy of our decision tree model"
   ]
  },
  {
   "cell_type": "markdown",
   "id": "49d7d4e2",
   "metadata": {},
   "source": [
    " <font size=\"5\"> **KMEANS**</font> "
   ]
  },
  {
   "cell_type": "markdown",
   "id": "a0106b83",
   "metadata": {},
   "source": [
    "<font size=\"3\"> **Part 1.13:**</font> "
   ]
  },
  {
   "cell_type": "markdown",
   "id": "aa3404d6",
   "metadata": {},
   "source": [
    "We will start with cluster of 2 using our total data set"
   ]
  },
  {
   "cell_type": "code",
   "execution_count": 1524,
   "id": "99de666d",
   "metadata": {},
   "outputs": [
    {
     "name": "stdout",
     "output_type": "stream",
     "text": [
      "K-means clustering with 2 clusters of sizes 162, 606\n",
      "\n",
      "Cluster means:\n",
      "  Pregnancies Glucose BloodPressure SkinThickness   Insulin      BMI\n",
      "1    3.648148 141.463      72.56790      31.14815 255.78395 34.88519\n",
      "2    3.897690 115.396      72.36169      28.62018  32.75413 31.80847\n",
      "  DiabetesPedigreeFunction      Age\n",
      "1                0.5950494 33.67284\n",
      "2                0.4389488 33.12541\n",
      "\n",
      "Clustering vector:\n",
      "  [1] 2 2 2 2 1 2 2 2 1 2 2 2 2 1 1 2 1 2 2 2 1 2 2 2 1 2 2 2 2 2 2 1 2 2 2 1 2\n",
      " [38] 2 2 1 2 2 2 1 2 2 2 2 2 2 2 2 2 1 1 2 1 2 2 2 2 2 2 2 2 2 2 2 2 2 2 2 2 1\n",
      " [75] 2 2 2 2 2 2 2 2 2 2 2 2 2 2 2 2 2 1 2 2 2 1 2 2 2 1 2 2 2 2 2 1 2 2 2 2 2\n",
      "[112] 1 2 2 1 2 2 2 2 2 2 2 2 2 2 2 2 2 2 2 1 2 1 2 2 2 2 2 2 1 2 2 2 2 1 2 2 2\n",
      "[149] 2 2 1 2 1 1 2 2 2 2 2 2 2 2 1 2 2 1 2 2 2 2 2 2 2 2 2 2 2 2 2 2 2 2 2 2 2\n",
      "[186] 2 1 2 2 1 2 2 2 2 2 1 2 2 2 1 2 2 2 2 1 2 1 2 2 2 2 2 2 2 1 1 2 2 2 2 1 2\n",
      "[223] 2 1 2 2 2 2 1 2 2 1 2 2 2 2 1 2 2 2 2 2 2 1 1 2 2 1 1 2 2 2 2 2 1 2 2 2 1\n",
      "[260] 1 2 2 2 2 2 2 2 2 2 2 2 2 2 2 2 2 2 2 2 1 2 2 1 2 2 2 1 1 2 2 2 2 1 1 2 2\n",
      "[297] 1 1 1 2 2 2 2 2 2 2 2 1 1 1 2 1 2 2 2 2 2 2 2 2 1 2 2 2 2 1 1 2 2 2 2 2 2\n",
      "[334] 2 2 1 2 2 1 2 2 2 2 2 2 2 2 2 2 2 2 2 2 2 2 2 1 2 2 1 1 2 2 2 1 2 2 2 2 2\n",
      "[371] 1 2 2 2 1 1 2 2 2 2 2 2 1 2 2 2 2 2 1 2 1 2 1 2 2 1 2 2 2 2 2 2 2 2 2 1 2\n",
      "[408] 2 2 1 2 1 1 2 1 1 2 2 2 2 1 2 2 2 1 1 2 1 1 1 2 2 2 2 2 2 2 2 2 2 2 2 2 2\n",
      "[445] 2 2 2 2 2 2 2 2 1 2 2 2 2 2 1 2 2 2 2 2 2 2 2 2 2 2 2 2 2 2 2 2 1 2 2 2 1\n",
      "[482] 2 2 2 2 1 1 1 2 2 2 2 2 2 2 2 2 2 1 1 2 2 2 2 2 2 2 1 2 2 2 1 2 2 2 2 1 2\n",
      "[519] 2 1 2 2 2 2 2 2 2 2 1 2 2 2 2 2 2 2 2 2 1 1 1 1 2 2 2 1 1 1 2 2 2 2 2 2 2\n",
      "[556] 1 2 2 2 2 2 1 2 2 2 2 2 2 2 1 2 2 2 2 1 2 2 2 2 2 2 2 2 2 1 2 2 2 1 2 2 2\n",
      "[593] 2 2 1 1 2 2 2 2 2 2 2 2 2 2 1 2 1 1 1 1 1 2 1 2 2 2 2 2 1 2 2 2 2 2 2 2 2\n",
      "[630] 2 2 2 2 1 2 2 2 2 2 2 2 2 2 2 1 1 1 1 2 2 2 2 2 2 2 1 2 1 2 2 2 2 1 2 2 2\n",
      "[667] 2 2 1 2 1 2 2 1 2 2 2 2 2 1 2 2 2 2 2 1 2 2 1 1 2 2 2 2 2 1 2 2 1 2 1 2 2\n",
      "[704] 2 2 2 2 1 2 1 1 2 2 1 2 1 1 2 1 2 2 1 2 2 2 2 1 2 2 2 2 2 2 1 2 2 2 2 1 2\n",
      "[741] 1 2 2 2 2 2 2 2 1 2 2 2 2 1 2 2 2 2 2 2 2 2 2 1 2 2 2 2\n",
      "\n",
      "Within cluster sum of squares by cluster:\n",
      "[1] 2727305 2118649\n",
      " (between_SS / total_SS =  57.1 %)\n",
      "\n",
      "Available components:\n",
      "\n",
      "[1] \"cluster\"      \"centers\"      \"totss\"        \"withinss\"     \"tot.withinss\"\n",
      "[6] \"betweenss\"    \"size\"         \"iter\"         \"ifault\"      \n"
     ]
    }
   ],
   "source": [
    "model_kmeans_2 = kmeans(db[,c(-9)],2)\n",
    "print(model_kmeans_2)"
   ]
  },
  {
   "cell_type": "markdown",
   "id": "40aea906",
   "metadata": {},
   "source": [
    "There are 2 centers for each of our variables."
   ]
  },
  {
   "cell_type": "code",
   "execution_count": 1525,
   "id": "ef9ed7b5",
   "metadata": {},
   "outputs": [
    {
     "data": {
      "text/html": [
       "<table>\n",
       "<thead><tr><th scope=col>Pregnancies</th><th scope=col>Glucose</th><th scope=col>BloodPressure</th><th scope=col>SkinThickness</th><th scope=col>Insulin</th><th scope=col>BMI</th><th scope=col>DiabetesPedigreeFunction</th><th scope=col>Age</th></tr></thead>\n",
       "<tbody>\n",
       "\t<tr><td>3.648148 </td><td>141.463  </td><td>72.56790 </td><td>31.14815 </td><td>255.78395</td><td>34.88519 </td><td>0.5950494</td><td>33.67284 </td></tr>\n",
       "\t<tr><td>3.897690 </td><td>115.396  </td><td>72.36169 </td><td>28.62018 </td><td> 32.75413</td><td>31.80847 </td><td>0.4389488</td><td>33.12541 </td></tr>\n",
       "</tbody>\n",
       "</table>\n"
      ],
      "text/latex": [
       "\\begin{tabular}{r|llllllll}\n",
       " Pregnancies & Glucose & BloodPressure & SkinThickness & Insulin & BMI & DiabetesPedigreeFunction & Age\\\\\n",
       "\\hline\n",
       "\t 3.648148  & 141.463   & 72.56790  & 31.14815  & 255.78395 & 34.88519  & 0.5950494 & 33.67284 \\\\\n",
       "\t 3.897690  & 115.396   & 72.36169  & 28.62018  &  32.75413 & 31.80847  & 0.4389488 & 33.12541 \\\\\n",
       "\\end{tabular}\n"
      ],
      "text/markdown": [
       "\n",
       "| Pregnancies | Glucose | BloodPressure | SkinThickness | Insulin | BMI | DiabetesPedigreeFunction | Age |\n",
       "|---|---|---|---|---|---|---|---|\n",
       "| 3.648148  | 141.463   | 72.56790  | 31.14815  | 255.78395 | 34.88519  | 0.5950494 | 33.67284  |\n",
       "| 3.897690  | 115.396   | 72.36169  | 28.62018  |  32.75413 | 31.80847  | 0.4389488 | 33.12541  |\n",
       "\n"
      ],
      "text/plain": [
       "  Pregnancies Glucose BloodPressure SkinThickness Insulin   BMI     \n",
       "1 3.648148    141.463 72.56790      31.14815      255.78395 34.88519\n",
       "2 3.897690    115.396 72.36169      28.62018       32.75413 31.80847\n",
       "  DiabetesPedigreeFunction Age     \n",
       "1 0.5950494                33.67284\n",
       "2 0.4389488                33.12541"
      ]
     },
     "metadata": {},
     "output_type": "display_data"
    }
   ],
   "source": [
    "model_kmeans_2$centers"
   ]
  },
  {
   "cell_type": "markdown",
   "id": "1d2fd3e7",
   "metadata": {},
   "source": [
    "Now we can create the contingency table"
   ]
  },
  {
   "cell_type": "code",
   "execution_count": 1526,
   "id": "959a08a7",
   "metadata": {
    "scrolled": true
   },
   "outputs": [
    {
     "data": {
      "text/plain": [
       "   \n",
       "      1   2\n",
       "  0  77 423\n",
       "  1  85 183"
      ]
     },
     "metadata": {},
     "output_type": "display_data"
    }
   ],
   "source": [
    "table(db$Outcome, model_kmeans_2$cluster)"
   ]
  },
  {
   "cell_type": "code",
   "execution_count": 1527,
   "id": "5517822e",
   "metadata": {},
   "outputs": [
    {
     "data": {
      "text/html": [
       "0.661458333333333"
      ],
      "text/latex": [
       "0.661458333333333"
      ],
      "text/markdown": [
       "0.661458333333333"
      ],
      "text/plain": [
       "[1] 0.6614583"
      ]
     },
     "metadata": {},
     "output_type": "display_data"
    }
   ],
   "source": [
    "accuracy_kmeans_2 = (423+85)/768\n",
    "accuracy_kmeans_2"
   ]
  },
  {
   "cell_type": "markdown",
   "id": "39e18ace",
   "metadata": {},
   "source": [
    "***Discussion:*** \\\n",
    "The accuracy of our kmeans model with 2 clusters is not doing a good job in predicting. We can also tell from the contingency table, that the cluster 1 is not predicting the outcome very well."
   ]
  },
  {
   "cell_type": "markdown",
   "id": "55fa7ed3",
   "metadata": {},
   "source": [
    "Now we will plot the clusters based on a few variables to see how well the model clustered our data."
   ]
  },
  {
   "cell_type": "code",
   "execution_count": 1528,
   "id": "9bf55ddd",
   "metadata": {},
   "outputs": [
    {
     "data": {
      "image/png": "[encoded data removed]",
      "text/plain": [
       "Plot with title \"K-means: Diabetes\""
      ]
     },
     "metadata": {},
     "output_type": "display_data"
    }
   ],
   "source": [
    "\n",
    "plot(db$Glucose, db$BMI, col=model_kmeans_2$cluster, \n",
    "     main=\"K-means: Diabetes\", \n",
    "     xlab=\"Glucose\", ylab=\"BMI\", pch=20, cex=2)\n",
    "legend(\"topright\", legend=unique(model_kmeans_2$cluster), fill=1:3)"
   ]
  },
  {
   "cell_type": "code",
   "execution_count": 1529,
   "id": "db60e103",
   "metadata": {},
   "outputs": [
    {
     "data": {
      "image/png": "[encoded data removed]",
      "text/plain": [
       "Plot with title \"K-means: Diabetes\""
      ]
     },
     "metadata": {},
     "output_type": "display_data"
    }
   ],
   "source": [
    "plot(db$Glucose, db$Age, col=model_kmeans_2$cluster, \n",
    "     main=\"K-means: Diabetes\", \n",
    "     xlab=\"Glucose\", ylab=\"Age\", pch=20, cex=2)\n",
    "legend(\"topright\", legend=unique(model_kmeans_2$cluster), fill=1:3)"
   ]
  },
  {
   "cell_type": "markdown",
   "id": "84f2921a",
   "metadata": {},
   "source": [
    "***Discussion:*** \\\n",
    "We see in plots above that our model has not been successful in clustering the datapoints properly and there is a lot of mixture in the plots and we cannot tell where the boundry of each cluster is."
   ]
  },
  {
   "cell_type": "markdown",
   "id": "ff7efa34",
   "metadata": {},
   "source": [
    "Let's evaluate our model with different number of clusters"
   ]
  },
  {
   "cell_type": "code",
   "execution_count": 1530,
   "id": "9b8b3a2e",
   "metadata": {},
   "outputs": [
    {
     "name": "stdout",
     "output_type": "stream",
     "text": [
      "K-means clustering with 3 clusters of sizes 495, 235, 38\n",
      "\n",
      "Cluster means:\n",
      "  Pregnancies  Glucose BloodPressure SkinThickness  Insulin      BMI\n",
      "1    3.981818 114.0081      72.89128      28.36733  14.4000 31.46116\n",
      "2    3.527660 129.3277      71.44681      30.30638 159.1021 34.12748\n",
      "3    4.026316 158.4474      72.00000      32.26316 441.2895 35.10789\n",
      "  DiabetesPedigreeFunction      Age\n",
      "1                0.4319313 33.75960\n",
      "2                0.5402766 31.90213\n",
      "3                0.5692105 34.76316\n",
      "\n",
      "Clustering vector:\n",
      "  [1] 1 1 1 2 2 1 1 1 3 1 1 1 1 3 2 1 2 1 1 2 2 1 1 1 2 2 1 2 2 1 1 2 1 1 1 2 1\n",
      " [38] 1 1 2 1 1 1 2 1 1 1 1 1 1 1 1 1 3 3 1 3 2 1 2 1 1 1 2 1 1 1 1 1 2 2 2 1 2\n",
      " [75] 1 1 1 1 1 1 1 1 1 1 1 2 1 1 2 1 1 2 1 1 1 2 1 1 1 2 1 1 1 1 1 2 1 2 1 1 2\n",
      "[112] 3 1 1 2 1 1 1 1 1 2 1 2 1 1 2 2 2 2 1 2 1 2 1 1 2 1 2 1 3 1 1 1 1 2 1 1 2\n",
      "[149] 1 1 2 1 2 3 1 1 2 2 1 2 1 2 2 1 1 2 1 1 1 1 1 2 1 1 1 2 1 2 1 1 1 2 1 1 1\n",
      "[186] 1 3 1 2 2 1 2 1 1 1 2 1 1 2 3 1 1 1 1 2 1 2 1 1 1 1 1 1 2 2 2 2 2 1 1 3 1\n",
      "[223] 1 2 1 1 1 1 3 1 1 3 1 1 1 1 2 1 1 1 1 1 1 2 2 1 1 3 3 1 1 1 1 1 2 1 1 1 3\n",
      "[260] 2 2 1 1 1 1 1 1 1 1 1 1 1 1 1 1 1 1 2 1 2 1 2 2 1 1 2 3 2 1 1 1 1 2 2 1 2\n",
      "[297] 3 2 2 1 1 2 1 1 1 2 2 2 2 2 1 2 2 1 1 2 1 1 2 1 2 1 1 1 1 2 2 1 2 1 1 1 1\n",
      "[334] 1 1 2 1 1 2 1 2 1 1 1 1 2 1 1 1 1 1 1 1 1 1 1 2 1 1 2 3 1 1 1 2 1 1 1 1 2\n",
      "[371] 3 2 1 2 2 3 1 1 1 1 1 1 2 1 2 1 1 1 2 1 2 1 3 1 1 2 2 1 1 1 1 1 2 1 1 2 1\n",
      "[408] 1 1 3 1 2 3 1 2 3 1 1 1 2 2 1 1 1 2 2 1 2 2 2 1 1 1 1 1 1 1 1 1 1 1 1 2 1\n",
      "[445] 1 1 1 2 1 1 2 1 2 1 2 1 1 1 2 1 1 1 1 1 1 2 1 2 1 2 1 1 1 1 1 1 2 2 1 1 3\n",
      "[482] 1 1 2 1 2 3 2 1 1 1 1 1 2 1 1 1 1 2 2 1 1 1 1 1 1 2 2 1 1 1 2 1 1 1 2 2 1\n",
      "[519] 1 3 1 2 1 1 1 1 1 2 2 1 2 1 1 1 1 1 1 1 2 2 2 2 1 1 1 2 2 2 1 1 1 2 1 1 2\n",
      "[556] 2 1 1 1 1 1 2 1 1 1 1 1 2 2 2 1 1 1 2 3 1 2 1 1 1 1 1 1 1 3 1 1 1 2 1 1 2\n",
      "[593] 1 2 2 2 1 1 1 2 1 1 1 2 1 1 2 1 2 2 2 2 3 1 2 1 1 1 1 1 2 1 1 2 1 1 1 1 1\n",
      "[630] 1 1 2 1 2 1 1 1 1 2 1 2 1 1 1 2 3 2 2 2 1 2 2 1 1 2 3 2 2 1 1 1 1 2 2 1 2\n",
      "[667] 1 1 2 2 2 1 1 2 1 1 1 1 1 2 1 1 2 1 1 2 1 1 2 2 1 1 2 2 1 3 2 1 2 1 2 1 1\n",
      "[704] 1 2 1 1 3 1 2 3 1 1 2 1 3 2 1 2 1 1 2 2 2 1 1 2 1 1 1 1 1 2 2 1 1 2 1 2 1\n",
      "[741] 2 2 2 1 2 2 1 1 2 1 1 1 1 3 1 2 1 1 1 1 1 1 1 2 1 2 1 1\n",
      "\n",
      "Within cluster sum of squares by cluster:\n",
      "[1] 1066083.8  915944.5  653432.1\n",
      " (between_SS / total_SS =  76.7 %)\n",
      "\n",
      "Available components:\n",
      "\n",
      "[1] \"cluster\"      \"centers\"      \"totss\"        \"withinss\"     \"tot.withinss\"\n",
      "[6] \"betweenss\"    \"size\"         \"iter\"         \"ifault\"      \n"
     ]
    }
   ],
   "source": [
    "model_kmeans_3 = kmeans(db[,c(-9)],3)\n",
    "print(model_kmeans_3)"
   ]
  },
  {
   "cell_type": "code",
   "execution_count": 1531,
   "id": "eafb5ab8",
   "metadata": {},
   "outputs": [
    {
     "data": {
      "text/html": [
       "<table>\n",
       "<thead><tr><th scope=col>Pregnancies</th><th scope=col>Glucose</th><th scope=col>BloodPressure</th><th scope=col>SkinThickness</th><th scope=col>Insulin</th><th scope=col>BMI</th><th scope=col>DiabetesPedigreeFunction</th><th scope=col>Age</th></tr></thead>\n",
       "<tbody>\n",
       "\t<tr><td>3.981818 </td><td>114.0081 </td><td>72.89128 </td><td>28.36733 </td><td> 14.4000 </td><td>31.46116 </td><td>0.4319313</td><td>33.75960 </td></tr>\n",
       "\t<tr><td>3.527660 </td><td>129.3277 </td><td>71.44681 </td><td>30.30638 </td><td>159.1021 </td><td>34.12748 </td><td>0.5402766</td><td>31.90213 </td></tr>\n",
       "\t<tr><td>4.026316 </td><td>158.4474 </td><td>72.00000 </td><td>32.26316 </td><td>441.2895 </td><td>35.10789 </td><td>0.5692105</td><td>34.76316 </td></tr>\n",
       "</tbody>\n",
       "</table>\n"
      ],
      "text/latex": [
       "\\begin{tabular}{r|llllllll}\n",
       " Pregnancies & Glucose & BloodPressure & SkinThickness & Insulin & BMI & DiabetesPedigreeFunction & Age\\\\\n",
       "\\hline\n",
       "\t 3.981818  & 114.0081  & 72.89128  & 28.36733  &  14.4000  & 31.46116  & 0.4319313 & 33.75960 \\\\\n",
       "\t 3.527660  & 129.3277  & 71.44681  & 30.30638  & 159.1021  & 34.12748  & 0.5402766 & 31.90213 \\\\\n",
       "\t 4.026316  & 158.4474  & 72.00000  & 32.26316  & 441.2895  & 35.10789  & 0.5692105 & 34.76316 \\\\\n",
       "\\end{tabular}\n"
      ],
      "text/markdown": [
       "\n",
       "| Pregnancies | Glucose | BloodPressure | SkinThickness | Insulin | BMI | DiabetesPedigreeFunction | Age |\n",
       "|---|---|---|---|---|---|---|---|\n",
       "| 3.981818  | 114.0081  | 72.89128  | 28.36733  |  14.4000  | 31.46116  | 0.4319313 | 33.75960  |\n",
       "| 3.527660  | 129.3277  | 71.44681  | 30.30638  | 159.1021  | 34.12748  | 0.5402766 | 31.90213  |\n",
       "| 4.026316  | 158.4474  | 72.00000  | 32.26316  | 441.2895  | 35.10789  | 0.5692105 | 34.76316  |\n",
       "\n"
      ],
      "text/plain": [
       "  Pregnancies Glucose  BloodPressure SkinThickness Insulin  BMI     \n",
       "1 3.981818    114.0081 72.89128      28.36733       14.4000 31.46116\n",
       "2 3.527660    129.3277 71.44681      30.30638      159.1021 34.12748\n",
       "3 4.026316    158.4474 72.00000      32.26316      441.2895 35.10789\n",
       "  DiabetesPedigreeFunction Age     \n",
       "1 0.4319313                33.75960\n",
       "2 0.5402766                31.90213\n",
       "3 0.5692105                34.76316"
      ]
     },
     "metadata": {},
     "output_type": "display_data"
    }
   ],
   "source": [
    "model_kmeans_3$centers"
   ]
  },
  {
   "cell_type": "code",
   "execution_count": 1532,
   "id": "06de9cca",
   "metadata": {},
   "outputs": [
    {
     "data": {
      "text/plain": [
       "   \n",
       "      1   2   3\n",
       "  0 347 137  16\n",
       "  1 148  98  22"
      ]
     },
     "metadata": {},
     "output_type": "display_data"
    }
   ],
   "source": [
    "table(db$Outcome, model_kmeans_3$cluster)"
   ]
  },
  {
   "cell_type": "code",
   "execution_count": 1533,
   "id": "e1ec648c",
   "metadata": {},
   "outputs": [
    {
     "data": {
      "text/html": [
       "0.658854166666667"
      ],
      "text/latex": [
       "0.658854166666667"
      ],
      "text/markdown": [
       "0.658854166666667"
      ],
      "text/plain": [
       "[1] 0.6588542"
      ]
     },
     "metadata": {},
     "output_type": "display_data"
    }
   ],
   "source": [
    "(347+22+137)/768"
   ]
  },
  {
   "cell_type": "markdown",
   "id": "f094a84d",
   "metadata": {},
   "source": [
    "Accuracy is still the same."
   ]
  },
  {
   "cell_type": "code",
   "execution_count": 1534,
   "id": "61a33f03",
   "metadata": {},
   "outputs": [
    {
     "data": {
      "image/png": "[encoded data removed]",
      "text/plain": [
       "Plot with title \"K-means: Diabetes\""
      ]
     },
     "metadata": {},
     "output_type": "display_data"
    }
   ],
   "source": [
    "plot(db$Glucose, db$BMI, col=model_kmeans_3$cluster, \n",
    "     main=\"K-means: Diabetes\", \n",
    "     xlab=\"Glucose\", ylab=\"BMI\", pch=20, cex=2)\n",
    "legend(\"topright\", legend=unique(model_kmeans_3$cluster), fill=1:3)\n"
   ]
  },
  {
   "cell_type": "code",
   "execution_count": 1536,
   "id": "366d31bd",
   "metadata": {
    "scrolled": true
   },
   "outputs": [
    {
     "data": {
      "text/html": [
       "38"
      ],
      "text/latex": [
       "38"
      ],
      "text/markdown": [
       "38"
      ],
      "text/plain": [
       "[1] 38"
      ]
     },
     "metadata": {},
     "output_type": "display_data"
    }
   ],
   "source": [
    "(sum(model_kmeans_3$cluster == 3))"
   ]
  },
  {
   "cell_type": "markdown",
   "id": "0f662633",
   "metadata": {},
   "source": [
    "***Discussion:*** \\\n",
    "We can see in the plot, that clustering the data points got worse with adding to the number of clusters. \\\n",
    "Also we can see that cluster 1 is only fitting a few data points and is not helping the model to make a better prediction."
   ]
  },
  {
   "cell_type": "markdown",
   "id": "4a7d7124",
   "metadata": {},
   "source": [
    "Comparing only 2 different number of clusters might not be a great way of drawing conclusions. So we will run our model with 1 to 10 different number of clusters and plot the clusters against total within-cluster sum of squares."
   ]
  },
  {
   "cell_type": "code",
   "execution_count": 1537,
   "id": "c7175c4b",
   "metadata": {
    "scrolled": true
   },
   "outputs": [
    {
     "data": {
      "text/html": [
       "<ol class=list-inline>\n",
       "\t<li>11293358.0312383</li>\n",
       "\t<li>4845953.71900954</li>\n",
       "\t<li>2635460.40841778</li>\n",
       "\t<li>1883164.25972186</li>\n",
       "\t<li>1576950.63162683</li>\n",
       "\t<li>1204076.52680896</li>\n",
       "\t<li>1120664.47755274</li>\n",
       "\t<li>987469.505886032</li>\n",
       "\t<li>928141.578738728</li>\n",
       "\t<li>923818.227765827</li>\n",
       "</ol>\n"
      ],
      "text/latex": [
       "\\begin{enumerate*}\n",
       "\\item 11293358.0312383\n",
       "\\item 4845953.71900954\n",
       "\\item 2635460.40841778\n",
       "\\item 1883164.25972186\n",
       "\\item 1576950.63162683\n",
       "\\item 1204076.52680896\n",
       "\\item 1120664.47755274\n",
       "\\item 987469.505886032\n",
       "\\item 928141.578738728\n",
       "\\item 923818.227765827\n",
       "\\end{enumerate*}\n"
      ],
      "text/markdown": [
       "1. 11293358.0312383\n",
       "2. 4845953.71900954\n",
       "3. 2635460.40841778\n",
       "4. 1883164.25972186\n",
       "5. 1576950.63162683\n",
       "6. 1204076.52680896\n",
       "7. 1120664.47755274\n",
       "8. 987469.505886032\n",
       "9. 928141.578738728\n",
       "10. 923818.227765827\n",
       "\n",
       "\n"
      ],
      "text/plain": [
       " [1] 11293358.0  4845953.7  2635460.4  1883164.3  1576950.6  1204076.5\n",
       " [7]  1120664.5   987469.5   928141.6   923818.2"
      ]
     },
     "metadata": {},
     "output_type": "display_data"
    }
   ],
   "source": [
    "wss = c()\n",
    "for (i in 1:10) {\n",
    "    model_kmeans_i = kmeans(db[,c(-9)],i)\n",
    "    wss = append(wss, model_kmeans_i$tot.withinss)\n",
    "}\n",
    "wss"
   ]
  },
  {
   "cell_type": "markdown",
   "id": "d533d6a5",
   "metadata": {},
   "source": [
    "***Discussion:*** \\\n",
    "wss are all big numbers which might help to use scaled data next time to see if it helps to have more reasonable numbers. But as far as number of clusters we need to compare them in a plot."
   ]
  },
  {
   "cell_type": "code",
   "execution_count": 1538,
   "id": "70a471d3",
   "metadata": {},
   "outputs": [
    {
     "data": {
      "image/png": "[encoded data removed]",
      "text/plain": [
       "Plot with title \"elbow for tot.withinss of kmeans\""
      ]
     },
     "metadata": {},
     "output_type": "display_data"
    }
   ],
   "source": [
    "plot(c(1:10), wss, xlab = \"Number of Clusters\", main=\"elbow for tot.withinss of kmeans\")"
   ]
  },
  {
   "cell_type": "markdown",
   "id": "57a21f9a",
   "metadata": {},
   "source": [
    "***Discussion:*** \\\n",
    "We see that the elbow happens at number 4, which could mean that increasing the number of clusters from 2 to 4 will help our model but after 4 it will not help a lot. So 4 could be our optimum number.\\\n",
    "\n",
    "Now we want to do the same steps on the scaled data (whole data) except the outcome column."
   ]
  },
  {
   "cell_type": "code",
   "execution_count": 1547,
   "id": "8977aaa1",
   "metadata": {},
   "outputs": [
    {
     "data": {
      "text/html": [
       "<table>\n",
       "<thead><tr><th scope=col>Pregnancies</th><th scope=col>Glucose</th><th scope=col>BloodPressure</th><th scope=col>SkinThickness</th><th scope=col>Insulin</th><th scope=col>BMI</th><th scope=col>DiabetesPedigreeFunction</th><th scope=col>Age</th><th scope=col>Outcome</th></tr></thead>\n",
       "<tbody>\n",
       "\t<tr><td> 0.6395305 </td><td> 0.8477713 </td><td>-0.03349641</td><td> 0.66506871</td><td>-0.6924393 </td><td> 0.1661834 </td><td> 0.4681869 </td><td> 1.42506672</td><td>1          </td></tr>\n",
       "\t<tr><td>-0.8443348 </td><td>-1.1226647 </td><td>-0.52951396</td><td>-0.01745201</td><td>-0.6924393 </td><td>-0.8519760 </td><td>-0.3648230 </td><td>-0.19054773</td><td>0          </td></tr>\n",
       "\t<tr><td> 1.2330766 </td><td> 1.9424580 </td><td>-0.69485314</td><td> 0.00000000</td><td>-0.6924393 </td><td>-1.3319654 </td><td> 0.6040037 </td><td>-0.10551539</td><td>1          </td></tr>\n",
       "\t<tr><td>-0.8443348 </td><td>-0.9975577 </td><td>-0.52951396</td><td>-0.69997273</td><td> 0.1232213 </td><td>-0.6337989 </td><td>-0.9201630 </td><td>-1.04087112</td><td>0          </td></tr>\n",
       "\t<tr><td>-1.1411079 </td><td> 0.5037269 </td><td>-2.67892334</td><td> 0.66506871</td><td> 0.7653372 </td><td> 1.5479712 </td><td> 5.4813370 </td><td>-0.02048305</td><td>1          </td></tr>\n",
       "\t<tr><td> 0.3427574 </td><td>-0.1530851 </td><td> 0.13184277</td><td> 0.00000000</td><td>-0.6924393 </td><td>-0.9974273 </td><td>-0.8175458 </td><td>-0.27558007</td><td>0          </td></tr>\n",
       "</tbody>\n",
       "</table>\n"
      ],
      "text/latex": [
       "\\begin{tabular}{r|lllllllll}\n",
       " Pregnancies & Glucose & BloodPressure & SkinThickness & Insulin & BMI & DiabetesPedigreeFunction & Age & Outcome\\\\\n",
       "\\hline\n",
       "\t  0.6395305  &  0.8477713  & -0.03349641 &  0.66506871 & -0.6924393  &  0.1661834  &  0.4681869  &  1.42506672 & 1          \\\\\n",
       "\t -0.8443348  & -1.1226647  & -0.52951396 & -0.01745201 & -0.6924393  & -0.8519760  & -0.3648230  & -0.19054773 & 0          \\\\\n",
       "\t  1.2330766  &  1.9424580  & -0.69485314 &  0.00000000 & -0.6924393  & -1.3319654  &  0.6040037  & -0.10551539 & 1          \\\\\n",
       "\t -0.8443348  & -0.9975577  & -0.52951396 & -0.69997273 &  0.1232213  & -0.6337989  & -0.9201630  & -1.04087112 & 0          \\\\\n",
       "\t -1.1411079  &  0.5037269  & -2.67892334 &  0.66506871 &  0.7653372  &  1.5479712  &  5.4813370  & -0.02048305 & 1          \\\\\n",
       "\t  0.3427574  & -0.1530851  &  0.13184277 &  0.00000000 & -0.6924393  & -0.9974273  & -0.8175458  & -0.27558007 & 0          \\\\\n",
       "\\end{tabular}\n"
      ],
      "text/markdown": [
       "\n",
       "| Pregnancies | Glucose | BloodPressure | SkinThickness | Insulin | BMI | DiabetesPedigreeFunction | Age | Outcome |\n",
       "|---|---|---|---|---|---|---|---|---|\n",
       "|  0.6395305  |  0.8477713  | -0.03349641 |  0.66506871 | -0.6924393  |  0.1661834  |  0.4681869  |  1.42506672 | 1           |\n",
       "| -0.8443348  | -1.1226647  | -0.52951396 | -0.01745201 | -0.6924393  | -0.8519760  | -0.3648230  | -0.19054773 | 0           |\n",
       "|  1.2330766  |  1.9424580  | -0.69485314 |  0.00000000 | -0.6924393  | -1.3319654  |  0.6040037  | -0.10551539 | 1           |\n",
       "| -0.8443348  | -0.9975577  | -0.52951396 | -0.69997273 |  0.1232213  | -0.6337989  | -0.9201630  | -1.04087112 | 0           |\n",
       "| -1.1411079  |  0.5037269  | -2.67892334 |  0.66506871 |  0.7653372  |  1.5479712  |  5.4813370  | -0.02048305 | 1           |\n",
       "|  0.3427574  | -0.1530851  |  0.13184277 |  0.00000000 | -0.6924393  | -0.9974273  | -0.8175458  | -0.27558007 | 0           |\n",
       "\n"
      ],
      "text/plain": [
       "  Pregnancies Glucose    BloodPressure SkinThickness Insulin    BMI       \n",
       "1  0.6395305   0.8477713 -0.03349641    0.66506871   -0.6924393  0.1661834\n",
       "2 -0.8443348  -1.1226647 -0.52951396   -0.01745201   -0.6924393 -0.8519760\n",
       "3  1.2330766   1.9424580 -0.69485314    0.00000000   -0.6924393 -1.3319654\n",
       "4 -0.8443348  -0.9975577 -0.52951396   -0.69997273    0.1232213 -0.6337989\n",
       "5 -1.1411079   0.5037269 -2.67892334    0.66506871    0.7653372  1.5479712\n",
       "6  0.3427574  -0.1530851  0.13184277    0.00000000   -0.6924393 -0.9974273\n",
       "  DiabetesPedigreeFunction Age         Outcome\n",
       "1  0.4681869                1.42506672 1      \n",
       "2 -0.3648230               -0.19054773 0      \n",
       "3  0.6040037               -0.10551539 1      \n",
       "4 -0.9201630               -1.04087112 0      \n",
       "5  5.4813370               -0.02048305 1      \n",
       "6 -0.8175458               -0.27558007 0      "
      ]
     },
     "metadata": {},
     "output_type": "display_data"
    }
   ],
   "source": [
    "db_scaled = db\n",
    "db_scaled[, -9] = scale(db[,-9])\n",
    "head(db_scaled)"
   ]
  },
  {
   "cell_type": "code",
   "execution_count": 1548,
   "id": "899651fa",
   "metadata": {},
   "outputs": [
    {
     "data": {
      "text/html": [
       "<ol class=list-inline>\n",
       "\t<li>6135.99999999995</li>\n",
       "\t<li>5018.00467309923</li>\n",
       "\t<li>4318.79064929659</li>\n",
       "\t<li>3986.48078922615</li>\n",
       "\t<li>3774.5932230821</li>\n",
       "\t<li>3571.18656938995</li>\n",
       "\t<li>3407.40613790125</li>\n",
       "\t<li>3237.55225285292</li>\n",
       "\t<li>3086.20528861399</li>\n",
       "\t<li>2995.15924094398</li>\n",
       "</ol>\n"
      ],
      "text/latex": [
       "\\begin{enumerate*}\n",
       "\\item 6135.99999999995\n",
       "\\item 5018.00467309923\n",
       "\\item 4318.79064929659\n",
       "\\item 3986.48078922615\n",
       "\\item 3774.5932230821\n",
       "\\item 3571.18656938995\n",
       "\\item 3407.40613790125\n",
       "\\item 3237.55225285292\n",
       "\\item 3086.20528861399\n",
       "\\item 2995.15924094398\n",
       "\\end{enumerate*}\n"
      ],
      "text/markdown": [
       "1. 6135.99999999995\n",
       "2. 5018.00467309923\n",
       "3. 4318.79064929659\n",
       "4. 3986.48078922615\n",
       "5. 3774.5932230821\n",
       "6. 3571.18656938995\n",
       "7. 3407.40613790125\n",
       "8. 3237.55225285292\n",
       "9. 3086.20528861399\n",
       "10. 2995.15924094398\n",
       "\n",
       "\n"
      ],
      "text/plain": [
       " [1] 6136.000 5018.005 4318.791 3986.481 3774.593 3571.187 3407.406 3237.552\n",
       " [9] 3086.205 2995.159"
      ]
     },
     "metadata": {},
     "output_type": "display_data"
    }
   ],
   "source": [
    "wss_scaled = c()\n",
    "for (i in 1:10) {\n",
    "    model_kmeans_i = kmeans(db_scaled[,c(-9)],i)\n",
    "    wss_scaled = append(wss_scaled, model_kmeans_i$tot.withinss)\n",
    "}\n",
    "wss_scaled"
   ]
  },
  {
   "cell_type": "markdown",
   "id": "84da2f8f",
   "metadata": {},
   "source": [
    "Our wss amount scaled down a little too."
   ]
  },
  {
   "cell_type": "code",
   "execution_count": 1549,
   "id": "4f7e37d0",
   "metadata": {},
   "outputs": [
    {
     "data": {
      "image/png": "[encoded data removed]",
      "text/plain": [
       "Plot with title \"elbow for tot.withinss of kmeans (scaled)\""
      ]
     },
     "metadata": {},
     "output_type": "display_data"
    }
   ],
   "source": [
    "plot(c(1:10), wss_scaled, xlab = \"Number of Clusters\", main=\"elbow for tot.withinss of kmeans (scaled)\")"
   ]
  },
  {
   "cell_type": "markdown",
   "id": "99ea47ea",
   "metadata": {},
   "source": [
    "***Discussion:*** \\\n",
    "The curve changed and now the elbow of the curve is 4 for our scaled data. \\\n",
    "Based on how the clustering method works, scaling the data is important, because in clustering the model \\\n",
    "is comparing the similarity or distance of data points. Therefore if our data has different range and scale, this would mislead our clustering model."
   ]
  },
  {
   "cell_type": "code",
   "execution_count": 1550,
   "id": "f63e8a15",
   "metadata": {},
   "outputs": [
    {
     "data": {
      "image/png": "[encoded data removed]",
      "text/plain": [
       "Plot with title \"K-means: Diabetes (scaled)\""
      ]
     },
     "metadata": {},
     "output_type": "display_data"
    }
   ],
   "source": [
    "\n",
    "par(mfrow=c(1,2))\n",
    "\n",
    "#Our kmeans model\n",
    "model_kmeans_4 = kmeans(db[,c(-9)],4)\n",
    "plot(db$Age, db$BMI, col=model_kmeans_4$cluster, \n",
    "     main=\"K-means: Diabetes\", \n",
    "     xlab=\"Age\", ylab=\"BMI\", pch=20, cex=2)\n",
    "legend(\"topright\", legend=unique(model_kmeans_4$cluster), fill=1:4)\n",
    "\n",
    "#Our scaled kmeans model\n",
    "model_kmeans_4_scaled = kmeans(db_scaled[,c(-9)],4)\n",
    "plot(db_scaled$Age, db_scaled$BMI, col=model_kmeans_4_scaled$cluster, \n",
    "     main=\"K-means: Diabetes (scaled)\", \n",
    "     xlab=\"Age\", ylab=\"BMI\", pch=20, cex=2)\n",
    "legend(\"topright\", legend=unique(model_kmeans_4_scaled$cluster), fill=1:4)\n"
   ]
  },
  {
   "cell_type": "markdown",
   "id": "0d6d0ebc",
   "metadata": {},
   "source": [
    "***Discussion:*** \\\n",
    "When we compare the plots above, we realize that after scaling our data, the model was better at clustering the data in our Age-BMI scatter plots. As we said, this is because besides having the optimum number of clusters, we need to scale our data for a better kmeans model."
   ]
  },
  {
   "cell_type": "markdown",
   "id": "b2aeacb2",
   "metadata": {},
   "source": [
    "<font size=\"3\"> **Part 1.14:**</font> "
   ]
  },
  {
   "cell_type": "markdown",
   "id": "d6973916",
   "metadata": {},
   "source": [
    "Contingency table for our data without scaling"
   ]
  },
  {
   "cell_type": "code",
   "execution_count": 1551,
   "id": "d61f16dd",
   "metadata": {
    "scrolled": true
   },
   "outputs": [
    {
     "data": {
      "text/plain": [
       "   \n",
       "      1   2   3   4\n",
       "  0  10 273  55 162\n",
       "  1  14 142  59  53"
      ]
     },
     "metadata": {},
     "output_type": "display_data"
    }
   ],
   "source": [
    "table(db$Outcome, model_kmeans_4$cluster)"
   ]
  },
  {
   "cell_type": "code",
   "execution_count": 1552,
   "id": "29275e79",
   "metadata": {},
   "outputs": [
    {
     "data": {
      "text/html": [
       "0.661458333333333"
      ],
      "text/latex": [
       "0.661458333333333"
      ],
      "text/markdown": [
       "0.661458333333333"
      ],
      "text/plain": [
       "[1] 0.6614583"
      ]
     },
     "metadata": {},
     "output_type": "display_data"
    }
   ],
   "source": [
    "accuracy = (14+59+273+162)/768\n",
    "accuracy"
   ]
  },
  {
   "cell_type": "markdown",
   "id": "d8bd6761",
   "metadata": {},
   "source": [
    "Contingency table for our scaled data"
   ]
  },
  {
   "cell_type": "code",
   "execution_count": 1553,
   "id": "1cef3536",
   "metadata": {},
   "outputs": [
    {
     "data": {
      "text/plain": [
       "   \n",
       "      1   2   3   4\n",
       "  0 100 262  21 117\n",
       "  1  76  34  49 109"
      ]
     },
     "metadata": {},
     "output_type": "display_data"
    }
   ],
   "source": [
    "table(db$Outcome, model_kmeans_4_scaled$cluster)"
   ]
  },
  {
   "cell_type": "code",
   "execution_count": 1554,
   "id": "8931a2ef",
   "metadata": {},
   "outputs": [
    {
     "data": {
      "text/html": [
       "0.6875"
      ],
      "text/latex": [
       "0.6875"
      ],
      "text/markdown": [
       "0.6875"
      ],
      "text/plain": [
       "[1] 0.6875"
      ]
     },
     "metadata": {},
     "output_type": "display_data"
    }
   ],
   "source": [
    "accuracy_scaled = (100+262+49+117)/768\n",
    "accuracy_scaled"
   ]
  },
  {
   "cell_type": "markdown",
   "id": "32e4309a",
   "metadata": {},
   "source": [
    "The accuracy of our kmeans improved by scaling our data."
   ]
  },
  {
   "cell_type": "markdown",
   "id": "0d31736c",
   "metadata": {},
   "source": [
    "<font size=\"3\"> **Part 1.15:**</font> "
   ]
  },
  {
   "cell_type": "markdown",
   "id": "d4787a96",
   "metadata": {},
   "source": [
    "Let's create our kmedoids model with 4 number of medoids."
   ]
  },
  {
   "cell_type": "code",
   "execution_count": 1585,
   "id": "0e86c474",
   "metadata": {},
   "outputs": [
    {
     "data": {
      "text/plain": [
       "Medoids:\n",
       "      ID Pregnancies    Glucose BloodPressure SkinThickness    Insulin\n",
       "[1,] 755  1.23307662  1.0354319     0.4625211     0.3238084 -0.6924393\n",
       "[2,] 169  0.04598437 -0.3407457    -0.5295140     0.0000000 -0.6924393\n",
       "[3,] 422 -0.54756176 -0.8411739    -0.3641748    -1.2687400 -0.0329690\n",
       "[4,] 245 -0.54756176  0.7852178     0.2971820     0.6650687  0.9909455\n",
       "              BMI DiabetesPedigreeFunction        Age\n",
       "[1,] -0.008358168             -0.087153064  0.9999050\n",
       "[2,] -0.081083840             -0.002644813 -0.3606124\n",
       "[3,] -0.939246769              0.268988851 -1.0408711\n",
       "[4,]  0.835259626             -0.431222370 -0.3606124\n",
       "Clustering vector:\n",
       "  [1] 1 2 1 3 2 2 2 2 4 1 2 1 1 4 1 2 4 2 2 2 4 1 1 1 1 1 1 3 1 1 1 4 3 2 1 2 1\n",
       " [38] 1 2 4 4 1 1 1 1 4 2 3 2 2 3 3 3 1 4 3 4 4 2 4 2 1 2 2 2 2 2 1 3 4 3 2 1 4\n",
       " [75] 2 3 2 2 4 3 3 2 2 3 1 2 1 2 1 3 3 3 2 1 3 4 2 3 2 4 2 2 3 3 2 3 3 2 2 2 4\n",
       "[112] 4 2 2 1 1 2 2 2 3 4 2 2 1 2 2 4 2 4 1 4 2 4 2 3 2 3 3 2 4 1 2 2 1 4 3 2 2\n",
       "[149] 1 3 4 2 1 4 1 1 3 3 3 1 1 1 4 3 2 3 2 2 2 3 2 2 3 2 2 1 2 4 1 1 2 3 3 2 1\n",
       "[186] 1 4 4 2 4 2 1 1 1 2 4 2 3 2 4 3 4 3 3 1 2 1 1 2 1 3 4 1 4 1 1 2 2 3 2 4 1\n",
       "[223] 2 1 3 2 2 2 4 4 4 4 3 2 2 4 1 4 1 3 3 2 2 3 4 1 1 4 4 3 2 2 3 2 3 2 2 2 4\n",
       "[260] 1 4 2 2 1 2 2 2 2 2 2 1 2 2 2 1 4 2 3 1 3 2 1 1 1 2 1 4 4 3 2 2 2 4 4 1 2\n",
       "[297] 4 4 1 1 2 2 2 4 2 4 1 3 3 4 2 4 3 3 1 2 3 1 4 1 3 2 2 1 2 3 4 1 4 2 1 3 4\n",
       "[334] 1 3 4 2 1 1 1 3 3 2 2 1 1 3 2 3 2 2 2 2 3 2 1 2 1 1 4 4 1 1 1 4 2 2 3 3 4\n",
       "[371] 4 3 3 2 2 1 3 2 4 4 2 3 3 3 3 3 2 1 1 3 2 4 3 3 1 3 2 2 3 4 2 1 4 2 1 4 2\n",
       "[408] 3 1 4 2 4 4 3 4 4 3 1 3 2 4 3 4 2 4 4 2 4 4 4 2 3 3 2 3 4 1 2 3 2 1 3 2 2\n",
       "[445] 3 4 3 4 2 3 3 2 4 1 2 1 2 2 1 1 1 3 2 2 1 3 3 2 1 4 4 2 2 1 2 1 4 3 1 1 4\n",
       "[482] 4 3 4 4 4 4 4 3 1 2 2 2 3 2 1 2 3 1 1 3 2 2 2 2 2 4 3 3 1 1 3 1 2 3 2 1 1\n",
       "[519] 2 1 2 4 2 1 2 3 3 3 4 2 3 2 2 2 2 2 2 2 4 4 4 4 1 2 2 1 1 2 4 1 2 2 1 3 2\n",
       "[556] 2 2 1 1 2 1 4 2 3 2 3 2 2 4 4 2 2 2 3 4 2 3 2 1 1 4 2 1 1 4 3 1 2 1 3 1 4\n",
       "[593] 1 3 4 4 2 3 4 3 3 2 2 1 1 2 4 3 4 3 3 4 4 2 1 2 1 3 1 2 4 3 1 4 2 4 2 2 1\n",
       "[630] 3 2 4 2 3 2 1 2 3 2 3 3 2 1 2 3 4 3 4 1 3 3 2 4 2 2 4 2 4 1 2 1 4 4 1 2 4\n",
       "[667] 1 1 2 1 1 3 1 4 1 1 1 2 2 3 3 4 4 2 1 4 2 3 3 4 2 1 2 1 2 4 4 3 3 2 4 1 1\n",
       "[704] 2 3 2 2 4 1 2 4 1 1 3 2 4 4 1 4 1 3 4 4 4 1 2 4 2 2 2 2 2 4 3 2 2 3 2 3 2\n",
       "[741] 1 3 3 1 1 1 4 2 4 1 2 4 2 4 1 4 1 2 2 1 3 1 2 1 2 2 2 2\n",
       "Objective function:\n",
       "   build     swap \n",
       "2.216854 2.216854 \n",
       "\n",
       "Available components:\n",
       " [1] \"medoids\"    \"id.med\"     \"clustering\" \"objective\"  \"isolation\" \n",
       " [6] \"clusinfo\"   \"silinfo\"    \"diss\"       \"call\"       \"data\"      "
      ]
     },
     "metadata": {},
     "output_type": "display_data"
    }
   ],
   "source": [
    "library(cluster)\n",
    "model_pam = pam(db_scaled[,c(-9)], 4)\n",
    "model_pam"
   ]
  },
  {
   "cell_type": "markdown",
   "id": "0a97d95c",
   "metadata": {},
   "source": [
    "Here are the data points that are selected as the medoids of our kmedoids model."
   ]
  },
  {
   "cell_type": "code",
   "execution_count": 1586,
   "id": "7a4fa8ec",
   "metadata": {},
   "outputs": [
    {
     "data": {
      "text/html": [
       "<table>\n",
       "<thead><tr><th scope=col>Pregnancies</th><th scope=col>Glucose</th><th scope=col>BloodPressure</th><th scope=col>SkinThickness</th><th scope=col>Insulin</th><th scope=col>BMI</th><th scope=col>DiabetesPedigreeFunction</th><th scope=col>Age</th></tr></thead>\n",
       "<tbody>\n",
       "\t<tr><td> 1.23307662 </td><td> 1.0354319  </td><td> 0.4625211  </td><td> 0.3238084  </td><td>-0.6924393  </td><td>-0.008358168</td><td>-0.087153064</td><td> 0.9999050  </td></tr>\n",
       "\t<tr><td> 0.04598437 </td><td>-0.3407457  </td><td>-0.5295140  </td><td> 0.0000000  </td><td>-0.6924393  </td><td>-0.081083840</td><td>-0.002644813</td><td>-0.3606124  </td></tr>\n",
       "\t<tr><td>-0.54756176 </td><td>-0.8411739  </td><td>-0.3641748  </td><td>-1.2687400  </td><td>-0.0329690  </td><td>-0.939246769</td><td> 0.268988851</td><td>-1.0408711  </td></tr>\n",
       "\t<tr><td>-0.54756176 </td><td> 0.7852178  </td><td> 0.2971820  </td><td> 0.6650687  </td><td> 0.9909455  </td><td> 0.835259626</td><td>-0.431222370</td><td>-0.3606124  </td></tr>\n",
       "</tbody>\n",
       "</table>\n"
      ],
      "text/latex": [
       "\\begin{tabular}{llllllll}\n",
       " Pregnancies & Glucose & BloodPressure & SkinThickness & Insulin & BMI & DiabetesPedigreeFunction & Age\\\\\n",
       "\\hline\n",
       "\t  1.23307662  &  1.0354319   &  0.4625211   &  0.3238084   & -0.6924393   & -0.008358168 & -0.087153064 &  0.9999050  \\\\\n",
       "\t  0.04598437  & -0.3407457   & -0.5295140   &  0.0000000   & -0.6924393   & -0.081083840 & -0.002644813 & -0.3606124  \\\\\n",
       "\t -0.54756176  & -0.8411739   & -0.3641748   & -1.2687400   & -0.0329690   & -0.939246769 &  0.268988851 & -1.0408711  \\\\\n",
       "\t -0.54756176  &  0.7852178   &  0.2971820   &  0.6650687   &  0.9909455   &  0.835259626 & -0.431222370 & -0.3606124  \\\\\n",
       "\\end{tabular}\n"
      ],
      "text/markdown": [
       "\n",
       "| Pregnancies | Glucose | BloodPressure | SkinThickness | Insulin | BMI | DiabetesPedigreeFunction | Age |\n",
       "|---|---|---|---|---|---|---|---|\n",
       "|  1.23307662  |  1.0354319   |  0.4625211   |  0.3238084   | -0.6924393   | -0.008358168 | -0.087153064 |  0.9999050   |\n",
       "|  0.04598437  | -0.3407457   | -0.5295140   |  0.0000000   | -0.6924393   | -0.081083840 | -0.002644813 | -0.3606124   |\n",
       "| -0.54756176  | -0.8411739   | -0.3641748   | -1.2687400   | -0.0329690   | -0.939246769 |  0.268988851 | -1.0408711   |\n",
       "| -0.54756176  |  0.7852178   |  0.2971820   |  0.6650687   |  0.9909455   |  0.835259626 | -0.431222370 | -0.3606124   |\n",
       "\n"
      ],
      "text/plain": [
       "     Pregnancies Glucose    BloodPressure SkinThickness Insulin    BMI         \n",
       "[1,]  1.23307662  1.0354319  0.4625211     0.3238084    -0.6924393 -0.008358168\n",
       "[2,]  0.04598437 -0.3407457 -0.5295140     0.0000000    -0.6924393 -0.081083840\n",
       "[3,] -0.54756176 -0.8411739 -0.3641748    -1.2687400    -0.0329690 -0.939246769\n",
       "[4,] -0.54756176  0.7852178  0.2971820     0.6650687     0.9909455  0.835259626\n",
       "     DiabetesPedigreeFunction Age       \n",
       "[1,] -0.087153064              0.9999050\n",
       "[2,] -0.002644813             -0.3606124\n",
       "[3,]  0.268988851             -1.0408711\n",
       "[4,] -0.431222370             -0.3606124"
      ]
     },
     "metadata": {},
     "output_type": "display_data"
    }
   ],
   "source": [
    "Medoid = model_pam$medoids[,c(-9)]\n",
    "Medoid"
   ]
  },
  {
   "cell_type": "markdown",
   "id": "716e81c9",
   "metadata": {},
   "source": [
    "For our kmeans model we will continue using the scaled data with 4 clusters, for better performance."
   ]
  },
  {
   "cell_type": "code",
   "execution_count": 1587,
   "id": "3f11ebfc",
   "metadata": {},
   "outputs": [
    {
     "data": {
      "text/html": [
       "<table>\n",
       "<thead><tr><th scope=col>Pregnancies</th><th scope=col>Glucose</th><th scope=col>BloodPressure</th><th scope=col>SkinThickness</th><th scope=col>Insulin</th><th scope=col>BMI</th><th scope=col>DiabetesPedigreeFunction</th><th scope=col>Age</th></tr></thead>\n",
       "<tbody>\n",
       "\t<tr><td>-0.6166964 </td><td>-0.01251737</td><td> 0.20100409</td><td> 0.85328948</td><td>-0.03148992</td><td> 1.01558624</td><td> 0.12545515</td><td>-0.4137576 </td></tr>\n",
       "\t<tr><td>-0.4513110 </td><td>-0.48466105</td><td>-0.51770190</td><td>-0.64893228</td><td>-0.20223383</td><td>-0.69411226</td><td>-0.16538030</td><td>-0.6237530 </td></tr>\n",
       "\t<tr><td> 0.1307767 </td><td> 1.26866719</td><td> 0.05862113</td><td> 0.48306319</td><td> 2.23377431</td><td> 0.49656578</td><td> 0.56989859</td><td> 0.2127485 </td></tr>\n",
       "\t<tr><td> 1.0308507 </td><td> 0.25157533</td><td> 0.50336089</td><td> 0.03579904</td><td>-0.40248125</td><td>-0.03559979</td><td>-0.05761257</td><td> 1.0732736 </td></tr>\n",
       "</tbody>\n",
       "</table>\n"
      ],
      "text/latex": [
       "\\begin{tabular}{r|llllllll}\n",
       " Pregnancies & Glucose & BloodPressure & SkinThickness & Insulin & BMI & DiabetesPedigreeFunction & Age\\\\\n",
       "\\hline\n",
       "\t -0.6166964  & -0.01251737 &  0.20100409 &  0.85328948 & -0.03148992 &  1.01558624 &  0.12545515 & -0.4137576 \\\\\n",
       "\t -0.4513110  & -0.48466105 & -0.51770190 & -0.64893228 & -0.20223383 & -0.69411226 & -0.16538030 & -0.6237530 \\\\\n",
       "\t  0.1307767  &  1.26866719 &  0.05862113 &  0.48306319 &  2.23377431 &  0.49656578 &  0.56989859 &  0.2127485 \\\\\n",
       "\t  1.0308507  &  0.25157533 &  0.50336089 &  0.03579904 & -0.40248125 & -0.03559979 & -0.05761257 &  1.0732736 \\\\\n",
       "\\end{tabular}\n"
      ],
      "text/markdown": [
       "\n",
       "| Pregnancies | Glucose | BloodPressure | SkinThickness | Insulin | BMI | DiabetesPedigreeFunction | Age |\n",
       "|---|---|---|---|---|---|---|---|\n",
       "| -0.6166964  | -0.01251737 |  0.20100409 |  0.85328948 | -0.03148992 |  1.01558624 |  0.12545515 | -0.4137576  |\n",
       "| -0.4513110  | -0.48466105 | -0.51770190 | -0.64893228 | -0.20223383 | -0.69411226 | -0.16538030 | -0.6237530  |\n",
       "|  0.1307767  |  1.26866719 |  0.05862113 |  0.48306319 |  2.23377431 |  0.49656578 |  0.56989859 |  0.2127485  |\n",
       "|  1.0308507  |  0.25157533 |  0.50336089 |  0.03579904 | -0.40248125 | -0.03559979 | -0.05761257 |  1.0732736  |\n",
       "\n"
      ],
      "text/plain": [
       "  Pregnancies Glucose     BloodPressure SkinThickness Insulin     BMI        \n",
       "1 -0.6166964  -0.01251737  0.20100409    0.85328948   -0.03148992  1.01558624\n",
       "2 -0.4513110  -0.48466105 -0.51770190   -0.64893228   -0.20223383 -0.69411226\n",
       "3  0.1307767   1.26866719  0.05862113    0.48306319    2.23377431  0.49656578\n",
       "4  1.0308507   0.25157533  0.50336089    0.03579904   -0.40248125 -0.03559979\n",
       "  DiabetesPedigreeFunction Age       \n",
       "1  0.12545515              -0.4137576\n",
       "2 -0.16538030              -0.6237530\n",
       "3  0.56989859               0.2127485\n",
       "4 -0.05761257               1.0732736"
      ]
     },
     "metadata": {},
     "output_type": "display_data"
    }
   ],
   "source": [
    "#Cluster centers in our kmeans model:\n",
    "Center = model_kmeans_4_scaled$center\n",
    "Center"
   ]
  },
  {
   "cell_type": "markdown",
   "id": "0aeec6cb",
   "metadata": {},
   "source": [
    "We will calculate the distance between each pair of a kmeans-center and a medoid by optaining the maximum distance amoung their dimensions."
   ]
  },
  {
   "cell_type": "code",
   "execution_count": 1588,
   "id": "ef492f74",
   "metadata": {},
   "outputs": [],
   "source": [
    "#function for measuaring the maximum difference amoung the dimensions\n",
    "max_dist <- function(a, b) max(abs(a - b))"
   ]
  },
  {
   "cell_type": "code",
   "execution_count": 1589,
   "id": "d9d50ae9",
   "metadata": {},
   "outputs": [],
   "source": [
    "# comparing distance of each pair of a center and a medoid \n",
    "distances = data.frame(matrix(ncol = 4, nrow = 4))\n",
    "distances = data.frame()\n",
    "min_distance = 10\n",
    "for (i in 1:4){\n",
    "    for (j in 1:4){\n",
    "        distances[i,j] = max_dist(as.vector(Center[i,]) , as.vector(Medoid[j,]))\n",
    "    }\n",
    "}"
   ]
  },
  {
   "cell_type": "code",
   "execution_count": 1590,
   "id": "a4ea0928",
   "metadata": {
    "scrolled": true
   },
   "outputs": [
    {
     "data": {
      "text/html": [
       "<table>\n",
       "<thead><tr><th></th><th scope=col>Medoid1</th><th scope=col>Medoid2</th><th scope=col>Medoid3</th><th scope=col>Medoid4</th></tr></thead>\n",
       "<tbody>\n",
       "\t<tr><th scope=row>Center1</th><td>1.8497730</td><td>1.0966701</td><td>2.1220295</td><td>1.022435 </td></tr>\n",
       "\t<tr><th scope=row>Center2</th><td>1.6843877</td><td>0.6489323</td><td>0.6198077</td><td>1.529372 </td></tr>\n",
       "\t<tr><th scope=row>Center3</th><td>2.9262136</td><td>2.9262136</td><td>2.2667433</td><td>1.242829 </td></tr>\n",
       "\t<tr><th scope=row>Center4</th><td>0.7838566</td><td>1.4338860</td><td>2.1141448</td><td>1.578412 </td></tr>\n",
       "</tbody>\n",
       "</table>\n"
      ],
      "text/latex": [
       "\\begin{tabular}{r|llll}\n",
       "  & Medoid1 & Medoid2 & Medoid3 & Medoid4\\\\\n",
       "\\hline\n",
       "\tCenter1 & 1.8497730 & 1.0966701 & 2.1220295 & 1.022435 \\\\\n",
       "\tCenter2 & 1.6843877 & 0.6489323 & 0.6198077 & 1.529372 \\\\\n",
       "\tCenter3 & 2.9262136 & 2.9262136 & 2.2667433 & 1.242829 \\\\\n",
       "\tCenter4 & 0.7838566 & 1.4338860 & 2.1141448 & 1.578412 \\\\\n",
       "\\end{tabular}\n"
      ],
      "text/markdown": [
       "\n",
       "| <!--/--> | Medoid1 | Medoid2 | Medoid3 | Medoid4 |\n",
       "|---|---|---|---|---|\n",
       "| Center1 | 1.8497730 | 1.0966701 | 2.1220295 | 1.022435  |\n",
       "| Center2 | 1.6843877 | 0.6489323 | 0.6198077 | 1.529372  |\n",
       "| Center3 | 2.9262136 | 2.9262136 | 2.2667433 | 1.242829  |\n",
       "| Center4 | 0.7838566 | 1.4338860 | 2.1141448 | 1.578412  |\n",
       "\n"
      ],
      "text/plain": [
       "        Medoid1   Medoid2   Medoid3   Medoid4 \n",
       "Center1 1.8497730 1.0966701 2.1220295 1.022435\n",
       "Center2 1.6843877 0.6489323 0.6198077 1.529372\n",
       "Center3 2.9262136 2.9262136 2.2667433 1.242829\n",
       "Center4 0.7838566 1.4338860 2.1141448 1.578412"
      ]
     },
     "metadata": {},
     "output_type": "display_data"
    }
   ],
   "source": [
    "colnames(distances) = c(\"Medoid1\", \"Medoid2\", \"Medoid3\", \"Medoid4\")\n",
    "rownames(distances) = c(\"Center1\", \"Center2\", \"Center3\", \"Center4\")\n",
    "distances"
   ]
  },
  {
   "cell_type": "markdown",
   "id": "8b33bc8e",
   "metadata": {},
   "source": [
    "A dataframe to show the distance between each pair on center-medoid."
   ]
  },
  {
   "cell_type": "code",
   "execution_count": 1591,
   "id": "c925dd55",
   "metadata": {},
   "outputs": [
    {
     "data": {
      "text/html": [
       "0.619807713044816"
      ],
      "text/latex": [
       "0.619807713044816"
      ],
      "text/markdown": [
       "0.619807713044816"
      ],
      "text/plain": [
       "[1] 0.6198077"
      ]
     },
     "metadata": {},
     "output_type": "display_data"
    }
   ],
   "source": [
    "min(distances)"
   ]
  },
  {
   "cell_type": "code",
   "execution_count": 1592,
   "id": "361e9580",
   "metadata": {},
   "outputs": [
    {
     "data": {
      "text/html": [
       "<dl class=dl-horizontal>\n",
       "\t<dt>Pregnancies</dt>\n",
       "\t\t<dd>0.0691346338087081</dd>\n",
       "\t<dt>Glucose</dt>\n",
       "\t\t<dd>0.828656509145334</dd>\n",
       "\t<dt>BloodPressure</dt>\n",
       "\t\t<dd>0.56517887109466</dd>\n",
       "\t<dt>SkinThickness</dt>\n",
       "\t\t<dd>2.12202947463584</dd>\n",
       "\t<dt>Insulin</dt>\n",
       "\t\t<dd>0.00147907519677148</dd>\n",
       "\t<dt>BMI</dt>\n",
       "\t\t<dd>1.95483300469438</dd>\n",
       "\t<dt>DiabetesPedigreeFunction</dt>\n",
       "\t\t<dd>0.14353369705378</dd>\n",
       "\t<dt>Age</dt>\n",
       "\t\t<dd>0.627113503206961</dd>\n",
       "</dl>\n"
      ],
      "text/latex": [
       "\\begin{description*}\n",
       "\\item[Pregnancies] 0.0691346338087081\n",
       "\\item[Glucose] 0.828656509145334\n",
       "\\item[BloodPressure] 0.56517887109466\n",
       "\\item[SkinThickness] 2.12202947463584\n",
       "\\item[Insulin] 0.00147907519677148\n",
       "\\item[BMI] 1.95483300469438\n",
       "\\item[DiabetesPedigreeFunction] 0.14353369705378\n",
       "\\item[Age] 0.627113503206961\n",
       "\\end{description*}\n"
      ],
      "text/markdown": [
       "Pregnancies\n",
       ":   0.0691346338087081Glucose\n",
       ":   0.828656509145334BloodPressure\n",
       ":   0.56517887109466SkinThickness\n",
       ":   2.12202947463584Insulin\n",
       ":   0.00147907519677148BMI\n",
       ":   1.95483300469438DiabetesPedigreeFunction\n",
       ":   0.14353369705378Age\n",
       ":   0.627113503206961\n",
       "\n"
      ],
      "text/plain": [
       "             Pregnancies                  Glucose            BloodPressure \n",
       "             0.069134634              0.828656509              0.565178871 \n",
       "           SkinThickness                  Insulin                      BMI \n",
       "             2.122029475              0.001479075              1.954833005 \n",
       "DiabetesPedigreeFunction                      Age \n",
       "             0.143533697              0.627113503 "
      ]
     },
     "metadata": {},
     "output_type": "display_data"
    }
   ],
   "source": [
    "#maximum diference in dimensions\n",
    "abs(Center[1,] - Medoid[3,])"
   ]
  },
  {
   "cell_type": "markdown",
   "id": "7c3d09d0",
   "metadata": {},
   "source": [
    "***Discussion:*** \\\n",
    "Center 2 from our kmeans model and Medoid 3 from our kmedoids model are the closes cluster centers to each other, and they have the largest difference in dimensions, in **SkinThickness** variable."
   ]
  },
  {
   "cell_type": "markdown",
   "id": "ee3a57db",
   "metadata": {},
   "source": [
    "<font size=\"3\"> **Part 1.16:**</font> "
   ]
  },
  {
   "cell_type": "markdown",
   "id": "ae1db294",
   "metadata": {},
   "source": [
    " <font size=\"5\"> **T-SNE**</font> "
   ]
  },
  {
   "cell_type": "markdown",
   "id": "cefb0d1e",
   "metadata": {},
   "source": [
    "We need to use data in a matrix format for tsne."
   ]
  },
  {
   "cell_type": "code",
   "execution_count": 1568,
   "id": "67767e4f",
   "metadata": {},
   "outputs": [
    {
     "name": "stdout",
     "output_type": "stream",
     "text": [
      "     Pregnancies Glucose BloodPressure SkinThickness Insulin  BMI\n",
      "[1,]           6     148            72      35.00000       0 33.6\n",
      "[2,]           1      85            66      29.00000       0 26.6\n",
      "[3,]           8     183            64      29.15342       0 23.3\n",
      "[4,]           1      89            66      23.00000      94 28.1\n",
      "[5,]           0     137            40      35.00000     168 43.1\n",
      "[6,]           5     116            74      29.15342       0 25.6\n",
      "     DiabetesPedigreeFunction Age\n",
      "[1,]                    0.627  50\n",
      "[2,]                    0.351  31\n",
      "[3,]                    0.672  32\n",
      "[4,]                    0.167  21\n",
      "[5,]                    2.288  33\n",
      "[6,]                    0.201  30\n"
     ]
    }
   ],
   "source": [
    "library('Rtsne')\n",
    "db_matrix = as.matrix(db[,c(-9)])\n",
    "print( head( db_matrix ) )"
   ]
  },
  {
   "cell_type": "code",
   "execution_count": 1569,
   "id": "e46a6fcf",
   "metadata": {},
   "outputs": [
    {
     "data": {
      "text/html": [
       "<ol class=list-inline>\n",
       "\t<li>'N'</li>\n",
       "\t<li>'Y'</li>\n",
       "\t<li>'costs'</li>\n",
       "\t<li>'itercosts'</li>\n",
       "\t<li>'origD'</li>\n",
       "\t<li>'perplexity'</li>\n",
       "\t<li>'theta'</li>\n",
       "\t<li>'max_iter'</li>\n",
       "\t<li>'stop_lying_iter'</li>\n",
       "\t<li>'mom_switch_iter'</li>\n",
       "\t<li>'momentum'</li>\n",
       "\t<li>'final_momentum'</li>\n",
       "\t<li>'eta'</li>\n",
       "\t<li>'exaggeration_factor'</li>\n",
       "</ol>\n"
      ],
      "text/latex": [
       "\\begin{enumerate*}\n",
       "\\item 'N'\n",
       "\\item 'Y'\n",
       "\\item 'costs'\n",
       "\\item 'itercosts'\n",
       "\\item 'origD'\n",
       "\\item 'perplexity'\n",
       "\\item 'theta'\n",
       "\\item 'max\\_iter'\n",
       "\\item 'stop\\_lying\\_iter'\n",
       "\\item 'mom\\_switch\\_iter'\n",
       "\\item 'momentum'\n",
       "\\item 'final\\_momentum'\n",
       "\\item 'eta'\n",
       "\\item 'exaggeration\\_factor'\n",
       "\\end{enumerate*}\n"
      ],
      "text/markdown": [
       "1. 'N'\n",
       "2. 'Y'\n",
       "3. 'costs'\n",
       "4. 'itercosts'\n",
       "5. 'origD'\n",
       "6. 'perplexity'\n",
       "7. 'theta'\n",
       "8. 'max_iter'\n",
       "9. 'stop_lying_iter'\n",
       "10. 'mom_switch_iter'\n",
       "11. 'momentum'\n",
       "12. 'final_momentum'\n",
       "13. 'eta'\n",
       "14. 'exaggeration_factor'\n",
       "\n",
       "\n"
      ],
      "text/plain": [
       " [1] \"N\"                   \"Y\"                   \"costs\"              \n",
       " [4] \"itercosts\"           \"origD\"               \"perplexity\"         \n",
       " [7] \"theta\"               \"max_iter\"            \"stop_lying_iter\"    \n",
       "[10] \"mom_switch_iter\"     \"momentum\"            \"final_momentum\"     \n",
       "[13] \"eta\"                 \"exaggeration_factor\""
      ]
     },
     "metadata": {},
     "output_type": "display_data"
    }
   ],
   "source": [
    "tsne_out = Rtsne(db_matrix,pca=FALSE,perplexity=10,theta=0.2)\n",
    "names(tsne_out)"
   ]
  },
  {
   "cell_type": "markdown",
   "id": "6d039f3a",
   "metadata": {},
   "source": [
    "We see in the plot below that coloring our tsne points based on the outcome column of our data does not exhibit any visual clustering."
   ]
  },
  {
   "cell_type": "code",
   "execution_count": 1570,
   "id": "9d7c65ec",
   "metadata": {},
   "outputs": [
    {
     "data": {
      "image/png": "[encoded data removed]",
      "text/plain": [
       "Plot with title \"T-SNE of diabetes data\""
      ]
     },
     "metadata": {},
     "output_type": "display_data"
    }
   ],
   "source": [
    "plot(tsne_out$Y,col=db$Outcome,main='T-SNE of diabetes data')"
   ]
  },
  {
   "cell_type": "markdown",
   "id": "42246231",
   "metadata": {},
   "source": [
    "Now let's plot our tsne ys and color our scatter plot based on the kmeans model clusters that we had in previous section."
   ]
  },
  {
   "cell_type": "code",
   "execution_count": 1573,
   "id": "565474b4",
   "metadata": {},
   "outputs": [
    {
     "data": {
      "image/png": "[encoded data removed]",
      "text/plain": [
       "Plot with title \"T-SNE of diabetes data\""
      ]
     },
     "metadata": {},
     "output_type": "display_data"
    }
   ],
   "source": [
    "plot(tsne_out$Y,col=model_kmeans_4$cluster,main='T-SNE of diabetes data')"
   ]
  },
  {
   "cell_type": "markdown",
   "id": "37ae8f9f",
   "metadata": {},
   "source": [
    "***Discussion:*** \\\n",
    "We see that there are some clear boundaries between our tsne data points colored by our kmeans model clusters. However the cluster sizes are pretty different."
   ]
  },
  {
   "cell_type": "markdown",
   "id": "203bd355",
   "metadata": {},
   "source": [
    "Now we will perform kmeans on the result of the tsne to see if it performs better than our regular clustering."
   ]
  },
  {
   "cell_type": "code",
   "execution_count": 1574,
   "id": "73a8e961",
   "metadata": {},
   "outputs": [
    {
     "data": {
      "text/html": [
       "<ol class=list-inline>\n",
       "\t<li>'cluster'</li>\n",
       "\t<li>'centers'</li>\n",
       "\t<li>'totss'</li>\n",
       "\t<li>'withinss'</li>\n",
       "\t<li>'tot.withinss'</li>\n",
       "\t<li>'betweenss'</li>\n",
       "\t<li>'size'</li>\n",
       "\t<li>'iter'</li>\n",
       "\t<li>'ifault'</li>\n",
       "</ol>\n"
      ],
      "text/latex": [
       "\\begin{enumerate*}\n",
       "\\item 'cluster'\n",
       "\\item 'centers'\n",
       "\\item 'totss'\n",
       "\\item 'withinss'\n",
       "\\item 'tot.withinss'\n",
       "\\item 'betweenss'\n",
       "\\item 'size'\n",
       "\\item 'iter'\n",
       "\\item 'ifault'\n",
       "\\end{enumerate*}\n"
      ],
      "text/markdown": [
       "1. 'cluster'\n",
       "2. 'centers'\n",
       "3. 'totss'\n",
       "4. 'withinss'\n",
       "5. 'tot.withinss'\n",
       "6. 'betweenss'\n",
       "7. 'size'\n",
       "8. 'iter'\n",
       "9. 'ifault'\n",
       "\n",
       "\n"
      ],
      "text/plain": [
       "[1] \"cluster\"      \"centers\"      \"totss\"        \"withinss\"     \"tot.withinss\"\n",
       "[6] \"betweenss\"    \"size\"         \"iter\"         \"ifault\"      "
      ]
     },
     "metadata": {},
     "output_type": "display_data"
    }
   ],
   "source": [
    "tk = kmeans((tsne_out$Y),4)\n",
    "names(tk)"
   ]
  },
  {
   "cell_type": "markdown",
   "id": "bb1d166c",
   "metadata": {},
   "source": [
    "Check out tk centers and clusters"
   ]
  },
  {
   "cell_type": "code",
   "execution_count": 1575,
   "id": "174fbae7",
   "metadata": {},
   "outputs": [
    {
     "data": {
      "text/html": [
       "<table>\n",
       "<tbody>\n",
       "\t<tr><td>-18.053375</td><td> 38.465996</td></tr>\n",
       "\t<tr><td>  8.945173</td><td>-39.658054</td></tr>\n",
       "\t<tr><td>-41.629989</td><td> -2.009515</td></tr>\n",
       "\t<tr><td> 51.672146</td><td>  6.029602</td></tr>\n",
       "</tbody>\n",
       "</table>\n"
      ],
      "text/latex": [
       "\\begin{tabular}{r|ll}\n",
       "\t -18.053375 &  38.465996\\\\\n",
       "\t   8.945173 & -39.658054\\\\\n",
       "\t -41.629989 &  -2.009515\\\\\n",
       "\t  51.672146 &   6.029602\\\\\n",
       "\\end{tabular}\n"
      ],
      "text/markdown": [
       "\n",
       "| -18.053375 |  38.465996 |\n",
       "|   8.945173 | -39.658054 |\n",
       "| -41.629989 |  -2.009515 |\n",
       "|  51.672146 |   6.029602 |\n",
       "\n"
      ],
      "text/plain": [
       "  [,1]       [,2]      \n",
       "1 -18.053375  38.465996\n",
       "2   8.945173 -39.658054\n",
       "3 -41.629989  -2.009515\n",
       "4  51.672146   6.029602"
      ]
     },
     "metadata": {},
     "output_type": "display_data"
    }
   ],
   "source": [
    "tk$center"
   ]
  },
  {
   "cell_type": "code",
   "execution_count": 1576,
   "id": "be5b05c8",
   "metadata": {},
   "outputs": [
    {
     "data": {
      "text/html": [
       "<ol class=list-inline>\n",
       "\t<li>1</li>\n",
       "\t<li>3</li>\n",
       "\t<li>1</li>\n",
       "\t<li>2</li>\n",
       "\t<li>4</li>\n",
       "\t<li>3</li>\n",
       "</ol>\n"
      ],
      "text/latex": [
       "\\begin{enumerate*}\n",
       "\\item 1\n",
       "\\item 3\n",
       "\\item 1\n",
       "\\item 2\n",
       "\\item 4\n",
       "\\item 3\n",
       "\\end{enumerate*}\n"
      ],
      "text/markdown": [
       "1. 1\n",
       "2. 3\n",
       "3. 1\n",
       "4. 2\n",
       "5. 4\n",
       "6. 3\n",
       "\n",
       "\n"
      ],
      "text/plain": [
       "[1] 1 3 1 2 4 3"
      ]
     },
     "metadata": {},
     "output_type": "display_data"
    }
   ],
   "source": [
    "head(tk$cluster)"
   ]
  },
  {
   "cell_type": "markdown",
   "id": "678e624c",
   "metadata": {},
   "source": [
    "plot tsne again, this time color the data points with clusters of our new kmeans model tk."
   ]
  },
  {
   "cell_type": "code",
   "execution_count": 1577,
   "id": "88c928c9",
   "metadata": {},
   "outputs": [
    {
     "data": {
      "image/png": "[encoded data removed]",
      "text/plain": [
       "plot without title"
      ]
     },
     "metadata": {},
     "output_type": "display_data"
    }
   ],
   "source": [
    "plot( (tsne_out$Y), col=tk$cluster ) "
   ]
  },
  {
   "cell_type": "markdown",
   "id": "0846685d",
   "metadata": {},
   "source": [
    "***Discussion:*** \\\n",
    "Visually there is cleaner boundaries in clustering and it has divided the data points into 4 similar size clusters. "
   ]
  },
  {
   "cell_type": "markdown",
   "id": "2aa81ad2",
   "metadata": {},
   "source": [
    "Contingency table for our data "
   ]
  },
  {
   "cell_type": "code",
   "execution_count": 1578,
   "id": "9331feb3",
   "metadata": {
    "scrolled": true
   },
   "outputs": [
    {
     "data": {
      "text/plain": [
       "   \n",
       "      1   2   3   4\n",
       "  0  74 164 169  93\n",
       "  1 101  25  39 103"
      ]
     },
     "metadata": {},
     "output_type": "display_data"
    }
   ],
   "source": [
    "table(db$Outcome, tk$cluster)"
   ]
  },
  {
   "cell_type": "code",
   "execution_count": 1579,
   "id": "a91fc395",
   "metadata": {},
   "outputs": [
    {
     "data": {
      "text/html": [
       "0.69921875"
      ],
      "text/latex": [
       "0.69921875"
      ],
      "text/markdown": [
       "0.69921875"
      ],
      "text/plain": [
       "[1] 0.6992188"
      ]
     },
     "metadata": {},
     "output_type": "display_data"
    }
   ],
   "source": [
    "accuracy = (101+164+169+103)/768\n",
    "accuracy"
   ]
  },
  {
   "cell_type": "markdown",
   "id": "fa81be46",
   "metadata": {},
   "source": [
    "***Discussion:*** \\\n",
    "The accuracy of our kmeans model on the tsne output is better than the accuracy of the kmeans model on our data, this could mean that using tsne has helped our kmean model to cluster our data better, because tsne has converted the high-dimensional dataset to a 2 dimensional one which would be easier to cluster. However the accuracy of our tk kmeans model is similar to the regular kmeans model using scaled data. This could mean that scaling our data also can help our kmeans model to evaluate the distances between our data point in multi dimensional space much better."
   ]
  },
  {
   "cell_type": "markdown",
   "id": "70c1939a",
   "metadata": {},
   "source": [
    "<font size=\"3\"> **Part 1.17:**</font> "
   ]
  },
  {
   "cell_type": "markdown",
   "id": "33aaa0e7",
   "metadata": {},
   "source": [
    "Here we have the center of our clusters in the kmedoids model:"
   ]
  },
  {
   "cell_type": "code",
   "execution_count": 1615,
   "id": "45b22e66",
   "metadata": {
    "scrolled": true
   },
   "outputs": [
    {
     "data": {
      "text/html": [
       "<table>\n",
       "<thead><tr><th scope=col>Pregnancies</th><th scope=col>Glucose</th><th scope=col>BloodPressure</th><th scope=col>SkinThickness</th><th scope=col>Insulin</th><th scope=col>BMI</th><th scope=col>DiabetesPedigreeFunction</th><th scope=col>Age</th></tr></thead>\n",
       "<tbody>\n",
       "\t<tr><td> 1.23307662 </td><td> 1.0354319  </td><td> 0.4625211  </td><td> 0.3238084  </td><td>-0.6924393  </td><td>-0.008358168</td><td>-0.087153064</td><td> 0.9999050  </td></tr>\n",
       "\t<tr><td> 0.04598437 </td><td>-0.3407457  </td><td>-0.5295140  </td><td> 0.0000000  </td><td>-0.6924393  </td><td>-0.081083840</td><td>-0.002644813</td><td>-0.3606124  </td></tr>\n",
       "\t<tr><td>-0.54756176 </td><td>-0.8411739  </td><td>-0.3641748  </td><td>-1.2687400  </td><td>-0.0329690  </td><td>-0.939246769</td><td> 0.268988851</td><td>-1.0408711  </td></tr>\n",
       "\t<tr><td>-0.54756176 </td><td> 0.7852178  </td><td> 0.2971820  </td><td> 0.6650687  </td><td> 0.9909455  </td><td> 0.835259626</td><td>-0.431222370</td><td>-0.3606124  </td></tr>\n",
       "</tbody>\n",
       "</table>\n"
      ],
      "text/latex": [
       "\\begin{tabular}{llllllll}\n",
       " Pregnancies & Glucose & BloodPressure & SkinThickness & Insulin & BMI & DiabetesPedigreeFunction & Age\\\\\n",
       "\\hline\n",
       "\t  1.23307662  &  1.0354319   &  0.4625211   &  0.3238084   & -0.6924393   & -0.008358168 & -0.087153064 &  0.9999050  \\\\\n",
       "\t  0.04598437  & -0.3407457   & -0.5295140   &  0.0000000   & -0.6924393   & -0.081083840 & -0.002644813 & -0.3606124  \\\\\n",
       "\t -0.54756176  & -0.8411739   & -0.3641748   & -1.2687400   & -0.0329690   & -0.939246769 &  0.268988851 & -1.0408711  \\\\\n",
       "\t -0.54756176  &  0.7852178   &  0.2971820   &  0.6650687   &  0.9909455   &  0.835259626 & -0.431222370 & -0.3606124  \\\\\n",
       "\\end{tabular}\n"
      ],
      "text/markdown": [
       "\n",
       "| Pregnancies | Glucose | BloodPressure | SkinThickness | Insulin | BMI | DiabetesPedigreeFunction | Age |\n",
       "|---|---|---|---|---|---|---|---|\n",
       "|  1.23307662  |  1.0354319   |  0.4625211   |  0.3238084   | -0.6924393   | -0.008358168 | -0.087153064 |  0.9999050   |\n",
       "|  0.04598437  | -0.3407457   | -0.5295140   |  0.0000000   | -0.6924393   | -0.081083840 | -0.002644813 | -0.3606124   |\n",
       "| -0.54756176  | -0.8411739   | -0.3641748   | -1.2687400   | -0.0329690   | -0.939246769 |  0.268988851 | -1.0408711   |\n",
       "| -0.54756176  |  0.7852178   |  0.2971820   |  0.6650687   |  0.9909455   |  0.835259626 | -0.431222370 | -0.3606124   |\n",
       "\n"
      ],
      "text/plain": [
       "     Pregnancies Glucose    BloodPressure SkinThickness Insulin    BMI         \n",
       "[1,]  1.23307662  1.0354319  0.4625211     0.3238084    -0.6924393 -0.008358168\n",
       "[2,]  0.04598437 -0.3407457 -0.5295140     0.0000000    -0.6924393 -0.081083840\n",
       "[3,] -0.54756176 -0.8411739 -0.3641748    -1.2687400    -0.0329690 -0.939246769\n",
       "[4,] -0.54756176  0.7852178  0.2971820     0.6650687     0.9909455  0.835259626\n",
       "     DiabetesPedigreeFunction Age       \n",
       "[1,] -0.087153064              0.9999050\n",
       "[2,] -0.002644813             -0.3606124\n",
       "[3,]  0.268988851             -1.0408711\n",
       "[4,] -0.431222370             -0.3606124"
      ]
     },
     "metadata": {},
     "output_type": "display_data"
    }
   ],
   "source": [
    "Medoid"
   ]
  },
  {
   "cell_type": "markdown",
   "id": "73a0dea0",
   "metadata": {},
   "source": [
    "Now we will calculate the distance of each of our data points to our four medoids. Then we will get the sum of squares of each data point to the 4 medoids. Finally we will find the maximum number. This would be the subject that has the largest sum of square distance to our 4 medoids, and therefore has the biggest contribution to our cluster centers."
   ]
  },
  {
   "cell_type": "code",
   "execution_count": 1689,
   "id": "768d186b",
   "metadata": {
    "scrolled": true
   },
   "outputs": [
    {
     "data": {
      "text/html": [
       "<table>\n",
       "<thead><tr><th></th><th scope=col>Pregnancies</th><th scope=col>Glucose</th><th scope=col>BloodPressure</th><th scope=col>SkinThickness</th><th scope=col>Insulin</th><th scope=col>BMI</th><th scope=col>DiabetesPedigreeFunction</th><th scope=col>Age</th><th scope=col>Outcome</th></tr></thead>\n",
       "<tbody>\n",
       "\t<tr><th scope=row>14</th><td>1    </td><td>189  </td><td>60   </td><td>23   </td><td>846  </td><td>30.1 </td><td>0.398</td><td>59   </td><td>1    </td></tr>\n",
       "</tbody>\n",
       "</table>\n"
      ],
      "text/latex": [
       "\\begin{tabular}{r|lllllllll}\n",
       "  & Pregnancies & Glucose & BloodPressure & SkinThickness & Insulin & BMI & DiabetesPedigreeFunction & Age & Outcome\\\\\n",
       "\\hline\n",
       "\t14 & 1     & 189   & 60    & 23    & 846   & 30.1  & 0.398 & 59    & 1    \\\\\n",
       "\\end{tabular}\n"
      ],
      "text/markdown": [
       "\n",
       "| <!--/--> | Pregnancies | Glucose | BloodPressure | SkinThickness | Insulin | BMI | DiabetesPedigreeFunction | Age | Outcome |\n",
       "|---|---|---|---|---|---|---|---|---|---|\n",
       "| 14 | 1     | 189   | 60    | 23    | 846   | 30.1  | 0.398 | 59    | 1     |\n",
       "\n"
      ],
      "text/plain": [
       "   Pregnancies Glucose BloodPressure SkinThickness Insulin BMI \n",
       "14 1           189     60            23            846     30.1\n",
       "   DiabetesPedigreeFunction Age Outcome\n",
       "14 0.398                    59  1      "
      ]
     },
     "metadata": {},
     "output_type": "display_data"
    },
    {
     "data": {
      "text/html": [
       "3040296.88300279"
      ],
      "text/latex": [
       "3040296.88300279"
      ],
      "text/markdown": [
       "3040296.88300279"
      ],
      "text/plain": [
       "[1] 3040297"
      ]
     },
     "metadata": {},
     "output_type": "display_data"
    }
   ],
   "source": [
    "df1 = db[, 1:8] - Medoid[1,]\n",
    "df2 = db[, 1:8] - Medoid[2,]\n",
    "df3 = db[, 1:8] - Medoid[3,]\n",
    "df4 = db[, 1:8] - Medoid[4,]\n",
    "SSD = rowSums(df1^2) + rowSums(df2^2) + rowSums(df3^2) + rowSums(df4^2)\n",
    "db[which.max(SSD),]\n",
    "max(SSD)"
   ]
  },
  {
   "cell_type": "markdown",
   "id": "440022c2",
   "metadata": {},
   "source": [
    "Data number 4 has the maximum sum of square distance to our 4 medoids."
   ]
  },
  {
   "cell_type": "markdown",
   "id": "b1fdcb90",
   "metadata": {},
   "source": [
    "Let's see what our logistic regression output is for this data point"
   ]
  },
  {
   "cell_type": "code",
   "execution_count": 1694,
   "id": "aaf0addb",
   "metadata": {},
   "outputs": [
    {
     "data": {
      "text/html": [
       "'The predicted probability of datapoint number 14 in our logistic regression model is: 0.570112627099944'"
      ],
      "text/latex": [
       "'The predicted probability of datapoint number 14 in our logistic regression model is: 0.570112627099944'"
      ],
      "text/markdown": [
       "'The predicted probability of datapoint number 14 in our logistic regression model is: 0.570112627099944'"
      ],
      "text/plain": [
       "[1] \"The predicted probability of datapoint number 14 in our logistic regression model is: 0.570112627099944\""
      ]
     },
     "metadata": {},
     "output_type": "display_data"
    },
    {
     "data": {
      "text/html": [
       "'The predicted outcome of datapoint number 14 in our logistic regression model is: 1'"
      ],
      "text/latex": [
       "'The predicted outcome of datapoint number 14 in our logistic regression model is: 1'"
      ],
      "text/markdown": [
       "'The predicted outcome of datapoint number 14 in our logistic regression model is: 1'"
      ],
      "text/plain": [
       "[1] \"The predicted outcome of datapoint number 14 in our logistic regression model is: 1\""
      ]
     },
     "metadata": {},
     "output_type": "display_data"
    }
   ],
   "source": [
    "model_log_1<- glm(Outcome ~ ., data = db, family = \"binomial\")\n",
    "predicted_prob_1 = predict(model_log_1,type=\"response\")\n",
    "predicted_outcome_1 = ifelse(predicted_prob_1 <0.5, 0, 1)\n",
    "paste(\"The predicted probability of datapoint number 14 in our logistic regression model is:\", predicted_prob_1[14])\n",
    "paste(\"The predicted outcome of datapoint number 14 in our logistic regression model is:\", predicted_outcome_1[14])"
   ]
  },
  {
   "cell_type": "code",
   "execution_count": 1677,
   "id": "d9d839f8",
   "metadata": {},
   "outputs": [],
   "source": []
  },
  {
   "cell_type": "code",
   "execution_count": null,
   "id": "2151edc2",
   "metadata": {},
   "outputs": [],
   "source": []
  },
  {
   "cell_type": "code",
   "execution_count": null,
   "id": "2119c090",
   "metadata": {},
   "outputs": [],
   "source": []
  },
  {
   "cell_type": "code",
   "execution_count": null,
   "id": "ddedaf42",
   "metadata": {},
   "outputs": [],
   "source": []
  },
  {
   "cell_type": "code",
   "execution_count": null,
   "id": "393d100d",
   "metadata": {},
   "outputs": [],
   "source": []
  },
  {
   "cell_type": "code",
   "execution_count": null,
   "id": "2402911f",
   "metadata": {},
   "outputs": [],
   "source": []
  }
 ],
 "metadata": {
  "kernelspec": {
   "display_name": "R",
   "language": "R",
   "name": "ir"
  },
  "language_info": {
   "codemirror_mode": "r",
   "file_extension": ".r",
   "mimetype": "text/x-r-source",
   "name": "R",
   "pygments_lexer": "r",
   "version": "4.3.1"
  }
 },
 "nbformat": 4,
 "nbformat_minor": 5
}
